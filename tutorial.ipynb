{
 "metadata": {
  "language_info": {
   "codemirror_mode": {
    "name": "ipython",
    "version": 3
   },
   "file_extension": ".py",
   "mimetype": "text/x-python",
   "name": "python",
   "nbconvert_exporter": "python",
   "pygments_lexer": "ipython3",
   "version": "3.7.9-final"
  },
  "orig_nbformat": 2,
  "kernelspec": {
   "name": "python3",
   "display_name": "Python 3.7.9 64-bit ('nam': conda)",
   "metadata": {
    "interpreter": {
     "hash": "72dcab71910be8175790488ca8066d52b5206e956c78bd58afc0f3f15daf3d5c"
    }
   }
  }
 },
 "nbformat": 4,
 "nbformat_minor": 2,
 "cells": [
  {
   "cell_type": "code",
   "execution_count": 1,
   "metadata": {},
   "outputs": [],
   "source": [
    "%reload_ext autoreload\n",
    "%autoreload 2\n",
    "%matplotlib inline"
   ]
  },
  {
   "cell_type": "code",
   "execution_count": 2,
   "metadata": {},
   "outputs": [],
   "source": [
    "import time\n",
    "import json\n",
    "import os\n",
    "import random\n",
    "from typing import Dict, Iterator, List, Tuple\n",
    "\n",
    "import numpy as np\n",
    "import pandas as pd\n",
    "import torch\n",
    "from torch.utils.data import DataLoader\n",
    "from loguru import logger\n",
    "from sklearn.datasets import load_breast_cancer\n",
    "\n",
    "from nam.config.default import defaults\n",
    "from nam.types import Config\n",
    "from nam.utils.args import parse_args\n",
    "from nam.data.base import NAMDataset"
   ]
  },
  {
   "cell_type": "code",
   "execution_count": 3,
   "metadata": {},
   "outputs": [
    {
     "output_type": "execute_result",
     "data": {
      "text/plain": [
       "namespace(device='cpu',\n",
       "          logdir='logs',\n",
       "          lr=0.01,\n",
       "          batch_size=1024,\n",
       "          l2_regularization=0.0,\n",
       "          output_regularization=0.0,\n",
       "          decay_rate=0.995,\n",
       "          dropout=0.5,\n",
       "          feature_dropout=0.0,\n",
       "          data_split=1,\n",
       "          seed=1377,\n",
       "          num_basis_functions=1000,\n",
       "          units_multiplier=2,\n",
       "          cross_val=False,\n",
       "          max_checkpoints_to_keep=1,\n",
       "          save_checkpoint_every_n_epochs=10,\n",
       "          n_models=1,\n",
       "          num_splits=3,\n",
       "          fold_num=1,\n",
       "          activation='exu',\n",
       "          regression=False,\n",
       "          debug=False,\n",
       "          shallow=False,\n",
       "          use_dnn=False,\n",
       "          early_stopping_epochs=60,\n",
       "          n_folds=5)"
      ]
     },
     "metadata": {},
     "execution_count": 3
    }
   ],
   "source": [
    "config = defaults()\n",
    "config"
   ]
  },
  {
   "source": [
    "## GALLUP Data"
   ],
   "cell_type": "markdown",
   "metadata": {}
  },
  {
   "cell_type": "code",
   "execution_count": 4,
   "metadata": {},
   "outputs": [],
   "source": [
    "features_columns = [\"income_2\", \"WP1219\", \"WP1220\", \"weo_gdpc_con_ppp\"]\n",
    "targets_column = [\"WP16\"]\n",
    "weights_column = [\"wgt\"]"
   ]
  },
  {
   "cell_type": "code",
   "execution_count": 5,
   "metadata": {},
   "outputs": [
    {
     "output_type": "execute_result",
     "data": {
      "text/plain": [
       "<nam.data.base.NAMDataset at 0x7f82a16dfa50>"
      ]
     },
     "metadata": {},
     "execution_count": 5
    }
   ],
   "source": [
    "dataset = NAMDataset(config=config,\n",
    "                    csv_file='data/GALLUP.csv',\n",
    "                    features_columns=features_columns,\n",
    "                    targets_column=targets_column,\n",
    "                    weights_column=weights_column)\n",
    "dataset"
   ]
  },
  {
   "cell_type": "code",
   "execution_count": 6,
   "metadata": {},
   "outputs": [],
   "source": [
    "dl = DataLoader(dataset, batch_size=32, shuffle=True)"
   ]
  },
  {
   "cell_type": "code",
   "execution_count": 7,
   "metadata": {},
   "outputs": [],
   "source": [
    "batch = next(iter(dl))"
   ]
  },
  {
   "cell_type": "code",
   "execution_count": 8,
   "metadata": {},
   "outputs": [
    {
     "output_type": "execute_result",
     "data": {
      "text/plain": [
       "[tensor([[1.2130e+03, 1.0000e+00, 6.0000e+01, 1.3734e+04],\n",
       "         [7.1340e+03, 2.0000e+00, 2.5000e+01, 1.6296e+03],\n",
       "         [1.6436e+03, 2.0000e+00, 2.9000e+01, 2.6061e+03],\n",
       "         [1.2569e+04, 1.0000e+00, 4.0000e+01, 1.5691e+04],\n",
       "         [7.7961e+02, 1.0000e+00, 2.2000e+01, 1.4847e+03],\n",
       "         [5.4786e+04, 2.0000e+00, 3.0000e+01, 2.6930e+04],\n",
       "         [1.3918e+03, 1.0000e+00, 2.8000e+01, 1.1867e+04],\n",
       "         [1.0856e+04, 1.0000e+00, 4.2000e+01, 8.8024e+03],\n",
       "         [3.2712e+04, 1.0000e+00, 2.1000e+01, 3.7308e+04],\n",
       "         [3.9081e+04, 2.0000e+00, 6.9000e+01, 3.6459e+04],\n",
       "         [7.0829e+03, 1.0000e+00, 3.2000e+01, 1.8460e+03],\n",
       "         [1.7803e+04, 2.0000e+00, 3.7000e+01, 1.2636e+04],\n",
       "         [3.1427e+03, 1.0000e+00, 2.5000e+01,        nan],\n",
       "         [6.1213e+05, 1.0000e+00, 4.1000e+01, 3.8694e+04],\n",
       "         [1.0300e+04, 1.0000e+00, 2.5000e+01, 1.2651e+04],\n",
       "         [2.3491e+04, 1.0000e+00, 6.9000e+01, 4.0378e+04],\n",
       "         [2.0040e+04, 2.0000e+00, 4.4000e+01, 2.9519e+04],\n",
       "         [9.3342e+03, 2.0000e+00, 3.5000e+01, 1.9048e+04],\n",
       "         [5.1231e+03, 2.0000e+00, 2.0000e+01, 1.5219e+04],\n",
       "         [2.6748e+04, 2.0000e+00, 4.7000e+01, 4.5359e+04],\n",
       "         [2.2293e+03, 2.0000e+00, 4.9000e+01, 3.1758e+03],\n",
       "         [6.0954e+03, 1.0000e+00, 2.8000e+01, 7.0050e+03],\n",
       "         [2.7002e+04, 2.0000e+00, 5.9000e+01, 1.0368e+04],\n",
       "         [7.0539e+03, 2.0000e+00, 3.1000e+01, 4.1797e+03],\n",
       "         [9.4749e+04, 2.0000e+00, 3.0000e+01, 9.6892e+04],\n",
       "         [2.4551e+05, 1.0000e+00, 2.4000e+01, 4.3465e+04],\n",
       "         [2.1252e+04, 2.0000e+00, 5.8000e+01, 1.9711e+04],\n",
       "         [1.0386e+04, 1.0000e+00, 2.3000e+01, 1.4652e+03],\n",
       "         [4.9248e+03, 2.0000e+00, 1.5000e+01, 1.2992e+04],\n",
       "         [5.9925e+04, 1.0000e+00, 5.7000e+01, 2.5129e+04],\n",
       "         [7.1092e+03, 1.0000e+00, 5.0000e+01, 1.1022e+04],\n",
       "         [4.2134e+04, 1.0000e+00, 6.2000e+01, 4.0894e+04]], dtype=torch.float64),\n",
       " tensor([[1.4833],\n",
       "         [1.0082],\n",
       "         [1.9666],\n",
       "         [0.4504],\n",
       "         [0.8658],\n",
       "         [1.2036],\n",
       "         [3.3236],\n",
       "         [1.1577],\n",
       "         [1.3529],\n",
       "         [0.4052],\n",
       "         [0.2542],\n",
       "         [0.3504],\n",
       "         [0.3919],\n",
       "         [0.4566],\n",
       "         [1.8040],\n",
       "         [0.4346],\n",
       "         [1.2923],\n",
       "         [0.5987],\n",
       "         [0.5103],\n",
       "         [0.7883],\n",
       "         [0.9019],\n",
       "         [0.7918],\n",
       "         [0.9406],\n",
       "         [1.1183],\n",
       "         [0.6797],\n",
       "         [2.0955],\n",
       "         [0.5640],\n",
       "         [0.2871],\n",
       "         [1.7106],\n",
       "         [0.8542],\n",
       "         [1.1067],\n",
       "         [1.8363]], dtype=torch.float64),\n",
       " tensor([[ 4],\n",
       "         [ 4],\n",
       "         [ 0],\n",
       "         [ 7],\n",
       "         [ 2],\n",
       "         [ 5],\n",
       "         [ 2],\n",
       "         [ 6],\n",
       "         [ 8],\n",
       "         [ 9],\n",
       "         [ 5],\n",
       "         [ 7],\n",
       "         [ 6],\n",
       "         [ 8],\n",
       "         [ 6],\n",
       "         [ 5],\n",
       "         [ 6],\n",
       "         [ 4],\n",
       "         [ 4],\n",
       "         [10],\n",
       "         [ 5],\n",
       "         [ 9],\n",
       "         [ 3],\n",
       "         [ 5],\n",
       "         [ 9],\n",
       "         [ 7],\n",
       "         [ 8],\n",
       "         [ 4],\n",
       "         [ 7],\n",
       "         [10],\n",
       "         [ 4],\n",
       "         [ 5]])]"
      ]
     },
     "metadata": {},
     "execution_count": 8
    }
   ],
   "source": [
    "batch"
   ]
  },
  {
   "source": [
    "## Housing Data"
   ],
   "cell_type": "markdown",
   "metadata": {}
  },
  {
   "cell_type": "code",
   "execution_count": 9,
   "metadata": {},
   "outputs": [],
   "source": [
    "features_columns = [\"longitude\", \"latitude\", \"housing_median_age\", \"total_rooms\",  \"total_bedrooms\", \"population\", \"households\",                                \"median_income\"]\n",
    "targets_column = [\"median_house_value\"]"
   ]
  },
  {
   "cell_type": "code",
   "execution_count": 10,
   "metadata": {},
   "outputs": [
    {
     "output_type": "execute_result",
     "data": {
      "text/plain": [
       "<nam.data.base.NAMDataset at 0x7f82a1a94450>"
      ]
     },
     "metadata": {},
     "execution_count": 10
    }
   ],
   "source": [
    "dataset = NAMDataset(config=config,\n",
    "                    csv_file='data/housing.csv',\n",
    "                    features_columns=features_columns,\n",
    "                    targets_column=targets_column)\n",
    "dataset"
   ]
  },
  {
   "cell_type": "code",
   "execution_count": 11,
   "metadata": {},
   "outputs": [],
   "source": [
    "dl = DataLoader(dataset, batch_size=32, shuffle=True)"
   ]
  },
  {
   "cell_type": "code",
   "execution_count": 12,
   "metadata": {},
   "outputs": [],
   "source": [
    "batch = next(iter(dl))"
   ]
  },
  {
   "cell_type": "code",
   "execution_count": 13,
   "metadata": {},
   "outputs": [
    {
     "output_type": "execute_result",
     "data": {
      "text/plain": [
       "[tensor([[-1.2184e+02,  3.7380e+01,  3.3000e+01,  8.3500e+02,  1.8100e+02,\n",
       "           7.8100e+02,  1.6900e+02,  5.1082e+00],\n",
       "         [-1.1725e+02,  3.2960e+01,  1.8000e+01,  4.7730e+03,  7.4300e+02,\n",
       "           1.9700e+03,  7.1600e+02,  6.6199e+00],\n",
       "         [-1.1833e+02,  3.4090e+01,  3.0000e+01,  1.6790e+03,  6.8200e+02,\n",
       "           1.4450e+03,  5.7900e+02,  2.1403e+00],\n",
       "         [-1.2196e+02,  3.7290e+01,  2.4000e+01,  1.2400e+03,  2.6300e+02,\n",
       "           6.9000e+02,  2.7600e+02,  5.0000e+00],\n",
       "         [-1.1818e+02,  3.4100e+01,  8.0000e+00,  1.1160e+03,  2.6700e+02,\n",
       "           4.3500e+02,  2.3500e+02,  4.9231e+00],\n",
       "         [-1.2225e+02,  3.7800e+01,  4.1000e+01,  1.4710e+03,  4.6900e+02,\n",
       "           1.0620e+03,  4.1300e+02,  1.6121e+00],\n",
       "         [-1.2321e+02,  3.9150e+01,  3.1000e+01,  2.6850e+03,  6.7500e+02,\n",
       "           1.3670e+03,  6.2600e+02,  1.6571e+00],\n",
       "         [-1.2247e+02,  3.7720e+01,  4.7000e+01,  1.1760e+03,  2.8600e+02,\n",
       "           5.6400e+02,  2.5800e+02,  3.2059e+00],\n",
       "         [-1.2188e+02,  3.7360e+01,  3.0000e+01,  2.4530e+03,  5.7300e+02,\n",
       "           1.8450e+03,  5.3000e+02,  3.7396e+00],\n",
       "         [-1.2225e+02,  3.8050e+01,  3.0000e+01,  1.2550e+03,  2.9700e+02,\n",
       "           7.7900e+02,  3.0700e+02,  1.6767e+00],\n",
       "         [-1.2180e+02,  3.7310e+01,  1.5000e+01,  1.8070e+03,  3.7800e+02,\n",
       "           1.2770e+03,  3.4100e+02,  4.5045e+00],\n",
       "         [-1.2251e+02,  3.8760e+01,  9.0000e+00,  2.5890e+03,  4.8200e+02,\n",
       "           1.0500e+03,  3.7400e+02,  4.0435e+00],\n",
       "         [-1.1929e+02,  3.6340e+01,  1.0000e+01,  1.8320e+03,  4.5500e+02,\n",
       "           1.6640e+03,  4.2900e+02,  2.0227e+00],\n",
       "         [-1.1769e+02,  3.4070e+01,  3.4000e+01,  4.0550e+03,  7.3900e+02,\n",
       "           2.4700e+03,  7.5300e+02,  3.8586e+00],\n",
       "         [-1.1781e+02,  3.3670e+01,  9.0000e+00,  3.2790e+03,  5.3000e+02,\n",
       "           1.4470e+03,  5.1000e+02,  7.4581e+00],\n",
       "         [-1.1641e+02,  3.3740e+01,  1.7000e+01,  4.2890e+03,  8.9300e+02,\n",
       "           9.5800e+02,  4.4000e+02,  2.4659e+00],\n",
       "         [-1.2148e+02,  3.8510e+01,  2.4000e+01,  9.7900e+02,  2.0100e+02,\n",
       "           7.2300e+02,  2.0500e+02,  2.5926e+00],\n",
       "         [-1.2220e+02,  3.7470e+01,  3.7000e+01,  1.4030e+03,  3.6900e+02,\n",
       "           1.5870e+03,  3.3100e+02,  2.8258e+00],\n",
       "         [-1.1849e+02,  3.4130e+01,  2.4000e+01,  4.3940e+03,         nan,\n",
       "           1.4430e+03,  5.2800e+02,  1.1298e+01],\n",
       "         [-1.1762e+02,  3.3430e+01,  2.4000e+01,  1.2960e+03,  3.8400e+02,\n",
       "           8.5000e+02,  3.6700e+02,  2.7545e+00],\n",
       "         [-1.1696e+02,  3.3730e+01,  2.0000e+01,  4.7350e+03,  9.7300e+02,\n",
       "           2.3060e+03,  9.0400e+02,  3.0690e+00],\n",
       "         [-1.1734e+02,  3.4080e+01,  3.3000e+01,  4.9240e+03,  1.0070e+03,\n",
       "           3.5020e+03,  9.5300e+02,  3.2330e+00],\n",
       "         [-1.1843e+02,  3.4240e+01,  3.5000e+01,  1.4160e+03,  2.6100e+02,\n",
       "           9.9500e+02,  2.7200e+02,  3.7143e+00],\n",
       "         [-1.2216e+02,  3.7460e+01,  4.5000e+01,  2.0680e+03,  3.4800e+02,\n",
       "           8.4400e+02,  3.6600e+02,  6.2270e+00],\n",
       "         [-1.2198e+02,  3.7340e+01,  3.3000e+01,  3.5700e+03,  7.7600e+02,\n",
       "           1.9220e+03,  7.6100e+02,  4.9562e+00],\n",
       "         [-1.1733e+02,  3.4150e+01,  2.8000e+01,  1.4730e+03,  3.3300e+02,\n",
       "           1.1960e+03,  3.1200e+02,  1.6993e+00],\n",
       "         [-1.2171e+02,  3.8560e+01,  2.0000e+01,  8.6270e+03,  1.5160e+03,\n",
       "           4.0710e+03,  1.4660e+03,  4.2198e+00],\n",
       "         [-1.1796e+02,  3.4050e+01,  3.2000e+01,  1.9930e+03,  3.8800e+02,\n",
       "           1.3850e+03,  3.8000e+02,  3.7258e+00],\n",
       "         [-1.1838e+02,  3.4040e+01,  3.6000e+01,  3.0050e+03,  7.7100e+02,\n",
       "           2.0540e+03,  7.5800e+02,  2.0437e+00],\n",
       "         [-1.1791e+02,  3.3880e+01,  3.4000e+01,  1.8510e+03,  2.9100e+02,\n",
       "           7.8400e+02,  2.9000e+02,  5.2336e+00],\n",
       "         [-1.1844e+02,  3.4170e+01,  2.5000e+01,  4.9660e+03,  1.1340e+03,\n",
       "           1.9410e+03,  9.5800e+02,  3.8081e+00],\n",
       "         [-1.1846e+02,  3.4250e+01,  3.3000e+01,  2.2020e+03,  4.3300e+02,\n",
       "           1.1350e+03,  4.0700e+02,  4.2143e+00]], dtype=torch.float64),\n",
       " tensor([[195800.],\n",
       "         [406200.],\n",
       "         [200000.],\n",
       "         [283000.],\n",
       "         [230900.],\n",
       "         [171400.],\n",
       "         [108900.],\n",
       "         [350000.],\n",
       "         [210700.],\n",
       "         [147700.],\n",
       "         [164500.],\n",
       "         [132600.],\n",
       "         [ 53300.],\n",
       "         [136000.],\n",
       "         [296600.],\n",
       "         [177800.],\n",
       "         [ 72300.],\n",
       "         [232800.],\n",
       "         [500001.],\n",
       "         [231300.],\n",
       "         [ 87000.],\n",
       "         [ 99400.],\n",
       "         [178700.],\n",
       "         [417800.],\n",
       "         [238700.],\n",
       "         [ 67800.],\n",
       "         [164100.],\n",
       "         [181900.],\n",
       "         [309100.],\n",
       "         [235600.],\n",
       "         [286700.],\n",
       "         [224200.]], dtype=torch.float64)]"
      ]
     },
     "metadata": {},
     "execution_count": 13
    }
   ],
   "source": [
    "batch"
   ]
  },
  {
   "cell_type": "code",
   "execution_count": null,
   "metadata": {},
   "outputs": [],
   "source": []
  }
 ]
}