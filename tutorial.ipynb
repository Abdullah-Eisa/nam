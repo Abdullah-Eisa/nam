{
 "metadata": {
  "language_info": {
   "codemirror_mode": {
    "name": "ipython",
    "version": 3
   },
   "file_extension": ".py",
   "mimetype": "text/x-python",
   "name": "python",
   "nbconvert_exporter": "python",
   "pygments_lexer": "ipython3",
   "version": "3.7.9-final"
  },
  "orig_nbformat": 2,
  "kernelspec": {
   "name": "python3",
   "display_name": "Python 3.7.9 64-bit ('nam': conda)",
   "metadata": {
    "interpreter": {
     "hash": "72dcab71910be8175790488ca8066d52b5206e956c78bd58afc0f3f15daf3d5c"
    }
   }
  }
 },
 "nbformat": 4,
 "nbformat_minor": 2,
 "cells": [
  {
   "cell_type": "code",
   "execution_count": 1,
   "metadata": {},
   "outputs": [],
   "source": [
    "%reload_ext autoreload\n",
    "%autoreload 2\n",
    "%matplotlib inline"
   ]
  },
  {
   "cell_type": "code",
   "execution_count": 2,
   "metadata": {},
   "outputs": [],
   "source": [
    "import time\n",
    "import json\n",
    "import os\n",
    "import random\n",
    "from typing import Dict, Iterator, List, Tuple\n",
    "\n",
    "import numpy as np\n",
    "import pandas as pd\n",
    "import torch\n",
    "from torch.utils.data import DataLoader\n",
    "from loguru import logger\n",
    "from sklearn.datasets import load_breast_cancer\n",
    "\n",
    "from nam.config.default import defaults\n",
    "from nam.types import Config\n",
    "from nam.utils.args import parse_args\n",
    "from nam.data.base import NAMDataset"
   ]
  },
  {
   "cell_type": "code",
   "execution_count": 3,
   "metadata": {},
   "outputs": [
    {
     "output_type": "execute_result",
     "data": {
      "text/plain": [
       "namespace(device='cpu',\n",
       "          logdir='logs',\n",
       "          lr=0.01,\n",
       "          batch_size=1024,\n",
       "          l2_regularization=0.0,\n",
       "          output_regularization=0.0,\n",
       "          decay_rate=0.995,\n",
       "          dropout=0.5,\n",
       "          feature_dropout=0.0,\n",
       "          data_split=1,\n",
       "          seed=1377,\n",
       "          num_basis_functions=1000,\n",
       "          units_multiplier=2,\n",
       "          cross_val=False,\n",
       "          max_checkpoints_to_keep=1,\n",
       "          save_checkpoint_every_n_epochs=10,\n",
       "          n_models=1,\n",
       "          num_splits=3,\n",
       "          fold_num=1,\n",
       "          activation='exu',\n",
       "          regression=False,\n",
       "          debug=False,\n",
       "          shallow=False,\n",
       "          use_dnn=False,\n",
       "          early_stopping_epochs=60,\n",
       "          n_folds=5)"
      ]
     },
     "metadata": {},
     "execution_count": 3
    }
   ],
   "source": [
    "config = defaults()\n",
    "config"
   ]
  },
  {
   "cell_type": "code",
   "execution_count": 4,
   "metadata": {},
   "outputs": [],
   "source": [
    "features_columns = [\"longitude\", \"latitude\", \"housing_median_age\", \"total_rooms\",  \"total_bedrooms\", \"population\", \"households\",                                \"median_income\"]\n",
    "targets_column = [\"median_house_value\"]"
   ]
  },
  {
   "cell_type": "code",
   "execution_count": 5,
   "metadata": {},
   "outputs": [
    {
     "output_type": "execute_result",
     "data": {
      "text/plain": [
       "<nam.data.base.NAMDataset at 0x7f8400880610>"
      ]
     },
     "metadata": {},
     "execution_count": 5
    }
   ],
   "source": [
    "dataset = NAMDataset(config=config,\n",
    "                    csv_file='data/housing.csv',\n",
    "                    features_columns=features_columns,\n",
    "                    targets_column=targets_column)\n",
    "dataset"
   ]
  },
  {
   "cell_type": "code",
   "execution_count": 6,
   "metadata": {},
   "outputs": [],
   "source": [
    "dl = DataLoader(dataset, batch_size=32, shuffle=True)"
   ]
  },
  {
   "cell_type": "code",
   "execution_count": 7,
   "metadata": {},
   "outputs": [],
   "source": [
    "batch = next(iter(dl))"
   ]
  },
  {
   "cell_type": "code",
   "execution_count": 8,
   "metadata": {},
   "outputs": [
    {
     "output_type": "execute_result",
     "data": {
      "text/plain": [
       "[tensor([[-1.2164e+02,  3.6740e+01,  3.0000e+01,  2.6280e+03,  4.4400e+02,\n",
       "           1.3720e+03,  4.3200e+02,  4.1696e+00],\n",
       "         [-1.1708e+02,  3.2680e+01,  2.6000e+01,  3.0710e+03,  6.1500e+02,\n",
       "           2.1560e+03,  5.6800e+02,  2.9318e+00],\n",
       "         [-1.1954e+02,  3.6520e+01,  1.6000e+01,  2.7030e+03,  4.1500e+02,\n",
       "           1.1060e+03,  3.7200e+02,  4.2045e+00],\n",
       "         [-1.1805e+02,  3.3930e+01,  3.1000e+01,  8.9400e+02,  2.0300e+02,\n",
       "           8.8300e+02,  1.9000e+02,  3.6771e+00],\n",
       "         [-1.2182e+02,  3.6610e+01,  2.4000e+01,  2.4370e+03,  4.3800e+02,\n",
       "           1.4300e+03,  4.4400e+02,  3.8015e+00],\n",
       "         [-1.1823e+02,  3.3910e+01,  3.4000e+01,  1.0600e+03,  2.7600e+02,\n",
       "           1.2150e+03,  2.5000e+02,  2.0804e+00],\n",
       "         [-1.1758e+02,  3.3870e+01,  1.7000e+01,  2.7720e+03,  4.4900e+02,\n",
       "           1.6850e+03,  4.6100e+02,  5.0464e+00],\n",
       "         [-1.1898e+02,  3.7640e+01,  1.7000e+01,  3.7690e+03,  9.0800e+02,\n",
       "           1.1600e+03,  4.5300e+02,  3.0500e+00],\n",
       "         [-1.1791e+02,  3.3610e+01,  4.0000e+01,  2.7900e+03,  5.3100e+02,\n",
       "           9.5200e+02,  4.2400e+02,  4.8000e+00],\n",
       "         [-1.1738e+02,  3.3190e+01,  1.7000e+01,  3.5300e+02,  1.1200e+02,\n",
       "           3.5900e+02,  1.1800e+02,  1.5625e+00],\n",
       "         [-1.1842e+02,  3.4160e+01,  1.7000e+01,  2.7700e+02,  7.0000e+01,\n",
       "           1.1900e+02,  5.9000e+01,  4.0208e+00],\n",
       "         [-1.1795e+02,  3.3800e+01,  3.2000e+01,  1.2190e+03,  1.9200e+02,\n",
       "           6.3400e+02,  1.9700e+02,  5.2370e+00],\n",
       "         [-1.1819e+02,  3.4050e+01,  4.1000e+01,  1.0980e+03,  2.6400e+02,\n",
       "           1.1780e+03,  2.4500e+02,  2.1058e+00],\n",
       "         [-1.2237e+02,  3.7940e+01,  4.9000e+01,  9.6900e+02,  2.2900e+02,\n",
       "           5.9900e+02,  1.9500e+02,  1.3167e+00],\n",
       "         [-1.1829e+02,  3.3910e+01,  4.1000e+01,  2.4750e+03,  5.3200e+02,\n",
       "           1.4160e+03,  4.7000e+02,  3.8372e+00],\n",
       "         [-1.2084e+02,  3.7400e+01,  7.0000e+00,  2.7730e+03,  5.3000e+02,\n",
       "           1.3740e+03,  5.0500e+02,  2.6214e+00],\n",
       "         [-1.1782e+02,  3.3810e+01,  3.0000e+01,  2.2600e+03,  3.4500e+02,\n",
       "           1.1820e+03,  3.4100e+02,  6.0705e+00],\n",
       "         [-1.1837e+02,  3.4050e+01,  5.2000e+01,  1.5630e+03,  3.0600e+02,\n",
       "           7.7600e+02,  3.0800e+02,  3.6250e+00],\n",
       "         [-1.1709e+02,  3.2910e+01,  1.6000e+01,  2.0050e+03,  2.6600e+02,\n",
       "           8.2700e+02,  2.7000e+02,  7.0546e+00],\n",
       "         [-1.2250e+02,  3.7770e+01,  5.2000e+01,  2.2990e+03,  4.4100e+02,\n",
       "           1.2520e+03,  4.1500e+02,  5.0562e+00],\n",
       "         [-1.1832e+02,  3.3790e+01,  3.2000e+01,  2.3810e+03,  4.6700e+02,\n",
       "           1.2640e+03,  4.8800e+02,  4.1477e+00],\n",
       "         [-1.2204e+02,  3.7970e+01,  1.0000e+01,  9.7400e+02,  3.1600e+02,\n",
       "           6.3100e+02,  2.8600e+02,  2.3152e+00],\n",
       "         [-1.1788e+02,  3.3700e+01,  2.4000e+01,  5.3400e+02,  8.8000e+01,\n",
       "           2.4900e+02,  7.4000e+01,  5.3254e+00],\n",
       "         [-1.1807e+02,  3.4170e+01,  3.6000e+01,  2.4150e+03,  3.9400e+02,\n",
       "           1.2150e+03,  4.1300e+02,  5.5418e+00],\n",
       "         [-1.2055e+02,  3.6970e+01,  4.2000e+01,  1.7660e+03,  3.4400e+02,\n",
       "           1.0840e+03,  3.2300e+02,  2.3295e+00],\n",
       "         [-1.2137e+02,  3.8580e+01,  3.7000e+01,  2.8390e+03,  3.9000e+02,\n",
       "           1.0060e+03,  4.0000e+02,  7.3343e+00],\n",
       "         [-1.1795e+02,  3.4050e+01,  3.5000e+01,  1.3090e+03,  2.7600e+02,\n",
       "           1.1130e+03,  2.5300e+02,  4.3750e+00],\n",
       "         [-1.1735e+02,  3.3690e+01,  1.1000e+01,  1.2290e+03,  2.3600e+02,\n",
       "           5.8100e+02,  1.9000e+02,  3.1020e+00],\n",
       "         [-1.1697e+02,  3.3130e+01,  1.0000e+01,  5.1490e+03,  8.5100e+02,\n",
       "           2.1770e+03,  7.8300e+02,  6.7957e+00],\n",
       "         [-1.1846e+02,  3.5130e+01,  1.9000e+01,  3.1090e+03,  6.4000e+02,\n",
       "           1.4570e+03,  6.2000e+02,  2.6417e+00],\n",
       "         [-1.2194e+02,  3.7540e+01,  2.7000e+01,  3.7150e+03,  5.2600e+02,\n",
       "           1.6310e+03,  5.3800e+02,  6.2179e+00],\n",
       "         [-1.2229e+02,  3.8000e+01,  1.6000e+01,  4.9860e+03,  1.0810e+03,\n",
       "           2.8050e+03,  1.0160e+03,  4.0250e+00]], dtype=torch.float64),\n",
       " tensor([[175000.],\n",
       "         [112400.],\n",
       "         [120900.],\n",
       "         [141500.],\n",
       "         [169100.],\n",
       "         [ 84700.],\n",
       "         [163900.],\n",
       "         [188900.],\n",
       "         [500001.],\n",
       "         [162500.],\n",
       "         [341700.],\n",
       "         [215700.],\n",
       "         [124300.],\n",
       "         [ 71600.],\n",
       "         [156400.],\n",
       "         [103800.],\n",
       "         [236700.],\n",
       "         [440900.],\n",
       "         [282200.],\n",
       "         [336700.],\n",
       "         [315100.],\n",
       "         [140600.],\n",
       "         [240500.],\n",
       "         [326100.],\n",
       "         [ 74400.],\n",
       "         [280400.],\n",
       "         [156500.],\n",
       "         [111300.],\n",
       "         [287500.],\n",
       "         [ 94900.],\n",
       "         [305300.],\n",
       "         [173200.]], dtype=torch.float64)]"
      ]
     },
     "metadata": {},
     "execution_count": 8
    }
   ],
   "source": [
    "batch"
   ]
  },
  {
   "cell_type": "code",
   "execution_count": null,
   "metadata": {},
   "outputs": [],
   "source": []
  }
 ]
}