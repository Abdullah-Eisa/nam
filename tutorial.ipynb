{
 "metadata": {
  "language_info": {
   "codemirror_mode": {
    "name": "ipython",
    "version": 3
   },
   "file_extension": ".py",
   "mimetype": "text/x-python",
   "name": "python",
   "nbconvert_exporter": "python",
   "pygments_lexer": "ipython3",
   "version": "3.7.9-final"
  },
  "orig_nbformat": 2,
  "kernelspec": {
   "name": "python3",
   "display_name": "Python 3.7.9 64-bit ('nam': conda)",
   "metadata": {
    "interpreter": {
     "hash": "72dcab71910be8175790488ca8066d52b5206e956c78bd58afc0f3f15daf3d5c"
    }
   }
  }
 },
 "nbformat": 4,
 "nbformat_minor": 2,
 "cells": [
  {
   "cell_type": "code",
   "execution_count": 1,
   "metadata": {},
   "outputs": [],
   "source": [
    "%reload_ext autoreload\n",
    "%autoreload 2\n",
    "%matplotlib inline"
   ]
  },
  {
   "cell_type": "code",
   "execution_count": 21,
   "metadata": {},
   "outputs": [],
   "source": [
    "import time\n",
    "import json\n",
    "import os\n",
    "import random\n",
    "from typing import Dict, Iterator, List, Tuple\n",
    "\n",
    "import numpy as np\n",
    "import pandas as pd\n",
    "import torch\n",
    "from torch.utils.data import DataLoader\n",
    "from loguru import logger\n",
    "from sklearn.datasets import load_breast_cancer\n",
    "from sklearn.model_selection import KFold\n",
    "\n",
    "from nam.config.default import defaults\n",
    "from nam.types import Config\n",
    "from nam.utils.args import parse_args\n",
    "from nam.data.base import NAMDataset\n",
    "from nam.models.featurenn import FeatureNN\n",
    "from nam.models.nam import NAM\n",
    "\n",
    "from main import get_config, init_random_seeds"
   ]
  },
  {
   "cell_type": "code",
   "execution_count": 22,
   "metadata": {},
   "outputs": [
    {
     "output_type": "stream",
     "name": "stderr",
     "text": [
      "2020-11-25 01:20:42.412 | DEBUG    | main:get_config:30 - Creating output dir `/Users/amrmkayid/Desktop/nam/output`\n",
      "2020-11-25 01:20:42.413 | DEBUG    | main:get_config:35 - Creating run exp folder `/Users/amrmkayid/Desktop/nam/output/Exp_2020-11-25_012042`\n",
      "2020-11-25 01:20:42.414 | INFO     | main:get_config:48 - Saving configuration file in `/Users/amrmkayid/Desktop/nam/config.json`\n",
      "2020-11-25 01:20:42.416 | DEBUG    | main:init_random_seeds:63 - PyTorch is using CPU...\n"
     ]
    }
   ],
   "source": [
    "config = get_config()\n",
    "\n",
    "init_random_seeds(config.seed)"
   ]
  },
  {
   "cell_type": "code",
   "execution_count": 23,
   "metadata": {},
   "outputs": [
    {
     "output_type": "execute_result",
     "data": {
      "text/plain": [
       "namespace(device=device(type='cpu'),\n",
       "          output_dir='/Users/amrmkayid/Desktop/nam/output',\n",
       "          lr=0.01,\n",
       "          batch_size=1024,\n",
       "          l2_regularization=0.0,\n",
       "          output_regularization=0.0,\n",
       "          decay_rate=0.995,\n",
       "          dropout=0.5,\n",
       "          feature_dropout=0.0,\n",
       "          data_split=1,\n",
       "          seed=1,\n",
       "          num_basis_functions=1000,\n",
       "          units_multiplier=2,\n",
       "          num_units=64,\n",
       "          cross_val=False,\n",
       "          max_checkpoints_to_keep=1,\n",
       "          save_checkpoint_every_n_epochs=10,\n",
       "          n_models=1,\n",
       "          num_splits=3,\n",
       "          fold_num=1,\n",
       "          activation='exu',\n",
       "          shuffle=True,\n",
       "          regression=False,\n",
       "          debug=False,\n",
       "          shallow=False,\n",
       "          use_dnn=False,\n",
       "          early_stopping_epochs=60,\n",
       "          n_folds=5,\n",
       "          training_epochs=None,\n",
       "          learning_rate=0.01,\n",
       "          dataset_name='Teleco',\n",
       "          log_dir='/Users/amrmkayid/Desktop/nam/output/Exp_2020-11-25_012042/logs',\n",
       "          ckpt_dir='/Users/amrmkayid/Desktop/nam/output/Exp_2020-11-25_012042/ckpts',\n",
       "          model_path='/Users/amrmkayid/Desktop/nam/output/Exp_2020-11-25_012042/ckpts/model.th')"
      ]
     },
     "metadata": {},
     "execution_count": 23
    }
   ],
   "source": [
    "config"
   ]
  },
  {
   "source": [
    "## GALLUP Data"
   ],
   "cell_type": "markdown",
   "metadata": {}
  },
  {
   "cell_type": "code",
   "execution_count": 24,
   "metadata": {},
   "outputs": [],
   "source": [
    "features_columns = [\"income_2\", \"WP1219\", \"WP1220\", \"weo_gdpc_con_ppp\"]\n",
    "targets_column = [\"country\"]\n",
    "weights_column = [\"wgt\"]"
   ]
  },
  {
   "cell_type": "code",
   "execution_count": 25,
   "metadata": {},
   "outputs": [
    {
     "output_type": "execute_result",
     "data": {
      "text/plain": [
       "<nam.data.base.NAMDataset at 0x7f992a921510>"
      ]
     },
     "metadata": {},
     "execution_count": 25
    }
   ],
   "source": [
    "dataset = NAMDataset(config=config,\n",
    "                    csv_file='data/GALLUP.csv',\n",
    "                    features_columns=features_columns,\n",
    "                    targets_column=targets_column,\n",
    "                    weights_column=weights_column)\n",
    "dataset"
   ]
  },
  {
   "cell_type": "code",
   "execution_count": 26,
   "metadata": {},
   "outputs": [],
   "source": [
    "data_loaders = dataset.data_loaders(\n",
    "      n_splits=config.num_splits,\n",
    "      batch_size=config.batch_size,\n",
    "      shuffle=config.shuffle,\n",
    "      stratified=not config.regression,\n",
    "      random_state=config.seed,\n",
    ")"
   ]
  },
  {
   "cell_type": "code",
   "execution_count": 31,
   "metadata": {},
   "outputs": [],
   "source": [
    "model = NAM(\n",
    "      config=config,\n",
    "      name=\"NAMModel\",\n",
    "      num_inputs=len(dataset[0][0]),\n",
    "      num_units=config.num_units,\n",
    "      shallow=config.shallow,\n",
    "      feature_dropout=config.feature_dropout,\n",
    ").to(device=config.device)"
   ]
  },
  {
   "cell_type": "code",
   "execution_count": 33,
   "metadata": {},
   "outputs": [
    {
     "output_type": "execute_result",
     "data": {
      "text/plain": [
       "{'training': True,\n",
       " '_parameters': OrderedDict([('_bias', Parameter containing:\n",
       "               tensor([0.], requires_grad=True))]),\n",
       " '_buffers': OrderedDict(),\n",
       " '_non_persistent_buffers_set': set(),\n",
       " '_backward_hooks': OrderedDict(),\n",
       " '_forward_hooks': OrderedDict(),\n",
       " '_forward_pre_hooks': OrderedDict(),\n",
       " '_state_dict_hooks': OrderedDict(),\n",
       " '_load_state_dict_pre_hooks': OrderedDict(),\n",
       " '_modules': OrderedDict(),\n",
       " '_config': namespace(device=device(type='cpu'),\n",
       "           output_dir='/Users/amrmkayid/Desktop/nam/output',\n",
       "           lr=0.01,\n",
       "           batch_size=1024,\n",
       "           l2_regularization=0.0,\n",
       "           output_regularization=0.0,\n",
       "           decay_rate=0.995,\n",
       "           dropout=0.5,\n",
       "           feature_dropout=0.0,\n",
       "           data_split=1,\n",
       "           seed=1,\n",
       "           num_basis_functions=1000,\n",
       "           units_multiplier=2,\n",
       "           num_units=64,\n",
       "           cross_val=False,\n",
       "           max_checkpoints_to_keep=1,\n",
       "           save_checkpoint_every_n_epochs=10,\n",
       "           n_models=1,\n",
       "           num_splits=3,\n",
       "           fold_num=1,\n",
       "           activation='exu',\n",
       "           shuffle=True,\n",
       "           regression=False,\n",
       "           debug=False,\n",
       "           shallow=False,\n",
       "           use_dnn=False,\n",
       "           early_stopping_epochs=60,\n",
       "           n_folds=5,\n",
       "           training_epochs=None,\n",
       "           learning_rate=0.01,\n",
       "           dataset_name='Teleco',\n",
       "           log_dir='/Users/amrmkayid/Desktop/nam/output/Exp_2020-11-25_012042/logs',\n",
       "           ckpt_dir='/Users/amrmkayid/Desktop/nam/output/Exp_2020-11-25_012042/ckpts',\n",
       "           model_path='/Users/amrmkayid/Desktop/nam/output/Exp_2020-11-25_012042/ckpts/model.th'),\n",
       " '_name': 'NAMModel',\n",
       " '_num_inputs': 4,\n",
       " '_num_units': [64, 64, 64, 64],\n",
       " '_shallow': False,\n",
       " '_feature_dropout': 0.0,\n",
       " '_dropout': 0.0,\n",
       " 'feature_nns': [FeatureNN(\n",
       "    (relu): ReLU(inplace=True)\n",
       "    (dropout): Dropout(p=0.0, inplace=False)\n",
       "    (_h1): Linear(in_features=64, out_features=64, bias=True)\n",
       "    (_h2): Linear(in_features=64, out_features=32, bias=True)\n",
       "    (linear): Linear(in_features=32, out_features=1, bias=True)\n",
       "    (hidden_layers): Sequential(\n",
       "      (0): ExU()\n",
       "      (1): Linear(in_features=64, out_features=64, bias=True)\n",
       "      (2): Linear(in_features=64, out_features=32, bias=True)\n",
       "    )\n",
       "  ),\n",
       "  FeatureNN(\n",
       "    (relu): ReLU(inplace=True)\n",
       "    (dropout): Dropout(p=0.0, inplace=False)\n",
       "    (_h1): Linear(in_features=64, out_features=64, bias=True)\n",
       "    (_h2): Linear(in_features=64, out_features=32, bias=True)\n",
       "    (linear): Linear(in_features=32, out_features=1, bias=True)\n",
       "    (hidden_layers): Sequential(\n",
       "      (0): ExU()\n",
       "      (1): Linear(in_features=64, out_features=64, bias=True)\n",
       "      (2): Linear(in_features=64, out_features=32, bias=True)\n",
       "    )\n",
       "  ),\n",
       "  FeatureNN(\n",
       "    (relu): ReLU(inplace=True)\n",
       "    (dropout): Dropout(p=0.0, inplace=False)\n",
       "    (_h1): Linear(in_features=64, out_features=64, bias=True)\n",
       "    (_h2): Linear(in_features=64, out_features=32, bias=True)\n",
       "    (linear): Linear(in_features=32, out_features=1, bias=True)\n",
       "    (hidden_layers): Sequential(\n",
       "      (0): ExU()\n",
       "      (1): Linear(in_features=64, out_features=64, bias=True)\n",
       "      (2): Linear(in_features=64, out_features=32, bias=True)\n",
       "    )\n",
       "  ),\n",
       "  FeatureNN(\n",
       "    (relu): ReLU(inplace=True)\n",
       "    (dropout): Dropout(p=0.0, inplace=False)\n",
       "    (_h1): Linear(in_features=64, out_features=64, bias=True)\n",
       "    (_h2): Linear(in_features=64, out_features=32, bias=True)\n",
       "    (linear): Linear(in_features=32, out_features=1, bias=True)\n",
       "    (hidden_layers): Sequential(\n",
       "      (0): ExU()\n",
       "      (1): Linear(in_features=64, out_features=64, bias=True)\n",
       "      (2): Linear(in_features=64, out_features=32, bias=True)\n",
       "    )\n",
       "  )]}"
      ]
     },
     "metadata": {},
     "execution_count": 33
    }
   ],
   "source": [
    "model.__dict__"
   ]
  },
  {
   "cell_type": "code",
   "execution_count": 35,
   "metadata": {},
   "outputs": [
    {
     "output_type": "stream",
     "name": "stdout",
     "text": [
      "Fold((2,)), train: 938566, test: 134081\n"
     ]
    }
   ],
   "source": [
    "train, val = next(iter(data_loaders))"
   ]
  },
  {
   "cell_type": "code",
   "execution_count": 37,
   "metadata": {},
   "outputs": [
    {
     "output_type": "execute_result",
     "data": {
      "text/plain": [
       "[tensor([[17671,     0,     8,    27],\n",
       "         [45648,     0,    41,   404],\n",
       "         [95431,     1,    21,   977],\n",
       "         ...,\n",
       "         [10845,     1,    15,    38],\n",
       "         [10675,     1,    14,   448],\n",
       "         [27616,     0,    34,   286]]),\n",
       " tensor([[243450],\n",
       "         [  8889],\n",
       "         [ 96660],\n",
       "         ...,\n",
       "         [279584],\n",
       "         [ 89668],\n",
       "         [125071]]),\n",
       " tensor([[139],\n",
       "         [108],\n",
       "         [  6],\n",
       "         ...,\n",
       "         [139],\n",
       "         [140],\n",
       "         [150]])]"
      ]
     },
     "metadata": {},
     "execution_count": 37
    }
   ],
   "source": [
    "batch = next(iter(train))\n",
    "batch"
   ]
  },
  {
   "cell_type": "code",
   "execution_count": 40,
   "metadata": {},
   "outputs": [
    {
     "output_type": "execute_result",
     "data": {
      "text/plain": [
       "tensor([ -33163.3281,  -86730.2578, -181812.3438,  ...,  -20415.4629,\n",
       "         -21435.3848,  -52597.6602], grad_fn=<AddBackward0>)"
      ]
     },
     "metadata": {},
     "execution_count": 40
    }
   ],
   "source": [
    "model(batch[0])"
   ]
  },
  {
   "source": [
    "### K-fold"
   ],
   "cell_type": "markdown",
   "metadata": {}
  },
  {
   "cell_type": "code",
   "execution_count": 8,
   "metadata": {
    "tags": []
   },
   "outputs": [
    {
     "output_type": "stream",
     "name": "stdout",
     "text": [
      "Fold((1,)), train: 938566, test: 134081\n",
      "[tensor([[76845,     1,    40,   605],\n",
      "        [80149,     0,    43,   861],\n",
      "        [    0,     1,     4,   677],\n",
      "        ...,\n",
      "        [99347,     1,    44,   965],\n",
      "        [79297,     0,    46,   940],\n",
      "        [85594,     0,    24,   915]]), tensor([[  8883],\n",
      "        [106160],\n",
      "        [146743],\n",
      "        ...,\n",
      "        [ 12864],\n",
      "        [ 77549],\n",
      "        [  6516]]), tensor([[  8],\n",
      "        [100],\n",
      "        [ 62],\n",
      "        ...,\n",
      "        [ 50],\n",
      "        [135],\n",
      "        [ 68]])] [tensor([[ 30686,      0,     31,    389],\n",
      "        [103458,      1,     47,   1040],\n",
      "        [ 41558,      0,      5,    133],\n",
      "        ...,\n",
      "        [ 71748,      1,      6,    442],\n",
      "        [ 75880,      0,     48,    965],\n",
      "        [ 65557,      1,     20,    758]]), tensor([[ 54025],\n",
      "        [233171],\n",
      "        [ 57097],\n",
      "        ...,\n",
      "        [105269],\n",
      "        [ 35618],\n",
      "        [251079]]), tensor([[ 61],\n",
      "        [133],\n",
      "        [119],\n",
      "        ...,\n",
      "        [ 17],\n",
      "        [ 50],\n",
      "        [ 58]])]\n",
      "Fold((2,)), train: 938566, test: 134081\n",
      "[tensor([[57963,     0,    15,   595],\n",
      "        [41996,     1,    29,   670],\n",
      "        [57557,     1,     7,   673],\n",
      "        ...,\n",
      "        [21866,     1,    11,   294],\n",
      "        [86208,     0,    38,   938],\n",
      "        [56766,     0,    46,   599]]), tensor([[188507],\n",
      "        [ 94770],\n",
      "        [245095],\n",
      "        ...,\n",
      "        [ 74393],\n",
      "        [  2710],\n",
      "        [  7186]]), tensor([[ 19],\n",
      "        [148],\n",
      "        [ 90],\n",
      "        ...,\n",
      "        [ 60],\n",
      "        [ 12],\n",
      "        [ 18]])] [tensor([[50339,     0,    51,   588],\n",
      "        [25893,     0,    26,   278],\n",
      "        [67942,     1,    26,   879],\n",
      "        ...,\n",
      "        [ 8340,     1,    16,     5],\n",
      "        [45157,     0,    41,   327],\n",
      "        [83594,     1,    22,   123]]), tensor([[273835],\n",
      "        [  2800],\n",
      "        [ 22461],\n",
      "        ...,\n",
      "        [113355],\n",
      "        [ 22036],\n",
      "        [  9630]]), tensor([[ 19],\n",
      "        [ 60],\n",
      "        [128],\n",
      "        ...,\n",
      "        [102],\n",
      "        [  3],\n",
      "        [143]])]\n",
      "Fold((3,)), train: 938566, test: 134081\n",
      "[tensor([[81836,     0,    41,   815],\n",
      "        [44682,     0,     3,   466],\n",
      "        [47397,     1,    19,   448],\n",
      "        ...,\n",
      "        [    0,     1,    44,   705],\n",
      "        [54919,     0,     9,   737],\n",
      "        [71725,     0,    21,   814]]), tensor([[162613],\n",
      "        [191220],\n",
      "        [123983],\n",
      "        ...,\n",
      "        [ 32838],\n",
      "        [153658],\n",
      "        [ 95362]]), tensor([[ 38],\n",
      "        [ 42],\n",
      "        [140],\n",
      "        ...,\n",
      "        [ 75],\n",
      "        [ 28],\n",
      "        [123]])] [tensor([[82345,     0,     9,  1073],\n",
      "        [87099,     0,    18,   870],\n",
      "        [50335,     0,     4,   640],\n",
      "        ...,\n",
      "        [95459,     1,    25,  1062],\n",
      "        [43549,     1,     7,   250],\n",
      "        [60123,     0,    29,   739]]), tensor([[273360],\n",
      "        [220001],\n",
      "        [190369],\n",
      "        ...,\n",
      "        [175191],\n",
      "        [ 92733],\n",
      "        [200956]]), tensor([[122],\n",
      "        [100],\n",
      "        [ 90],\n",
      "        ...,\n",
      "        [104],\n",
      "        [ 91],\n",
      "        [107]])]\n",
      "Fold((4,)), train: 938566, test: 134081\n",
      "[tensor([[47694,     0,    24,   323],\n",
      "        [85526,     1,    14,   986],\n",
      "        [55622,     0,    34,   681],\n",
      "        ...,\n",
      "        [92618,     1,    13,   768],\n",
      "        [51334,     0,    31,   294],\n",
      "        [94395,     0,    19,  1077]]), tensor([[230215],\n",
      "        [193861],\n",
      "        [158689],\n",
      "        ...,\n",
      "        [ 57085],\n",
      "        [266262],\n",
      "        [118786]]), tensor([[ 16],\n",
      "        [  7],\n",
      "        [ 28],\n",
      "        ...,\n",
      "        [111],\n",
      "        [ 60],\n",
      "        [ 81]])] [tensor([[33652,     0,     3, 21226],\n",
      "        [    0,     0,    32,   113],\n",
      "        [30393,     1,    21,   252],\n",
      "        ...,\n",
      "        [24116,     1,    28,   457],\n",
      "        [92596,     1,    42,  1040],\n",
      "        [83576,     0,    31,   772]]), tensor([[186874],\n",
      "        [252142],\n",
      "        [180010],\n",
      "        ...,\n",
      "        [193926],\n",
      "        [124294],\n",
      "        [252785]]), tensor([[ 32],\n",
      "        [153],\n",
      "        [106],\n",
      "        ...,\n",
      "        [ 42],\n",
      "        [133],\n",
      "        [ 85]])]\n",
      "Fold((5,)), train: 938566, test: 134081\n",
      "[tensor([[28754,     0,    21,   570],\n",
      "        [39911,     0,    22,   741],\n",
      "        [ 7578,     1,    20,   197],\n",
      "        ...,\n",
      "        [24036,     0,     6,   321],\n",
      "        [ 2869,     0,     6,  1060],\n",
      "        [89512,     0,     5,   985]]), tensor([[ 10087],\n",
      "        [ 68334],\n",
      "        [194333],\n",
      "        ...,\n",
      "        [ 41203],\n",
      "        [221819],\n",
      "        [272397]]), tensor([[138],\n",
      "        [ 75],\n",
      "        [ 24],\n",
      "        ...,\n",
      "        [ 60],\n",
      "        [104],\n",
      "        [118]])] [tensor([[93817,     1,    45,   898],\n",
      "        [90521,     1,    36,   956],\n",
      "        [66342,     0,     6,   718],\n",
      "        ...,\n",
      "        [36675,     1,    39,   144],\n",
      "        [93629,     0,    16,   965],\n",
      "        [67064,     0,    41,  1007]]), tensor([[ 59436],\n",
      "        [125735],\n",
      "        [ 39585],\n",
      "        ...,\n",
      "        [  7085],\n",
      "        [129262],\n",
      "        [ 39975]]), tensor([[146],\n",
      "        [ 25],\n",
      "        [ 36],\n",
      "        ...,\n",
      "        [ 98],\n",
      "        [ 50],\n",
      "        [ 99]])]\n"
     ]
    }
   ],
   "source": [
    "for train_dl, val_dl in dataset.data_loaders():\n",
    "    print(next(iter(train_dl)), next(iter(val_dl)))"
   ]
  },
  {
   "cell_type": "code",
   "execution_count": 12,
   "metadata": {},
   "outputs": [
    {
     "output_type": "execute_result",
     "data": {
      "text/plain": [
       "torch.Size([1024, 4])"
      ]
     },
     "metadata": {},
     "execution_count": 12
    }
   ],
   "source": [
    "batch = next(iter(train_dl))\n",
    "batch[0].shape"
   ]
  },
  {
   "source": [
    "## Housing Data"
   ],
   "cell_type": "markdown",
   "metadata": {}
  },
  {
   "cell_type": "code",
   "execution_count": 4,
   "metadata": {},
   "outputs": [],
   "source": [
    "\n",
    "features_columns = [\n",
    "    \"longitude\", \"latitude\", \"housing_median_age\", \"total_rooms\",\n",
    "    \"total_bedrooms\", \"population\", \"households\", \"median_income\"\n",
    "]\n",
    "targets_column = [\"median_house_value\"]"
   ]
  },
  {
   "cell_type": "code",
   "execution_count": 5,
   "metadata": {},
   "outputs": [
    {
     "output_type": "execute_result",
     "data": {
      "text/plain": [
       "<nam.data.base.NAMDataset at 0x7fb7f08f8b90>"
      ]
     },
     "metadata": {},
     "execution_count": 5
    }
   ],
   "source": [
    "dataset = NAMDataset(config=config,\n",
    "                    csv_file='data/housing.csv',\n",
    "                    features_columns=features_columns,\n",
    "                    targets_column=targets_column)\n",
    "dataset"
   ]
  },
  {
   "cell_type": "code",
   "execution_count": 6,
   "metadata": {},
   "outputs": [
    {
     "output_type": "stream",
     "name": "stdout",
     "text": [
      "Fold((1,)), train: 16512, test: 4128\n[tensor([[ 252,  583,   16,  ..., 2395, 1314, 9240],\n        [ 484,  350,   33,  ...,  753,  296, 5622],\n        [ 573,  124,   45,  ..., 1518,  586, 1051],\n        ...,\n        [ 330,  468,   26,  ..., 1435,  478, 3444],\n        [ 201,  472,    9,  ..., 2002, 1000, 5214],\n        [ 271,  570,   19,  ...,  907,  335, 8112]]), tensor([[1379],\n        [ 328],\n        [1334],\n        ...,\n        [ 276],\n        [2098],\n        [1775]])] [tensor([[  689,     4,    19,  ...,  1470,   352,  6979],\n        [  677,    19,    51,  ...,   846,   533,  1960],\n        [  631,   110,     1,  ...,  2820,   789, 12705],\n        ...,\n        [  563,   146,    39,  ...,   832,   229,   252],\n        [  178,   468,    14,  ...,   952,   363, 12756],\n        [  607,   120,     8,  ...,  1230,   164,  5482]]), tensor([[ 905],\n        [ 710],\n        [3786],\n        ...,\n        [ 930],\n        [3841],\n        [1237]])]\nFold((2,)), train: 16512, test: 4128\n[tensor([[  552,   150,    48,  ...,   203,   105, 12305],\n        [  581,   127,    35,  ...,   694,   293,  8387],\n        [   79,   653,    24,  ...,  1531,   534,  6537],\n        ...,\n        [  257,   542,    41,  ...,   851,   317,  7797],\n        [  557,   134,    43,  ...,   682,   246,  7923],\n        [  604,   123,    28,  ...,  1820,   469,  7999]]), tensor([[3841],\n        [2083],\n        [ 926],\n        ...,\n        [1441],\n        [2871],\n        [1532]])] [tensor([[  415,   402,    42,  ...,  1896,   443,   583],\n        [  569,   160,    35,  ...,  1474,   543,  1505],\n        [  205,   494,    24,  ...,   910,   323, 11324],\n        ...,\n        [  562,   143,    47,  ...,   792,   311,  4681],\n        [  464,   382,    20,  ...,  1693,   514,  3165],\n        [  676,    23,    34,  ...,   668,   280,  6492]]), tensor([[  62],\n        [1960],\n        [2525],\n        ...,\n        [ 945],\n        [ 242],\n        [1252]])]\nFold((3,)), train: 16512, test: 4128\n[tensor([[  160,   484,    19,  ...,  1085,   596,  6110],\n        [  581,   161,    18,  ...,   646,   211,  2186],\n        [  563,   126,    26,  ...,  1471,   518,  9649],\n        ...,\n        [  667,    43,    24,  ...,  1061,   470, 11333],\n        [  628,   111,    14,  ...,  1712,   484, 11614],\n        [  422,   187,    17,  ...,   667,   305,  6274]]), tensor([[2398],\n        [1272],\n        [2253],\n        ...,\n        [3841],\n        [2095],\n        [2126]])] [tensor([[ 425,  462,   12,  ...,  898,  346, 4801],\n        [ 573,  123,   21,  ..., 1163,  398, 1655],\n        [ 586,  136,   41,  ...,  749,  227, 6707],\n        ...,\n        [ 627,  152,   38,  ..., 1462,  335,  826],\n        [ 362,  529,   10,  ..., 1019,  386, 6609],\n        [ 473,  164,   26,  ...,  755,  221, 7541]]), tensor([[ 783],\n        [1022],\n        [1211],\n        ...,\n        [ 503],\n        [ 981],\n        [1438]])]\nFold((4,)), train: 16512, test: 4128\n[tensor([[  175,   442,    16,  ...,   564,   234, 10140],\n        [  660,   133,    13,  ...,   974,   310,  9159],\n        [  394,   338,    22,  ...,   175,    54,     0],\n        ...,\n        [  425,   359,    25,  ...,   243,   115,  1187],\n        [  552,   135,    30,  ...,   650,   330, 11924],\n        [  261,   543,    13,  ...,  1044,   368,  5765]]), tensor([[2406],\n        [1197],\n        [ 585],\n        ...,\n        [ 793],\n        [3841],\n        [1988]])] [tensor([[  146,   526,    21,  ...,  2406,   955, 12054],\n        [  590,   156,    30,  ...,  1446,   519,  6835],\n        [  492,   277,    37,  ...,  1176,   372,   987],\n        ...,\n        [  295,   498,    21,  ...,   172,    85,  2829],\n        [  348,   211,    26,  ...,  1517,   526,  1538],\n        [  571,   142,    35,  ...,  1683,   467,  1481]]), tensor([[3602],\n        [1821],\n        [ 194],\n        ...,\n        [2258],\n        [ 937],\n        [1226]])]\nFold((5,)), train: 16512, test: 4128\n[tensor([[ 564,  138,   39,  ..., 1589,  432, 4078],\n        [ 662,  156,   27,  ..., 2349,  654,  682],\n        [ 545,  167,   24,  ..., 2044,  648, 5505],\n        ...,\n        [ 148,  505,   44,  ..., 1293,  692, 4883],\n        [ 580,  152,   16,  ..., 1563,  567,  259],\n        [ 685,   11,   16,  ..., 1460,  693, 3124]]), tensor([[ 787],\n        [ 280],\n        [1558],\n        ...,\n        [2843],\n        [1423],\n        [1054]])] [tensor([[ 601,  129,   35,  ...,  612,  195, 8933],\n        [ 549,  172,   33,  ...,  922,  211, 7184],\n        [ 297,  488,   22,  ..., 2405,  815, 1580],\n        ...,\n        [ 160,  522,   45,  ...,  750,  321, 7220],\n        [ 581,  129,   44,  ...,  770,  292, 8719],\n        [ 160,  483,   33,  ..., 2345, 1409, 5747]]), tensor([[1377],\n        [1235],\n        [ 519],\n        ...,\n        [1010],\n        [1810],\n        [3841]])]\n"
     ]
    }
   ],
   "source": [
    "for train_dl, test_dl in dataset.data_loaders():\n",
    "    print(next(iter(train_dl)), next(iter(test_dl)))"
   ]
  },
  {
   "cell_type": "code",
   "execution_count": 7,
   "metadata": {},
   "outputs": [
    {
     "output_type": "execute_result",
     "data": {
      "text/plain": [
       "[tensor([[  529,   165,    32,  ...,  1396,   469, 10207],\n",
       "         [  684,    36,    15,  ...,   787,   290, 11128],\n",
       "         [  185,   495,    25,  ...,  1374,   606,  3480],\n",
       "         ...,\n",
       "         [  595,   119,    21,  ...,  2351,   659, 11533],\n",
       "         [  285,   616,    40,  ...,  1653,   709,  3520],\n",
       "         [  463,   361,    26,  ...,  1151,   308,   555]]),\n",
       " tensor([[2064],\n",
       "         [2127],\n",
       "         [1425],\n",
       "         ...,\n",
       "         [2413],\n",
       "         [ 974],\n",
       "         [  75]])]"
      ]
     },
     "metadata": {},
     "execution_count": 7
    }
   ],
   "source": [
    "batch = next(iter(train_dl))\n",
    "batch"
   ]
  },
  {
   "cell_type": "code",
   "execution_count": 42,
   "metadata": {},
   "outputs": [
    {
     "output_type": "execute_result",
     "data": {
      "text/plain": [
       "torch.Size([1024, 1])"
      ]
     },
     "metadata": {},
     "execution_count": 42
    }
   ],
   "source": [
    "inputs = batch[0]\n",
    "torch.chunk(inputs, 8, dim=-1)[0].shape"
   ]
  },
  {
   "cell_type": "code",
   "execution_count": 43,
   "metadata": {},
   "outputs": [],
   "source": [
    "inputs_tuple = torch.chunk(inputs, 8, dim=-1)\n",
    "ind_out = [input_i for i, input_i in enumerate(inputs_tuple)]"
   ]
  },
  {
   "cell_type": "code",
   "execution_count": 50,
   "metadata": {},
   "outputs": [],
   "source": [
    "stacked_out = torch.stack(ind_out, dim=-1)"
   ]
  },
  {
   "cell_type": "code",
   "execution_count": 53,
   "metadata": {},
   "outputs": [
    {
     "output_type": "execute_result",
     "data": {
      "text/plain": [
       "torch.Size([1024, 1])"
      ]
     },
     "metadata": {},
     "execution_count": 53
    }
   ],
   "source": [
    "torch.sum(stacked_out, dim=-1).shape"
   ]
  },
  {
   "cell_type": "code",
   "execution_count": 9,
   "metadata": {},
   "outputs": [
    {
     "output_type": "execute_result",
     "data": {
      "text/plain": [
       "(8, torch.Size([1024, 1]))"
      ]
     },
     "metadata": {},
     "execution_count": 9
    }
   ],
   "source": [
    "batch[0].shape[-1], batch[1].shape"
   ]
  },
  {
   "cell_type": "code",
   "execution_count": 20,
   "metadata": {},
   "outputs": [],
   "source": [
    "nam = NAM(config=config, name=\"NAMModel\", num_inputs=batch[0].shape[-1], num_units=64, shallow=False)"
   ]
  },
  {
   "cell_type": "code",
   "execution_count": 21,
   "metadata": {},
   "outputs": [
    {
     "output_type": "execute_result",
     "data": {
      "text/plain": [
       "[FeatureNN(\n",
       "   (relu): ReLU(inplace=True)\n",
       "   (dropout): Dropout(p=0.0, inplace=False)\n",
       "   (_h1): Linear(in_features=64, out_features=64, bias=True)\n",
       "   (_h2): Linear(in_features=64, out_features=32, bias=True)\n",
       "   (linear): Linear(in_features=32, out_features=1, bias=True)\n",
       "   (hidden_layers): Sequential(\n",
       "     (0): ExU()\n",
       "     (1): Linear(in_features=64, out_features=64, bias=True)\n",
       "     (2): Linear(in_features=64, out_features=32, bias=True)\n",
       "   )\n",
       " ),\n",
       " FeatureNN(\n",
       "   (relu): ReLU(inplace=True)\n",
       "   (dropout): Dropout(p=0.0, inplace=False)\n",
       "   (_h1): Linear(in_features=64, out_features=64, bias=True)\n",
       "   (_h2): Linear(in_features=64, out_features=32, bias=True)\n",
       "   (linear): Linear(in_features=32, out_features=1, bias=True)\n",
       "   (hidden_layers): Sequential(\n",
       "     (0): ExU()\n",
       "     (1): Linear(in_features=64, out_features=64, bias=True)\n",
       "     (2): Linear(in_features=64, out_features=32, bias=True)\n",
       "   )\n",
       " ),\n",
       " FeatureNN(\n",
       "   (relu): ReLU(inplace=True)\n",
       "   (dropout): Dropout(p=0.0, inplace=False)\n",
       "   (_h1): Linear(in_features=64, out_features=64, bias=True)\n",
       "   (_h2): Linear(in_features=64, out_features=32, bias=True)\n",
       "   (linear): Linear(in_features=32, out_features=1, bias=True)\n",
       "   (hidden_layers): Sequential(\n",
       "     (0): ExU()\n",
       "     (1): Linear(in_features=64, out_features=64, bias=True)\n",
       "     (2): Linear(in_features=64, out_features=32, bias=True)\n",
       "   )\n",
       " ),\n",
       " FeatureNN(\n",
       "   (relu): ReLU(inplace=True)\n",
       "   (dropout): Dropout(p=0.0, inplace=False)\n",
       "   (_h1): Linear(in_features=64, out_features=64, bias=True)\n",
       "   (_h2): Linear(in_features=64, out_features=32, bias=True)\n",
       "   (linear): Linear(in_features=32, out_features=1, bias=True)\n",
       "   (hidden_layers): Sequential(\n",
       "     (0): ExU()\n",
       "     (1): Linear(in_features=64, out_features=64, bias=True)\n",
       "     (2): Linear(in_features=64, out_features=32, bias=True)\n",
       "   )\n",
       " ),\n",
       " FeatureNN(\n",
       "   (relu): ReLU(inplace=True)\n",
       "   (dropout): Dropout(p=0.0, inplace=False)\n",
       "   (_h1): Linear(in_features=64, out_features=64, bias=True)\n",
       "   (_h2): Linear(in_features=64, out_features=32, bias=True)\n",
       "   (linear): Linear(in_features=32, out_features=1, bias=True)\n",
       "   (hidden_layers): Sequential(\n",
       "     (0): ExU()\n",
       "     (1): Linear(in_features=64, out_features=64, bias=True)\n",
       "     (2): Linear(in_features=64, out_features=32, bias=True)\n",
       "   )\n",
       " ),\n",
       " FeatureNN(\n",
       "   (relu): ReLU(inplace=True)\n",
       "   (dropout): Dropout(p=0.0, inplace=False)\n",
       "   (_h1): Linear(in_features=64, out_features=64, bias=True)\n",
       "   (_h2): Linear(in_features=64, out_features=32, bias=True)\n",
       "   (linear): Linear(in_features=32, out_features=1, bias=True)\n",
       "   (hidden_layers): Sequential(\n",
       "     (0): ExU()\n",
       "     (1): Linear(in_features=64, out_features=64, bias=True)\n",
       "     (2): Linear(in_features=64, out_features=32, bias=True)\n",
       "   )\n",
       " ),\n",
       " FeatureNN(\n",
       "   (relu): ReLU(inplace=True)\n",
       "   (dropout): Dropout(p=0.0, inplace=False)\n",
       "   (_h1): Linear(in_features=64, out_features=64, bias=True)\n",
       "   (_h2): Linear(in_features=64, out_features=32, bias=True)\n",
       "   (linear): Linear(in_features=32, out_features=1, bias=True)\n",
       "   (hidden_layers): Sequential(\n",
       "     (0): ExU()\n",
       "     (1): Linear(in_features=64, out_features=64, bias=True)\n",
       "     (2): Linear(in_features=64, out_features=32, bias=True)\n",
       "   )\n",
       " ),\n",
       " FeatureNN(\n",
       "   (relu): ReLU(inplace=True)\n",
       "   (dropout): Dropout(p=0.0, inplace=False)\n",
       "   (_h1): Linear(in_features=64, out_features=64, bias=True)\n",
       "   (_h2): Linear(in_features=64, out_features=32, bias=True)\n",
       "   (linear): Linear(in_features=32, out_features=1, bias=True)\n",
       "   (hidden_layers): Sequential(\n",
       "     (0): ExU()\n",
       "     (1): Linear(in_features=64, out_features=64, bias=True)\n",
       "     (2): Linear(in_features=64, out_features=32, bias=True)\n",
       "   )\n",
       " )]"
      ]
     },
     "metadata": {},
     "execution_count": 21
    }
   ],
   "source": [
    "nam.feature_nns"
   ]
  },
  {
   "cell_type": "code",
   "execution_count": 19,
   "metadata": {},
   "outputs": [
    {
     "output_type": "execute_result",
     "data": {
      "text/plain": [
       "tensor([-7615.4722, -8860.6367, -2092.2812,  ..., -8710.9600, -1141.4934,\n",
       "          300.8806], grad_fn=<AddBackward0>)"
      ]
     },
     "metadata": {},
     "execution_count": 19
    }
   ],
   "source": [
    "nam(batch[0])"
   ]
  },
  {
   "cell_type": "code",
   "execution_count": 9,
   "metadata": {},
   "outputs": [],
   "source": [
    "fnn = FeatureNN(config=config, name=\"Feature_NN\", input_shape=batch[0].shape, num_units=64, shallow=False)"
   ]
  },
  {
   "cell_type": "code",
   "execution_count": 10,
   "metadata": {},
   "outputs": [
    {
     "output_type": "execute_result",
     "data": {
      "text/plain": [
       "FeatureNN(\n",
       "  (relu): ReLU(inplace=True)\n",
       "  (dropout): Dropout(p=0.5, inplace=False)\n",
       "  (_h1): Linear(in_features=64, out_features=64, bias=True)\n",
       "  (_h2): Linear(in_features=64, out_features=32, bias=True)\n",
       "  (linear): Linear(in_features=32, out_features=1, bias=True)\n",
       "  (hidden_layers): Sequential(\n",
       "    (0): ExU()\n",
       "    (1): Linear(in_features=64, out_features=64, bias=True)\n",
       "    (2): Linear(in_features=64, out_features=32, bias=True)\n",
       "  )\n",
       ")"
      ]
     },
     "metadata": {},
     "execution_count": 10
    }
   ],
   "source": [
    "fnn"
   ]
  },
  {
   "cell_type": "code",
   "execution_count": 14,
   "metadata": {},
   "outputs": [
    {
     "output_type": "execute_result",
     "data": {
      "text/plain": [
       "tensor([-20471.6133,  -8078.4175, -13975.0645,  ...,  37003.4414,\n",
       "          7193.8286,   9193.8447], grad_fn=<SqueezeBackward1>)"
      ]
     },
     "metadata": {},
     "execution_count": 14
    }
   ],
   "source": [
    "fnn(batch[0])"
   ]
  },
  {
   "cell_type": "code",
   "execution_count": null,
   "metadata": {},
   "outputs": [],
   "source": []
  }
 ]
}