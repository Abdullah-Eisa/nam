{
 "metadata": {
  "language_info": {
   "codemirror_mode": {
    "name": "ipython",
    "version": 3
   },
   "file_extension": ".py",
   "mimetype": "text/x-python",
   "name": "python",
   "nbconvert_exporter": "python",
   "pygments_lexer": "ipython3",
   "version": "3.7.9-final"
  },
  "orig_nbformat": 2,
  "kernelspec": {
   "name": "python3",
   "display_name": "Python 3.7.9 64-bit ('nam': conda)",
   "metadata": {
    "interpreter": {
     "hash": "72dcab71910be8175790488ca8066d52b5206e956c78bd58afc0f3f15daf3d5c"
    }
   }
  }
 },
 "nbformat": 4,
 "nbformat_minor": 2,
 "cells": [
  {
   "cell_type": "code",
   "execution_count": 49,
   "metadata": {},
   "outputs": [],
   "source": [
    "%reload_ext autoreload\n",
    "%autoreload 2\n",
    "%matplotlib inline"
   ]
  },
  {
   "cell_type": "code",
   "execution_count": 50,
   "metadata": {},
   "outputs": [],
   "source": [
    "import time\n",
    "import json\n",
    "import os\n",
    "import random\n",
    "from typing import Dict, Iterator, List, Tuple\n",
    "\n",
    "import numpy as np\n",
    "import pandas as pd\n",
    "import torch\n",
    "from torch.utils.data import DataLoader\n",
    "from loguru import logger\n",
    "from sklearn.datasets import load_breast_cancer\n",
    "from sklearn.model_selection import KFold\n",
    "\n",
    "from nam.config.default import defaults\n",
    "from nam.types import Config\n",
    "from nam.utils.args import parse_args\n",
    "from nam.data.base import NAMDataset"
   ]
  },
  {
   "cell_type": "code",
   "execution_count": 51,
   "metadata": {},
   "outputs": [
    {
     "output_type": "execute_result",
     "data": {
      "text/plain": [
       "namespace(device='cpu',\n",
       "          logdir='logs',\n",
       "          lr=0.01,\n",
       "          batch_size=1024,\n",
       "          l2_regularization=0.0,\n",
       "          output_regularization=0.0,\n",
       "          decay_rate=0.995,\n",
       "          dropout=0.5,\n",
       "          feature_dropout=0.0,\n",
       "          data_split=1,\n",
       "          seed=1377,\n",
       "          num_basis_functions=1000,\n",
       "          units_multiplier=2,\n",
       "          cross_val=False,\n",
       "          max_checkpoints_to_keep=1,\n",
       "          save_checkpoint_every_n_epochs=10,\n",
       "          n_models=1,\n",
       "          num_splits=3,\n",
       "          fold_num=1,\n",
       "          activation='exu',\n",
       "          regression=False,\n",
       "          debug=False,\n",
       "          shallow=False,\n",
       "          use_dnn=False,\n",
       "          early_stopping_epochs=60,\n",
       "          n_folds=5)"
      ]
     },
     "metadata": {},
     "execution_count": 51
    }
   ],
   "source": [
    "config = defaults()\n",
    "config"
   ]
  },
  {
   "source": [
    "## GALLUP Data"
   ],
   "cell_type": "markdown",
   "metadata": {}
  },
  {
   "cell_type": "code",
   "execution_count": 52,
   "metadata": {},
   "outputs": [],
   "source": [
    "features_columns = [\"income_2\", \"WP1219\", \"WP1220\", \"weo_gdpc_con_ppp\"]\n",
    "targets_column = [\"country\"]\n",
    "weights_column = [\"wgt\"]"
   ]
  },
  {
   "cell_type": "code",
   "execution_count": 53,
   "metadata": {},
   "outputs": [
    {
     "output_type": "execute_result",
     "data": {
      "text/plain": [
       "<nam.data.base.NAMDataset at 0x7fa51080d910>"
      ]
     },
     "metadata": {},
     "execution_count": 53
    }
   ],
   "source": [
    "dataset = NAMDataset(config=config,\n",
    "                    csv_file='data/GALLUP.csv',\n",
    "                    features_columns=features_columns,\n",
    "                    targets_column=targets_column,\n",
    "                    weights_column=weights_column)\n",
    "dataset"
   ]
  },
  {
   "source": [
    "### K-fold"
   ],
   "cell_type": "markdown",
   "metadata": {}
  },
  {
   "cell_type": "code",
   "execution_count": 54,
   "metadata": {
    "tags": []
   },
   "outputs": [
    {
     "output_type": "stream",
     "name": "stdout",
     "text": [
      "Fold((1,)), train: 1072647, test: 268162\n",
      "[tensor([[22196,     0,    34,   627],\n",
      "        [31624,     1,    11,   604],\n",
      "        [37435,     0,     7,   340],\n",
      "        ...,\n",
      "        [    0,     1,    16,   247],\n",
      "        [34044,     1,    31,   398],\n",
      "        [69811,     1,    68,  1038]]), tensor([[254198],\n",
      "        [161876],\n",
      "        [ 69969],\n",
      "        ...,\n",
      "        [130225],\n",
      "        [139738],\n",
      "        [ 18629]]), tensor([[ 90],\n",
      "        [148],\n",
      "        [ 16],\n",
      "        ...,\n",
      "        [127],\n",
      "        [108],\n",
      "        [133]])] [tensor([[ 6944,     1,    31,   294],\n",
      "        [62006,     0,    34,   571],\n",
      "        [ 5782,     0,     8,   319],\n",
      "        ...,\n",
      "        [58303,     1,    16,   344],\n",
      "        [77505,     1,    33,   960],\n",
      "        [64443,     0,    16,   750]]), tensor([[147747],\n",
      "        [ 99166],\n",
      "        [ 20756],\n",
      "        ...,\n",
      "        [119298],\n",
      "        [278523],\n",
      "        [196549]]), tensor([[60],\n",
      "        [63],\n",
      "        [33],\n",
      "        ...,\n",
      "        [15],\n",
      "        [50],\n",
      "        [70]])]\n",
      "Fold((2,)), train: 1072647, test: 268162\n",
      "[tensor([[67808,     1,    53,   960],\n",
      "        [21313,     0,    15,   640],\n",
      "        [46501,     1,    30,   356],\n",
      "        ...,\n",
      "        [29880,     1,    19,   467],\n",
      "        [86986,     1,    24,   821],\n",
      "        [43272,     1,    27,   486]]), tensor([[  2542],\n",
      "        [283374],\n",
      "        [ 66755],\n",
      "        ...,\n",
      "        [ 38157],\n",
      "        [117993],\n",
      "        [269780]]), tensor([[ 50],\n",
      "        [ 90],\n",
      "        [108],\n",
      "        ...,\n",
      "        [ 29],\n",
      "        [ 72],\n",
      "        [109]])] [tensor([[88952,     0,    10,   983],\n",
      "        [93087,     1,    45,   867],\n",
      "        [83360,     0,     1,   625],\n",
      "        ...,\n",
      "        [45648,     0,    37,   404],\n",
      "        [45528,     1,    14,   540],\n",
      "        [40967,     1,    16,   281]]), tensor([[107333],\n",
      "        [ 52286],\n",
      "        [209216],\n",
      "        ...,\n",
      "        [ 23196],\n",
      "        [ 69504],\n",
      "        [115475]]), tensor([[  7],\n",
      "        [ 72],\n",
      "        [ 76],\n",
      "        ...,\n",
      "        [108],\n",
      "        [ 30],\n",
      "        [ 56]])]\n",
      "Fold((3,)), train: 1072647, test: 268162\n",
      "[tensor([[30421,     1,    46,   630],\n",
      "        [61904,     0,    32,   356],\n",
      "        [60452,     0,    28, 17146],\n",
      "        ...,\n",
      "        [42044,     0,     2,   287],\n",
      "        [55952,     0,    24,   286],\n",
      "        [16010,     1,    17,    16]]), tensor([[231058],\n",
      "        [ 77136],\n",
      "        [ 88643],\n",
      "        ...,\n",
      "        [275392],\n",
      "        [ 94146],\n",
      "        [234557]]), tensor([[ 48],\n",
      "        [108],\n",
      "        [ 32],\n",
      "        ...,\n",
      "        [ 60],\n",
      "        [150],\n",
      "        [102]])] [tensor([[ 78210,      0,     28,    910],\n",
      "        [ 18030,      1,     27,    121],\n",
      "        [ 18438,      1,     13,    100],\n",
      "        ...,\n",
      "        [ 34923,      1,     13,     51],\n",
      "        [ 48504,      0,      5,    511],\n",
      "        [101782,      1,     67,    900]]), tensor([[   138],\n",
      "        [158353],\n",
      "        [ 75942],\n",
      "        ...,\n",
      "        [282885],\n",
      "        [283221],\n",
      "        [143325]]), tensor([[ 47],\n",
      "        [136],\n",
      "        [ 14],\n",
      "        ...,\n",
      "        [ 31],\n",
      "        [120],\n",
      "        [146]])]\n",
      "Fold((4,)), train: 1072647, test: 268162\n",
      "[tensor([[84300,     0,   250,   960],\n",
      "        [27580,     1,    40,   238],\n",
      "        [48425,     0,    52,   707],\n",
      "        ...,\n",
      "        [84218,     1,    44,   847],\n",
      "        [49633,     0,     2,   332],\n",
      "        [82396,     0,    41,   907]]), tensor([[ 14953],\n",
      "        [118666],\n",
      "        [ 77266],\n",
      "        ...,\n",
      "        [263152],\n",
      "        [191052],\n",
      "        [215571]]), tensor([[ 50],\n",
      "        [ 51],\n",
      "        [148],\n",
      "        ...,\n",
      "        [128],\n",
      "        [134],\n",
      "        [ 47]])] [tensor([[50382,     1,    14,   217],\n",
      "        [10448,     1,    14,    54],\n",
      "        [27933,     1,    21,   267],\n",
      "        ...,\n",
      "        [    0,     0,    59,   363],\n",
      "        [36970,     1,    17,   435],\n",
      "        [75228,     1,    61,   786]]), tensor([[ 74300],\n",
      "        [161689],\n",
      "        [269473],\n",
      "        ...,\n",
      "        [ 66337],\n",
      "        [170360],\n",
      "        [137638]]), tensor([[ 88],\n",
      "        [139],\n",
      "        [ 60],\n",
      "        ...,\n",
      "        [ 43],\n",
      "        [129],\n",
      "        [112]])]\n",
      "Fold((5,)), train: 1072648, test: 268161\n",
      "[tensor([[77517,     0,    61,   850],\n",
      "        [33494,     1,    12,    51],\n",
      "        [62596,     0,    28,   674],\n",
      "        ...,\n",
      "        [96844,     1,    40,   911],\n",
      "        [70848,     1,    27,   473],\n",
      "        [72349,     1,    41,   878]]), tensor([[113145],\n",
      "        [ 46158],\n",
      "        [137841],\n",
      "        ...,\n",
      "        [285955],\n",
      "        [ 89006],\n",
      "        [ 15403]]), tensor([[ 65],\n",
      "        [ 31],\n",
      "        [149],\n",
      "        ...,\n",
      "        [146],\n",
      "        [ 69],\n",
      "        [ 66]])] [tensor([[97964,     1,    57,  1035],\n",
      "        [26492,     1,    17,   653],\n",
      "        [80232,     0,    24,   521],\n",
      "        ...,\n",
      "        [30187,     0,    18,   454],\n",
      "        [56839,     1,     9,   406],\n",
      "        [59922,     1,    41,   629]]), tensor([[ 81898],\n",
      "        [106708],\n",
      "        [135559],\n",
      "        ...,\n",
      "        [107048],\n",
      "        [197330],\n",
      "        [194370]]), tensor([[147],\n",
      "        [149],\n",
      "        [126],\n",
      "        ...,\n",
      "        [140],\n",
      "        [ 92],\n",
      "        [ 62]])]\n"
     ]
    }
   ],
   "source": [
    "for train_dl, test_dl in dataset.data_loaders():\n",
    "    print(next(iter(train_dl)), next(iter(test_dl)))"
   ]
  },
  {
   "source": [
    "## Housing Data"
   ],
   "cell_type": "markdown",
   "metadata": {}
  },
  {
   "cell_type": "code",
   "execution_count": 55,
   "metadata": {},
   "outputs": [],
   "source": [
    "\n",
    "features_columns = [\n",
    "    \"longitude\", \"latitude\", \"housing_median_age\", \"total_rooms\",\n",
    "    \"total_bedrooms\", \"population\", \"households\", \"median_income\"\n",
    "]\n",
    "targets_column = [\"median_house_value\"]"
   ]
  },
  {
   "cell_type": "code",
   "execution_count": 56,
   "metadata": {},
   "outputs": [
    {
     "output_type": "execute_result",
     "data": {
      "text/plain": [
       "<nam.data.base.NAMDataset at 0x7fa5714c3650>"
      ]
     },
     "metadata": {},
     "execution_count": 56
    }
   ],
   "source": [
    "dataset = NAMDataset(config=config,\n",
    "                    csv_file='data/housing.csv',\n",
    "                    features_columns=features_columns,\n",
    "                    targets_column=targets_column)\n",
    "dataset"
   ]
  },
  {
   "cell_type": "code",
   "execution_count": 57,
   "metadata": {},
   "outputs": [
    {
     "output_type": "stream",
     "name": "stdout",
     "text": [
      "Fold((1,)), train: 16512, test: 4128\n[tensor([[  563,   146,    51,  ...,  1179,   383,  1005],\n        [  629,   154,    34,  ...,   702,   252,  5761],\n        [  550,   172,    29,  ...,  1960,   368,  5794],\n        ...,\n        [  552,   153,    51,  ...,   382,   137, 12927],\n        [  550,   164,    32,  ...,  1519,   596,  6786],\n        [  558,   148,    26,  ...,  2358,   954,   575]]), tensor([[ 745],\n        [ 765],\n        [ 993],\n        ...,\n        [3841],\n        [2245],\n        [ 460]])] [tensor([[  559,   139,    32,  ...,  3481,  1175,  3967],\n        [  599,   120,    23,  ...,  2907,   797,  7546],\n        [  175,   500,    41,  ...,   619,   197,  4159],\n        ...,\n        [  160,   521,    46,  ...,   770,   341,  6004],\n        [  489,   336,    16,  ...,  1883,   617,   785],\n        [  199,   483,    14,  ...,  2355,   713, 12440]]), tensor([[1021],\n        [1655],\n        [ 385],\n        ...,\n        [ 992],\n        [ 110],\n        [3620]])]\nFold((2,)), train: 16512, test: 4128\n[tensor([[ 563,  156,   36,  ..., 3303, 1587, 1885],\n        [ 413,  401,   24,  ..., 1316,  470,   31],\n        [ 582,  134,   18,  ..., 1733,  666, 7216],\n        ...,\n        [ 458,  297,   12,  ..., 1159,  375,  260],\n        [ 193,  424,   38,  ..., 1109,  490, 4130],\n        [ 564,  155,   34,  ..., 3143, 1005, 1740]]), tensor([[2398],\n        [ 108],\n        [1977],\n        ...,\n        [ 219],\n        [2142],\n        [1568]])] [tensor([[  575,   123,    44,  ...,   708,   517,   648],\n        [  485,   350,    27,  ...,  1131,   316,  4494],\n        [  620,   154,    32,  ...,  1224,   256,  4159],\n        ...,\n        [  605,   136,    20,  ...,  1386,   390, 11459],\n        [  585,   135,    36,  ...,   954,   224,  5279],\n        [  160,   770,    15,  ...,  1405,   499,  3187]]), tensor([[1209],\n        [ 144],\n        [ 737],\n        ...,\n        [2340],\n        [1120],\n        [ 344]])]\nFold((3,)), train: 16512, test: 4128\n[tensor([[ 599,  127,   32,  ...,  905,  342, 7662],\n        [ 605,  130,   30,  ..., 1505,  681, 6396],\n        [ 557,  149,   39,  ..., 1818,  613, 1328],\n        ...,\n        [ 247,  589,   34,  ..., 2443,  648, 1677],\n        [ 560,  156,   28,  ...,  664,  277, 2224],\n        [ 187,  465,   19,  ..., 1470,  746, 7533]]), tensor([[1960],\n        [1820],\n        [ 720],\n        ...,\n        [ 196],\n        [2077],\n        [3841]])] [tensor([[ 158,  485,   29,  ..., 2094, 1437, 5415],\n        [ 255,  594,   37,  ...,  570,  225, 2473],\n        [ 562,  152,   35,  ...,  124,  135,   64],\n        ...,\n        [ 574,  151,   46,  ..., 1166,  259, 2859],\n        [ 672,  168,   30,  ..., 1381,  503, 8861],\n        [ 244,  583,   51,  ...,  597,  349, 6249]]), tensor([[2953],\n        [ 319],\n        [3653],\n        ...,\n        [ 814],\n        [1195],\n        [ 962]])]\nFold((4,)), train: 16512, test: 4128\n[tensor([[  586,   125,    33,  ...,   940,   352, 10528],\n        [  570,   156,    40,  ...,  1509,   415,  2164],\n        [  552,   152,    42,  ...,  1801,   967, 10045],\n        ...,\n        [  181,   469,    35,  ...,  1138,   522,  9279],\n        [  671,    19,    37,  ...,  1613,   728,  6646],\n        [  173,   678,    36,  ...,  1033,   423,  3975]]), tensor([[3110],\n        [1154],\n        [3841],\n        ...,\n        [3202],\n        [2475],\n        [ 282]])] [tensor([[  677,   154,     8,  ...,  2543,   924,  8054],\n        [  488,   277,    15,  ...,  2218,   957,  5370],\n        [  569,   140,    36,  ...,  1013,   232,  1714],\n        ...,\n        [  165,   482,    16,  ...,  1990,   629, 10925],\n        [  677,    24,    33,  ...,  1567,   514,  6420],\n        [  590,   127,    25,  ...,  1751,   542, 10371]]), tensor([[ 942],\n        [ 769],\n        [ 427],\n        ...,\n        [3220],\n        [1234],\n        [1954]])]\nFold((5,)), train: 16512, test: 4128\n[tensor([[  583,   163,    43,  ...,  2250,   898,  5723],\n        [  404,   190,    24,  ...,  1642,   461, 10017],\n        [  242,   576,    20,  ...,  1827,   760,  7237],\n        ...,\n        [  565,   119,    38,  ...,  2142,   736,  1838],\n        [  246,   579,    41,  ...,  1570,   521,  1304],\n        [  682,     4,    11,  ...,   843,   289,  2830]]), tensor([[2554],\n        [2253],\n        [1167],\n        ...,\n        [1925],\n        [ 191],\n        [ 909]])] [tensor([[  682,    21,    20,  ...,  1784,   602,  1010],\n        [  180,   698,    19,  ...,   641,   249,  2421],\n        [  259,   571,    13,  ...,  1412,   455, 10425],\n        ...,\n        [  666,   158,    51,  ...,   916,   255,    59],\n        [  604,   155,    34,  ...,   556,   318,  2776],\n        [  603,   112,    21,  ...,  1923,   936,  4912]]), tensor([[ 585],\n        [ 528],\n        [1989],\n        ...,\n        [ 460],\n        [1473],\n        [1194]])]\n"
     ]
    }
   ],
   "source": [
    "for train_dl, test_dl in dataset.data_loaders():\n",
    "    print(next(iter(train_dl)), next(iter(test_dl)))"
   ]
  }
 ]
}