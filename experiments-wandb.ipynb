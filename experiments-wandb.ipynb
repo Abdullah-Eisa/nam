{
 "cells": [
  {
   "cell_type": "code",
   "execution_count": 1,
   "metadata": {},
   "outputs": [],
   "source": [
    "%reload_ext autoreload\n",
    "%autoreload 2\n",
    "%matplotlib inline"
   ]
  },
  {
   "cell_type": "code",
   "execution_count": 2,
   "metadata": {
    "scrolled": true
   },
   "outputs": [],
   "source": [
    "import wandb\n",
    "from nam.utils.loggers import WandBLogger\n",
    "from nam.config import defaults\n",
    "from main import get_config"
   ]
  },
  {
   "cell_type": "code",
   "execution_count": 3,
   "metadata": {},
   "outputs": [],
   "source": [
    "import numpy as np\n",
    "import pandas as pd\n",
    "from sklearn.preprocessing import OneHotEncoder, LabelEncoder, MinMaxScaler\n",
    "from sklearn.model_selection import train_test_split\n",
    "from sklearn.datasets import load_boston\n",
    "from sklearn.metrics import r2_score, accuracy_score\n",
    "import torch \n",
    "import torch.nn as nn\n",
    "import torch.nn.functional as F"
   ]
  },
  {
   "cell_type": "code",
   "execution_count": 4,
   "metadata": {},
   "outputs": [],
   "source": [
    "import numpy as np\n",
    "import pandas as pd\n",
    "import torch\n",
    "from torch.utils.data import DataLoader\n",
    "import torch.nn.functional as F\n",
    "from loguru import logger\n",
    "\n",
    "from nam.config import defaults\n",
    "from nam.types import Config\n",
    "from nam.utils.args import parse_args\n",
    "from nam.data import NAMDataset\n",
    "from nam.models import DNN, FeatureNN, NAM, get_num_units\n",
    "from nam.engine import Engine\n",
    "\n",
    "from main import get_config\n",
    "\n",
    "import pytorch_lightning as pl"
   ]
  },
  {
   "cell_type": "code",
   "execution_count": 5,
   "metadata": {},
   "outputs": [],
   "source": [
    "import numpy as np\n",
    "import pandas as pd\n",
    "import torch\n",
    "from torch.utils.data import DataLoader\n",
    "import torch.nn.functional as F\n",
    "from loguru import logger\n",
    "\n",
    "from nam.config import defaults\n",
    "from nam.types import Config\n",
    "from nam.utils.args import parse_args\n",
    "from nam.data import NAMDataset\n",
    "from nam.models import DNN, FeatureNN, NAM, get_num_units\n",
    "from nam.engine import Engine\n",
    "\n",
    "from main import get_config\n",
    "\n",
    "import pytorch_lightning as pl"
   ]
  },
  {
   "cell_type": "code",
   "execution_count": 6,
   "metadata": {},
   "outputs": [],
   "source": [
    "sweep_config = {\n",
    "    'method': 'random', #grid, random\n",
    "    'metric': {\n",
    "      'name': 'loss',\n",
    "      'goal': 'minimize'   \n",
    "    },\n",
    "    'parameters': {\n",
    "        'training_epochs': {\n",
    "            'values': [2, 5, 10, 50]\n",
    "        },\n",
    "        'batch_size': {\n",
    "            'values': [256, 128, 64, 32]\n",
    "        },\n",
    "        'dropout': {\n",
    "            'values': [0.3, 0.4, 0.5]\n",
    "        },\n",
    "        'decay_rate': {\n",
    "            'values': [0.0005, 0.005, 0.05]\n",
    "        },\n",
    "        'lr': {\n",
    "            'values': [1e-2, 1e-3, 1e-4, 3e-4, 3e-5, 1e-5]\n",
    "        },\n",
    "        'optimizer': {\n",
    "            'values': ['adam', 'sgd', 'rmsprop']\n",
    "        },\n",
    "        'activation': {\n",
    "            'values': ['relu', 'exu']\n",
    "        }\n",
    "    }\n",
    "}"
   ]
  },
  {
   "cell_type": "code",
   "execution_count": 7,
   "metadata": {},
   "outputs": [
    {
     "name": "stdout",
     "output_type": "stream",
     "text": [
      "Create sweep with ID: nt11q4wz\n",
      "Sweep URL: https://wandb.ai/amrmkayid/nam/sweeps/nt11q4wz\n"
     ]
    }
   ],
   "source": [
    "sweep_id = wandb.sweep(sweep_config, entity=\"amrmkayid\", project=\"nam\")"
   ]
  },
  {
   "cell_type": "code",
   "execution_count": 8,
   "metadata": {},
   "outputs": [],
   "source": [
    "def get_dataset(config, name='housing'):\n",
    "    if name == 'housing':\n",
    "        features_columns = [\n",
    "        \"longitude\", \"latitude\", \"housing_median_age\", \"total_rooms\",\n",
    "             \"population\", \"households\", \"median_income\", #\"total_bedrooms\",\n",
    "        ]\n",
    "        targets_column = [\"median_house_value\"]\n",
    "        dataset = NAMDataset(config=config,\n",
    "                            csv_file='data/housing.csv',\n",
    "                            features_columns=features_columns,\n",
    "                            targets_column=targets_column, \n",
    "                            one_hot=False)\n",
    "        return dataset\n",
    "    \n",
    "    elif name == 'gallup':\n",
    "        features_columns = [\"income_2\", \"WP1219\", \"WP1220\", \"weo_gdpc_con_ppp\"]\n",
    "        targets_column = [\"WP16\"]\n",
    "        weights_column = [\"wgt\"]\n",
    "        \n",
    "        data = pd.read_csv('data/GALLUP.csv')\n",
    "        data = data.fillna(method='ffill')\n",
    "        \n",
    "        dataset = NAMDataset(config=config,\n",
    "                    csv_file=data, #'data/GALLUP.csv',\n",
    "                    features_columns=features_columns,\n",
    "                    targets_column=targets_column,\n",
    "                    weights_column=weights_column, \n",
    "                    #one_hot=True,\n",
    "                    )\n",
    "        return dataset\n",
    "        "
   ]
  },
  {
   "cell_type": "code",
   "execution_count": 9,
   "metadata": {},
   "outputs": [],
   "source": [
    "def train():\n",
    "    config = get_config()\n",
    "    \n",
    "    logger = WandBLogger(configs=config)\n",
    "    \n",
    "    dataset = get_dataset(config, name='housing')\n",
    "\n",
    "\n",
    "    train_dataset, test_dataset = torch.utils.data.random_split(\n",
    "      dataset,\n",
    "      [int(np.floor(len(dataset) * .9)),\n",
    "       int(np.ceil(len(dataset) * .1))],\n",
    "    )\n",
    "#     print(len(train_dataset), len(test_dataset))\n",
    "\n",
    "    train_dataset, val_dataset = torch.utils.data.random_split(\n",
    "      train_dataset,\n",
    "      [int(np.floor(len(train_dataset) * .8)),\n",
    "       int(np.ceil(len(train_dataset) * .2))],\n",
    "    )\n",
    "#     print(len(train_dataset), len(val_dataset))\n",
    "\n",
    "    train_dataloader = DataLoader(\n",
    "      train_dataset,\n",
    "      batch_size=config.batch_size,\n",
    "      shuffle=True,\n",
    "      num_workers=config.num_workers,\n",
    "    )\n",
    "    val_dataloader = DataLoader(\n",
    "      val_dataset,\n",
    "      batch_size=config.batch_size * 5,\n",
    "      shuffle=False,\n",
    "      num_workers=config.num_workers,\n",
    "    )\n",
    "\n",
    "#     if config.model == 'fnn':\n",
    "#         fnn = FeatureNN(\n",
    "#           config=config,\n",
    "#           name=f'FeatureNN_{0}',\n",
    "#           input_shape=next(iter(train_dataloader))[0].shape[-1],\n",
    "#           num_units=128,\n",
    "#         )\n",
    "#     elif config.model == 'nam':\n",
    "    model = NAM(\n",
    "          config=config,\n",
    "          name=\"NAMModel\",\n",
    "          num_inputs=len(dataset[0][0]),\n",
    "          num_units=get_num_units(config, train_dataloader)\n",
    "    )\n",
    "        \n",
    "    \n",
    "    \n",
    "    loss_obj = torch.nn.MSELoss()\n",
    "    \n",
    "    # Define the optimizer\n",
    "    if config.optimizer=='sgd':\n",
    "        optimizer = torch.optim.SGD(model.parameters(), lr=config.lr)\n",
    "    elif config.optimizer=='rmsprop':\n",
    "        optimizer = torch.optim.RMSprop(model.parameters(), lr=config.lr)\n",
    "    elif config.optimizer=='adam':\n",
    "        optimizer = torch.optim.Adam(model.parameters(), lr=config.lr)\n",
    "    \n",
    "    \n",
    "    \n",
    "    logger.watch(model, log=\"all\", log_freq=10)\n",
    "    \n",
    "    for i in range(config.training_epochs):\n",
    "        optimizer.zero_grad()\n",
    "        for X, y, *w in train_dataloader:\n",
    "            y_pred = model(X)\n",
    "            loss = loss_obj(y_pred, y)\n",
    "            loss.backward()\n",
    "            optimizer.step()\n",
    "            logger.write({'loss': loss.item()})\n",
    "#         print(loss)"
   ]
  },
  {
   "cell_type": "code",
   "execution_count": null,
   "metadata": {
    "scrolled": true
   },
   "outputs": [
    {
     "name": "stderr",
     "output_type": "stream",
     "text": [
      "\u001b[34m\u001b[1mwandb\u001b[0m: Agent Starting Run: n63qi1w4 with config:\n",
      "\u001b[34m\u001b[1mwandb\u001b[0m: \tactivation: relu\n",
      "\u001b[34m\u001b[1mwandb\u001b[0m: \tbatch_size: 128\n",
      "\u001b[34m\u001b[1mwandb\u001b[0m: \tdecay_rate: 0.05\n",
      "\u001b[34m\u001b[1mwandb\u001b[0m: \tdropout: 0.4\n",
      "\u001b[34m\u001b[1mwandb\u001b[0m: \tlr: 0.0001\n",
      "\u001b[34m\u001b[1mwandb\u001b[0m: \toptimizer: rmsprop\n",
      "\u001b[34m\u001b[1mwandb\u001b[0m: \ttraining_epochs: 10\n",
      "\u001b[34m\u001b[1mwandb\u001b[0m: Currently logged in as: \u001b[33mamrmkayid\u001b[0m (use `wandb login --relogin` to force relogin)\n",
      "\u001b[34m\u001b[1mwandb\u001b[0m: \u001b[33mWARNING\u001b[0m Ignored wandb.init() arg project when running a sweep\n"
     ]
    },
    {
     "data": {
      "text/html": [
       "\n",
       "                Tracking run with wandb version 0.10.18<br/>\n",
       "                Syncing run <strong style=\"color:#cdcd00\">desert-sweep-1</strong> to <a href=\"https://wandb.ai\" target=\"_blank\">Weights & Biases</a> <a href=\"https://docs.wandb.com/integrations/jupyter.html\" target=\"_blank\">(Documentation)</a>.<br/>\n",
       "                Project page: <a href=\"https://wandb.ai/amrmkayid/nam\" target=\"_blank\">https://wandb.ai/amrmkayid/nam</a><br/>\n",
       "                Sweep page: <a href=\"https://wandb.ai/amrmkayid/nam/sweeps/nt11q4wz\" target=\"_blank\">https://wandb.ai/amrmkayid/nam/sweeps/nt11q4wz</a><br/>\n",
       "Run page: <a href=\"https://wandb.ai/amrmkayid/nam/runs/n63qi1w4\" target=\"_blank\">https://wandb.ai/amrmkayid/nam/runs/n63qi1w4</a><br/>\n",
       "                Run data is saved locally in <code>/Users/amrmkayid/Desktop/nam/wandb/run-20210213_162433-n63qi1w4</code><br/><br/>\n",
       "            "
      ],
      "text/plain": [
       "<IPython.core.display.HTML object>"
      ]
     },
     "metadata": {},
     "output_type": "display_data"
    },
    {
     "name": "stderr",
     "output_type": "stream",
     "text": [
      "/Users/amrmkayid/anaconda3/envs/nam/lib/python3.7/site-packages/torch/nn/init.py:162: UserWarning: mean is more than 2 std from [a, b] in nn.init.trunc_normal_. The distribution of values may be incorrect.\n",
      "  return _no_grad_trunc_normal_(tensor, mean, std, a, b)\n"
     ]
    },
    {
     "data": {
      "text/html": [
       "<br/>Waiting for W&B process to finish, PID 6448<br/>Program ended successfully."
      ],
      "text/plain": [
       "<IPython.core.display.HTML object>"
      ]
     },
     "metadata": {},
     "output_type": "display_data"
    },
    {
     "data": {
      "application/vnd.jupyter.widget-view+json": {
       "model_id": "",
       "version_major": 2,
       "version_minor": 0
      },
      "text/plain": [
       "VBox(children=(Label(value=' 0.40MB of 0.40MB uploaded (0.00MB deduped)\\r'), FloatProgress(value=1.0, max=1.0)…"
      ]
     },
     "metadata": {},
     "output_type": "display_data"
    },
    {
     "data": {
      "text/html": [
       "Find user logs for this run at: <code>/Users/amrmkayid/Desktop/nam/wandb/run-20210213_162433-n63qi1w4/logs/debug.log</code>"
      ],
      "text/plain": [
       "<IPython.core.display.HTML object>"
      ]
     },
     "metadata": {},
     "output_type": "display_data"
    },
    {
     "data": {
      "text/html": [
       "Find internal logs for this run at: <code>/Users/amrmkayid/Desktop/nam/wandb/run-20210213_162433-n63qi1w4/logs/debug-internal.log</code>"
      ],
      "text/plain": [
       "<IPython.core.display.HTML object>"
      ]
     },
     "metadata": {},
     "output_type": "display_data"
    },
    {
     "data": {
      "text/html": [
       "<h3>Run summary:</h3><br/><style>\n",
       "    table.wandb td:nth-child(1) { padding: 0 10px; text-align: right }\n",
       "    </style><table class=\"wandb\">\n",
       "<tr><td>loss</td><td>28580450304.0</td></tr><tr><td>_runtime</td><td>20</td></tr><tr><td>_timestamp</td><td>1613226293</td></tr><tr><td>_step</td><td>149</td></tr></table>"
      ],
      "text/plain": [
       "<IPython.core.display.HTML object>"
      ]
     },
     "metadata": {},
     "output_type": "display_data"
    },
    {
     "data": {
      "text/html": [
       "<h3>Run history:</h3><br/><style>\n",
       "    table.wandb td:nth-child(1) { padding: 0 10px; text-align: right }\n",
       "    </style><table class=\"wandb\">\n",
       "<tr><td>loss</td><td>█▂▂▁▂▁▁▁▁▂▂▂▁▁▁▁▁▁▁▁▁▁▁▁▁▁▁▁▁▁▁▁▁▁▁▁▁▁▁▁</td></tr><tr><td>_runtime</td><td>▁▁▁▁▁▂▂▂▂▃▃▃▃▃▃▄▄▄▄▅▅▅▅▅▅▆▆▆▆▆▇▇▇▇▇█████</td></tr><tr><td>_timestamp</td><td>▁▁▁▁▁▂▂▂▂▃▃▃▃▃▃▄▄▄▄▅▅▅▅▅▅▆▆▆▆▆▇▇▇▇▇█████</td></tr><tr><td>_step</td><td>▁▁▁▁▂▂▂▂▂▃▃▃▃▃▃▄▄▄▄▄▅▅▅▅▅▅▆▆▆▆▆▆▇▇▇▇▇███</td></tr></table><br/>"
      ],
      "text/plain": [
       "<IPython.core.display.HTML object>"
      ]
     },
     "metadata": {},
     "output_type": "display_data"
    },
    {
     "data": {
      "text/html": [
       "Synced 6 W&B file(s), 1 media file(s), 0 artifact file(s) and 1 other file(s)"
      ],
      "text/plain": [
       "<IPython.core.display.HTML object>"
      ]
     },
     "metadata": {},
     "output_type": "display_data"
    },
    {
     "data": {
      "text/html": [
       "\n",
       "                    <br/>Synced <strong style=\"color:#cdcd00\">desert-sweep-1</strong>: <a href=\"https://wandb.ai/amrmkayid/nam/runs/n63qi1w4\" target=\"_blank\">https://wandb.ai/amrmkayid/nam/runs/n63qi1w4</a><br/>\n",
       "                "
      ],
      "text/plain": [
       "<IPython.core.display.HTML object>"
      ]
     },
     "metadata": {},
     "output_type": "display_data"
    },
    {
     "name": "stderr",
     "output_type": "stream",
     "text": [
      "\u001b[34m\u001b[1mwandb\u001b[0m: Agent Starting Run: bokzw63r with config:\n",
      "\u001b[34m\u001b[1mwandb\u001b[0m: \tactivation: relu\n",
      "\u001b[34m\u001b[1mwandb\u001b[0m: \tbatch_size: 64\n",
      "\u001b[34m\u001b[1mwandb\u001b[0m: \tdecay_rate: 0.0005\n",
      "\u001b[34m\u001b[1mwandb\u001b[0m: \tdropout: 0.5\n",
      "\u001b[34m\u001b[1mwandb\u001b[0m: \tlr: 0.0003\n",
      "\u001b[34m\u001b[1mwandb\u001b[0m: \toptimizer: sgd\n",
      "\u001b[34m\u001b[1mwandb\u001b[0m: \ttraining_epochs: 10\n",
      "\u001b[34m\u001b[1mwandb\u001b[0m: \u001b[33mWARNING\u001b[0m Ignored wandb.init() arg project when running a sweep\n"
     ]
    },
    {
     "data": {
      "text/html": [
       "\n",
       "                Tracking run with wandb version 0.10.18<br/>\n",
       "                Syncing run <strong style=\"color:#cdcd00\">daily-sweep-2</strong> to <a href=\"https://wandb.ai\" target=\"_blank\">Weights & Biases</a> <a href=\"https://docs.wandb.com/integrations/jupyter.html\" target=\"_blank\">(Documentation)</a>.<br/>\n",
       "                Project page: <a href=\"https://wandb.ai/amrmkayid/nam\" target=\"_blank\">https://wandb.ai/amrmkayid/nam</a><br/>\n",
       "                Sweep page: <a href=\"https://wandb.ai/amrmkayid/nam/sweeps/nt11q4wz\" target=\"_blank\">https://wandb.ai/amrmkayid/nam/sweeps/nt11q4wz</a><br/>\n",
       "Run page: <a href=\"https://wandb.ai/amrmkayid/nam/runs/bokzw63r\" target=\"_blank\">https://wandb.ai/amrmkayid/nam/runs/bokzw63r</a><br/>\n",
       "                Run data is saved locally in <code>/Users/amrmkayid/Desktop/nam/wandb/run-20210213_162502-bokzw63r</code><br/><br/>\n",
       "            "
      ],
      "text/plain": [
       "<IPython.core.display.HTML object>"
      ]
     },
     "metadata": {},
     "output_type": "display_data"
    },
    {
     "data": {
      "text/html": [
       "<br/>Waiting for W&B process to finish, PID 6669<br/>Program ended successfully."
      ],
      "text/plain": [
       "<IPython.core.display.HTML object>"
      ]
     },
     "metadata": {},
     "output_type": "display_data"
    },
    {
     "data": {
      "application/vnd.jupyter.widget-view+json": {
       "model_id": "",
       "version_major": 2,
       "version_minor": 0
      },
      "text/plain": [
       "VBox(children=(Label(value=' 0.40MB of 0.40MB uploaded (0.00MB deduped)\\r'), FloatProgress(value=1.0, max=1.0)…"
      ]
     },
     "metadata": {},
     "output_type": "display_data"
    },
    {
     "data": {
      "text/html": [
       "Find user logs for this run at: <code>/Users/amrmkayid/Desktop/nam/wandb/run-20210213_162502-bokzw63r/logs/debug.log</code>"
      ],
      "text/plain": [
       "<IPython.core.display.HTML object>"
      ]
     },
     "metadata": {},
     "output_type": "display_data"
    },
    {
     "data": {
      "text/html": [
       "Find internal logs for this run at: <code>/Users/amrmkayid/Desktop/nam/wandb/run-20210213_162502-bokzw63r/logs/debug-internal.log</code>"
      ],
      "text/plain": [
       "<IPython.core.display.HTML object>"
      ]
     },
     "metadata": {},
     "output_type": "display_data"
    },
    {
     "data": {
      "text/html": [
       "<h3>Run summary:</h3><br/><style>\n",
       "    table.wandb td:nth-child(1) { padding: 0 10px; text-align: right }\n",
       "    </style><table class=\"wandb\">\n",
       "<tr><td>loss</td><td>34343669760.0</td></tr><tr><td>_runtime</td><td>22</td></tr><tr><td>_timestamp</td><td>1613226324</td></tr><tr><td>_step</td><td>149</td></tr></table>"
      ],
      "text/plain": [
       "<IPython.core.display.HTML object>"
      ]
     },
     "metadata": {},
     "output_type": "display_data"
    },
    {
     "data": {
      "text/html": [
       "<h3>Run history:</h3><br/><style>\n",
       "    table.wandb td:nth-child(1) { padding: 0 10px; text-align: right }\n",
       "    </style><table class=\"wandb\">\n",
       "<tr><td>loss</td><td>█▂▁▂▂▁▁▂▂▂▂▂▂▁▂▂▂▁▁▁▁▁▁▁▁▁▁▁▁▁▁▁▁▁▁▁▁▁▁▁</td></tr><tr><td>_runtime</td><td>▁▁▁▁▁▁▂▂▂▂▂▃▃▃▃▃▄▄▄▄▅▅▅▅▅▅▅▅▆▆▆▆▇▇▇▇████</td></tr><tr><td>_timestamp</td><td>▁▁▁▁▁▁▂▂▂▂▂▃▃▃▃▃▄▄▄▄▅▅▅▅▅▅▅▅▆▆▆▆▇▇▇▇████</td></tr><tr><td>_step</td><td>▁▁▁▁▂▂▂▂▂▃▃▃▃▃▃▄▄▄▄▄▅▅▅▅▅▅▆▆▆▆▆▆▇▇▇▇▇███</td></tr></table><br/>"
      ],
      "text/plain": [
       "<IPython.core.display.HTML object>"
      ]
     },
     "metadata": {},
     "output_type": "display_data"
    },
    {
     "data": {
      "text/html": [
       "Synced 5 W&B file(s), 1 media file(s), 0 artifact file(s) and 1 other file(s)"
      ],
      "text/plain": [
       "<IPython.core.display.HTML object>"
      ]
     },
     "metadata": {},
     "output_type": "display_data"
    },
    {
     "data": {
      "text/html": [
       "\n",
       "                    <br/>Synced <strong style=\"color:#cdcd00\">daily-sweep-2</strong>: <a href=\"https://wandb.ai/amrmkayid/nam/runs/bokzw63r\" target=\"_blank\">https://wandb.ai/amrmkayid/nam/runs/bokzw63r</a><br/>\n",
       "                "
      ],
      "text/plain": [
       "<IPython.core.display.HTML object>"
      ]
     },
     "metadata": {},
     "output_type": "display_data"
    },
    {
     "name": "stderr",
     "output_type": "stream",
     "text": [
      "\u001b[34m\u001b[1mwandb\u001b[0m: Agent Starting Run: 6rwk99tv with config:\n",
      "\u001b[34m\u001b[1mwandb\u001b[0m: \tactivation: relu\n",
      "\u001b[34m\u001b[1mwandb\u001b[0m: \tbatch_size: 128\n",
      "\u001b[34m\u001b[1mwandb\u001b[0m: \tdecay_rate: 0.05\n",
      "\u001b[34m\u001b[1mwandb\u001b[0m: \tdropout: 0.4\n",
      "\u001b[34m\u001b[1mwandb\u001b[0m: \tlr: 0.001\n",
      "\u001b[34m\u001b[1mwandb\u001b[0m: \toptimizer: adam\n",
      "\u001b[34m\u001b[1mwandb\u001b[0m: \ttraining_epochs: 50\n",
      "\u001b[34m\u001b[1mwandb\u001b[0m: \u001b[33mWARNING\u001b[0m Ignored wandb.init() arg project when running a sweep\n"
     ]
    },
    {
     "data": {
      "text/html": [
       "\n",
       "                Tracking run with wandb version 0.10.18<br/>\n",
       "                Syncing run <strong style=\"color:#cdcd00\">solar-sweep-3</strong> to <a href=\"https://wandb.ai\" target=\"_blank\">Weights & Biases</a> <a href=\"https://docs.wandb.com/integrations/jupyter.html\" target=\"_blank\">(Documentation)</a>.<br/>\n",
       "                Project page: <a href=\"https://wandb.ai/amrmkayid/nam\" target=\"_blank\">https://wandb.ai/amrmkayid/nam</a><br/>\n",
       "                Sweep page: <a href=\"https://wandb.ai/amrmkayid/nam/sweeps/nt11q4wz\" target=\"_blank\">https://wandb.ai/amrmkayid/nam/sweeps/nt11q4wz</a><br/>\n",
       "Run page: <a href=\"https://wandb.ai/amrmkayid/nam/runs/6rwk99tv\" target=\"_blank\">https://wandb.ai/amrmkayid/nam/runs/6rwk99tv</a><br/>\n",
       "                Run data is saved locally in <code>/Users/amrmkayid/Desktop/nam/wandb/run-20210213_162531-6rwk99tv</code><br/><br/>\n",
       "            "
      ],
      "text/plain": [
       "<IPython.core.display.HTML object>"
      ]
     },
     "metadata": {},
     "output_type": "display_data"
    },
    {
     "data": {
      "text/html": [
       "<br/>Waiting for W&B process to finish, PID 6866<br/>Program ended successfully."
      ],
      "text/plain": [
       "<IPython.core.display.HTML object>"
      ]
     },
     "metadata": {},
     "output_type": "display_data"
    },
    {
     "data": {
      "application/vnd.jupyter.widget-view+json": {
       "model_id": "",
       "version_major": 2,
       "version_minor": 0
      },
      "text/plain": [
       "VBox(children=(Label(value=' 0.40MB of 0.40MB uploaded (0.00MB deduped)\\r'), FloatProgress(value=1.0, max=1.0)…"
      ]
     },
     "metadata": {},
     "output_type": "display_data"
    },
    {
     "data": {
      "text/html": [
       "Find user logs for this run at: <code>/Users/amrmkayid/Desktop/nam/wandb/run-20210213_162531-6rwk99tv/logs/debug.log</code>"
      ],
      "text/plain": [
       "<IPython.core.display.HTML object>"
      ]
     },
     "metadata": {},
     "output_type": "display_data"
    },
    {
     "data": {
      "text/html": [
       "Find internal logs for this run at: <code>/Users/amrmkayid/Desktop/nam/wandb/run-20210213_162531-6rwk99tv/logs/debug-internal.log</code>"
      ],
      "text/plain": [
       "<IPython.core.display.HTML object>"
      ]
     },
     "metadata": {},
     "output_type": "display_data"
    },
    {
     "data": {
      "text/html": [
       "<h3>Run summary:</h3><br/><style>\n",
       "    table.wandb td:nth-child(1) { padding: 0 10px; text-align: right }\n",
       "    </style><table class=\"wandb\">\n",
       "<tr><td>loss</td><td>30507915264.0</td></tr><tr><td>_runtime</td><td>19</td></tr><tr><td>_timestamp</td><td>1613226350</td></tr><tr><td>_step</td><td>149</td></tr></table>"
      ],
      "text/plain": [
       "<IPython.core.display.HTML object>"
      ]
     },
     "metadata": {},
     "output_type": "display_data"
    },
    {
     "data": {
      "text/html": [
       "<h3>Run history:</h3><br/><style>\n",
       "    table.wandb td:nth-child(1) { padding: 0 10px; text-align: right }\n",
       "    </style><table class=\"wandb\">\n",
       "<tr><td>loss</td><td>█▂▂▂▁▂▁▁▂▂▂▂▂▂▁▂▂▂▁▂▂▂▂▂▂▂▂▂▂▁▁▁▁▁▁▁▂▂▁▁</td></tr><tr><td>_runtime</td><td>▁▁▁▁▁▂▂▂▂▃▃▃▃▃▃▄▄▄▄▅▅▅▅▅▅▅▆▆▆▆▆▇▇▇▇█████</td></tr><tr><td>_timestamp</td><td>▁▁▁▁▁▂▂▂▂▃▃▃▃▃▃▄▄▄▄▅▅▅▅▅▅▅▆▆▆▆▆▇▇▇▇█████</td></tr><tr><td>_step</td><td>▁▁▁▁▂▂▂▂▂▃▃▃▃▃▃▄▄▄▄▄▅▅▅▅▅▅▆▆▆▆▆▆▇▇▇▇▇███</td></tr></table><br/>"
      ],
      "text/plain": [
       "<IPython.core.display.HTML object>"
      ]
     },
     "metadata": {},
     "output_type": "display_data"
    },
    {
     "data": {
      "text/html": [
       "Synced 5 W&B file(s), 1 media file(s), 0 artifact file(s) and 1 other file(s)"
      ],
      "text/plain": [
       "<IPython.core.display.HTML object>"
      ]
     },
     "metadata": {},
     "output_type": "display_data"
    },
    {
     "data": {
      "text/html": [
       "\n",
       "                    <br/>Synced <strong style=\"color:#cdcd00\">solar-sweep-3</strong>: <a href=\"https://wandb.ai/amrmkayid/nam/runs/6rwk99tv\" target=\"_blank\">https://wandb.ai/amrmkayid/nam/runs/6rwk99tv</a><br/>\n",
       "                "
      ],
      "text/plain": [
       "<IPython.core.display.HTML object>"
      ]
     },
     "metadata": {},
     "output_type": "display_data"
    },
    {
     "name": "stderr",
     "output_type": "stream",
     "text": [
      "\u001b[34m\u001b[1mwandb\u001b[0m: Agent Starting Run: 2mdpri83 with config:\n",
      "\u001b[34m\u001b[1mwandb\u001b[0m: \tactivation: relu\n",
      "\u001b[34m\u001b[1mwandb\u001b[0m: \tbatch_size: 128\n",
      "\u001b[34m\u001b[1mwandb\u001b[0m: \tdecay_rate: 0.005\n",
      "\u001b[34m\u001b[1mwandb\u001b[0m: \tdropout: 0.3\n",
      "\u001b[34m\u001b[1mwandb\u001b[0m: \tlr: 0.0003\n",
      "\u001b[34m\u001b[1mwandb\u001b[0m: \toptimizer: sgd\n",
      "\u001b[34m\u001b[1mwandb\u001b[0m: \ttraining_epochs: 5\n",
      "\u001b[34m\u001b[1mwandb\u001b[0m: \u001b[33mWARNING\u001b[0m Ignored wandb.init() arg project when running a sweep\n"
     ]
    },
    {
     "data": {
      "text/html": [
       "\n",
       "                Tracking run with wandb version 0.10.18<br/>\n",
       "                Syncing run <strong style=\"color:#cdcd00\">chocolate-sweep-4</strong> to <a href=\"https://wandb.ai\" target=\"_blank\">Weights & Biases</a> <a href=\"https://docs.wandb.com/integrations/jupyter.html\" target=\"_blank\">(Documentation)</a>.<br/>\n",
       "                Project page: <a href=\"https://wandb.ai/amrmkayid/nam\" target=\"_blank\">https://wandb.ai/amrmkayid/nam</a><br/>\n",
       "                Sweep page: <a href=\"https://wandb.ai/amrmkayid/nam/sweeps/nt11q4wz\" target=\"_blank\">https://wandb.ai/amrmkayid/nam/sweeps/nt11q4wz</a><br/>\n",
       "Run page: <a href=\"https://wandb.ai/amrmkayid/nam/runs/2mdpri83\" target=\"_blank\">https://wandb.ai/amrmkayid/nam/runs/2mdpri83</a><br/>\n",
       "                Run data is saved locally in <code>/Users/amrmkayid/Desktop/nam/wandb/run-20210213_162558-2mdpri83</code><br/><br/>\n",
       "            "
      ],
      "text/plain": [
       "<IPython.core.display.HTML object>"
      ]
     },
     "metadata": {},
     "output_type": "display_data"
    },
    {
     "data": {
      "text/html": [
       "<br/>Waiting for W&B process to finish, PID 7088<br/>Program ended successfully."
      ],
      "text/plain": [
       "<IPython.core.display.HTML object>"
      ]
     },
     "metadata": {},
     "output_type": "display_data"
    },
    {
     "data": {
      "application/vnd.jupyter.widget-view+json": {
       "model_id": "",
       "version_major": 2,
       "version_minor": 0
      },
      "text/plain": [
       "VBox(children=(Label(value=' 0.40MB of 0.40MB uploaded (0.00MB deduped)\\r'), FloatProgress(value=1.0, max=1.0)…"
      ]
     },
     "metadata": {},
     "output_type": "display_data"
    },
    {
     "data": {
      "text/html": [
       "Find user logs for this run at: <code>/Users/amrmkayid/Desktop/nam/wandb/run-20210213_162558-2mdpri83/logs/debug.log</code>"
      ],
      "text/plain": [
       "<IPython.core.display.HTML object>"
      ]
     },
     "metadata": {},
     "output_type": "display_data"
    },
    {
     "data": {
      "text/html": [
       "Find internal logs for this run at: <code>/Users/amrmkayid/Desktop/nam/wandb/run-20210213_162558-2mdpri83/logs/debug-internal.log</code>"
      ],
      "text/plain": [
       "<IPython.core.display.HTML object>"
      ]
     },
     "metadata": {},
     "output_type": "display_data"
    },
    {
     "data": {
      "text/html": [
       "<h3>Run summary:</h3><br/><style>\n",
       "    table.wandb td:nth-child(1) { padding: 0 10px; text-align: right }\n",
       "    </style><table class=\"wandb\">\n",
       "<tr><td>loss</td><td>27680620544.0</td></tr><tr><td>_runtime</td><td>19</td></tr><tr><td>_timestamp</td><td>1613226377</td></tr><tr><td>_step</td><td>149</td></tr></table>"
      ],
      "text/plain": [
       "<IPython.core.display.HTML object>"
      ]
     },
     "metadata": {},
     "output_type": "display_data"
    },
    {
     "data": {
      "text/html": [
       "<h3>Run history:</h3><br/><style>\n",
       "    table.wandb td:nth-child(1) { padding: 0 10px; text-align: right }\n",
       "    </style><table class=\"wandb\">\n",
       "<tr><td>loss</td><td>█▁▂▁▁▁▁▁▁▁▁▁▁▁▁▁▁▁▁▁▁▁▁▁▁▁▁▁▁▁▁▁▁▁▁▁▁▁▁▁</td></tr><tr><td>_runtime</td><td>▁▁▁▁▂▂▂▂▃▃▃▃▃▃▃▃▄▄▄▄▅▅▅▅▅▆▆▆▆▆▆▆▇▇▇▇████</td></tr><tr><td>_timestamp</td><td>▁▁▁▁▂▂▂▂▃▃▃▃▃▃▃▃▄▄▄▄▅▅▅▅▅▆▆▆▆▆▆▆▇▇▇▇████</td></tr><tr><td>_step</td><td>▁▁▁▁▂▂▂▂▂▃▃▃▃▃▃▄▄▄▄▄▅▅▅▅▅▅▆▆▆▆▆▆▇▇▇▇▇███</td></tr></table><br/>"
      ],
      "text/plain": [
       "<IPython.core.display.HTML object>"
      ]
     },
     "metadata": {},
     "output_type": "display_data"
    },
    {
     "data": {
      "text/html": [
       "Synced 5 W&B file(s), 1 media file(s), 0 artifact file(s) and 1 other file(s)"
      ],
      "text/plain": [
       "<IPython.core.display.HTML object>"
      ]
     },
     "metadata": {},
     "output_type": "display_data"
    },
    {
     "data": {
      "text/html": [
       "\n",
       "                    <br/>Synced <strong style=\"color:#cdcd00\">chocolate-sweep-4</strong>: <a href=\"https://wandb.ai/amrmkayid/nam/runs/2mdpri83\" target=\"_blank\">https://wandb.ai/amrmkayid/nam/runs/2mdpri83</a><br/>\n",
       "                "
      ],
      "text/plain": [
       "<IPython.core.display.HTML object>"
      ]
     },
     "metadata": {},
     "output_type": "display_data"
    },
    {
     "name": "stderr",
     "output_type": "stream",
     "text": [
      "\u001b[34m\u001b[1mwandb\u001b[0m: Agent Starting Run: 549q0e0f with config:\n",
      "\u001b[34m\u001b[1mwandb\u001b[0m: \tactivation: exu\n",
      "\u001b[34m\u001b[1mwandb\u001b[0m: \tbatch_size: 256\n",
      "\u001b[34m\u001b[1mwandb\u001b[0m: \tdecay_rate: 0.05\n",
      "\u001b[34m\u001b[1mwandb\u001b[0m: \tdropout: 0.5\n",
      "\u001b[34m\u001b[1mwandb\u001b[0m: \tlr: 1e-05\n",
      "\u001b[34m\u001b[1mwandb\u001b[0m: \toptimizer: rmsprop\n",
      "\u001b[34m\u001b[1mwandb\u001b[0m: \ttraining_epochs: 50\n",
      "\u001b[34m\u001b[1mwandb\u001b[0m: \u001b[33mWARNING\u001b[0m Ignored wandb.init() arg project when running a sweep\n"
     ]
    },
    {
     "data": {
      "text/html": [
       "\n",
       "                Tracking run with wandb version 0.10.18<br/>\n",
       "                Syncing run <strong style=\"color:#cdcd00\">effortless-sweep-5</strong> to <a href=\"https://wandb.ai\" target=\"_blank\">Weights & Biases</a> <a href=\"https://docs.wandb.com/integrations/jupyter.html\" target=\"_blank\">(Documentation)</a>.<br/>\n",
       "                Project page: <a href=\"https://wandb.ai/amrmkayid/nam\" target=\"_blank\">https://wandb.ai/amrmkayid/nam</a><br/>\n",
       "                Sweep page: <a href=\"https://wandb.ai/amrmkayid/nam/sweeps/nt11q4wz\" target=\"_blank\">https://wandb.ai/amrmkayid/nam/sweeps/nt11q4wz</a><br/>\n",
       "Run page: <a href=\"https://wandb.ai/amrmkayid/nam/runs/549q0e0f\" target=\"_blank\">https://wandb.ai/amrmkayid/nam/runs/549q0e0f</a><br/>\n",
       "                Run data is saved locally in <code>/Users/amrmkayid/Desktop/nam/wandb/run-20210213_162625-549q0e0f</code><br/><br/>\n",
       "            "
      ],
      "text/plain": [
       "<IPython.core.display.HTML object>"
      ]
     },
     "metadata": {},
     "output_type": "display_data"
    },
    {
     "data": {
      "text/html": [
       "<br/>Waiting for W&B process to finish, PID 7285<br/>Program ended successfully."
      ],
      "text/plain": [
       "<IPython.core.display.HTML object>"
      ]
     },
     "metadata": {},
     "output_type": "display_data"
    },
    {
     "data": {
      "application/vnd.jupyter.widget-view+json": {
       "model_id": "",
       "version_major": 2,
       "version_minor": 0
      },
      "text/plain": [
       "VBox(children=(Label(value=' 0.40MB of 0.40MB uploaded (0.00MB deduped)\\r'), FloatProgress(value=1.0, max=1.0)…"
      ]
     },
     "metadata": {},
     "output_type": "display_data"
    },
    {
     "data": {
      "text/html": [
       "Find user logs for this run at: <code>/Users/amrmkayid/Desktop/nam/wandb/run-20210213_162625-549q0e0f/logs/debug.log</code>"
      ],
      "text/plain": [
       "<IPython.core.display.HTML object>"
      ]
     },
     "metadata": {},
     "output_type": "display_data"
    },
    {
     "data": {
      "text/html": [
       "Find internal logs for this run at: <code>/Users/amrmkayid/Desktop/nam/wandb/run-20210213_162625-549q0e0f/logs/debug-internal.log</code>"
      ],
      "text/plain": [
       "<IPython.core.display.HTML object>"
      ]
     },
     "metadata": {},
     "output_type": "display_data"
    },
    {
     "data": {
      "text/html": [
       "<h3>Run summary:</h3><br/><style>\n",
       "    table.wandb td:nth-child(1) { padding: 0 10px; text-align: right }\n",
       "    </style><table class=\"wandb\">\n",
       "<tr><td>loss</td><td>28875114496.0</td></tr><tr><td>_runtime</td><td>19</td></tr><tr><td>_timestamp</td><td>1613226404</td></tr><tr><td>_step</td><td>149</td></tr></table>"
      ],
      "text/plain": [
       "<IPython.core.display.HTML object>"
      ]
     },
     "metadata": {},
     "output_type": "display_data"
    },
    {
     "data": {
      "text/html": [
       "<h3>Run history:</h3><br/><style>\n",
       "    table.wandb td:nth-child(1) { padding: 0 10px; text-align: right }\n",
       "    </style><table class=\"wandb\">\n",
       "<tr><td>loss</td><td>█▂▁▁▁▁▁▁▁▁▁▁▁▁▁▁▂▁▁▁▂▂▂▂▂▂▂▂▂▂▂▂▁▁▁▁▁▁▁▁</td></tr><tr><td>_runtime</td><td>▁▁▁▁▁▂▂▂▂▂▂▃▃▃▃▄▄▄▄▄▅▅▅▅▅▅▅▆▆▆▆▆▇▇▇▇████</td></tr><tr><td>_timestamp</td><td>▁▁▁▁▁▂▂▂▂▂▂▃▃▃▃▄▄▄▄▄▅▅▅▅▅▅▅▆▆▆▆▆▇▇▇▇████</td></tr><tr><td>_step</td><td>▁▁▁▁▂▂▂▂▂▃▃▃▃▃▃▄▄▄▄▄▅▅▅▅▅▅▆▆▆▆▆▆▇▇▇▇▇███</td></tr></table><br/>"
      ],
      "text/plain": [
       "<IPython.core.display.HTML object>"
      ]
     },
     "metadata": {},
     "output_type": "display_data"
    },
    {
     "data": {
      "text/html": [
       "Synced 5 W&B file(s), 1 media file(s), 0 artifact file(s) and 1 other file(s)"
      ],
      "text/plain": [
       "<IPython.core.display.HTML object>"
      ]
     },
     "metadata": {},
     "output_type": "display_data"
    },
    {
     "data": {
      "text/html": [
       "\n",
       "                    <br/>Synced <strong style=\"color:#cdcd00\">effortless-sweep-5</strong>: <a href=\"https://wandb.ai/amrmkayid/nam/runs/549q0e0f\" target=\"_blank\">https://wandb.ai/amrmkayid/nam/runs/549q0e0f</a><br/>\n",
       "                "
      ],
      "text/plain": [
       "<IPython.core.display.HTML object>"
      ]
     },
     "metadata": {},
     "output_type": "display_data"
    },
    {
     "name": "stderr",
     "output_type": "stream",
     "text": [
      "\u001b[34m\u001b[1mwandb\u001b[0m: Agent Starting Run: 1uxjp2qw with config:\n",
      "\u001b[34m\u001b[1mwandb\u001b[0m: \tactivation: relu\n",
      "\u001b[34m\u001b[1mwandb\u001b[0m: \tbatch_size: 256\n",
      "\u001b[34m\u001b[1mwandb\u001b[0m: \tdecay_rate: 0.0005\n",
      "\u001b[34m\u001b[1mwandb\u001b[0m: \tdropout: 0.3\n",
      "\u001b[34m\u001b[1mwandb\u001b[0m: \tlr: 1e-05\n",
      "\u001b[34m\u001b[1mwandb\u001b[0m: \toptimizer: rmsprop\n",
      "\u001b[34m\u001b[1mwandb\u001b[0m: \ttraining_epochs: 50\n",
      "\u001b[34m\u001b[1mwandb\u001b[0m: \u001b[33mWARNING\u001b[0m Ignored wandb.init() arg project when running a sweep\n"
     ]
    },
    {
     "data": {
      "text/html": [
       "\n",
       "                Tracking run with wandb version 0.10.18<br/>\n",
       "                Syncing run <strong style=\"color:#cdcd00\">vocal-sweep-6</strong> to <a href=\"https://wandb.ai\" target=\"_blank\">Weights & Biases</a> <a href=\"https://docs.wandb.com/integrations/jupyter.html\" target=\"_blank\">(Documentation)</a>.<br/>\n",
       "                Project page: <a href=\"https://wandb.ai/amrmkayid/nam\" target=\"_blank\">https://wandb.ai/amrmkayid/nam</a><br/>\n",
       "                Sweep page: <a href=\"https://wandb.ai/amrmkayid/nam/sweeps/nt11q4wz\" target=\"_blank\">https://wandb.ai/amrmkayid/nam/sweeps/nt11q4wz</a><br/>\n",
       "Run page: <a href=\"https://wandb.ai/amrmkayid/nam/runs/1uxjp2qw\" target=\"_blank\">https://wandb.ai/amrmkayid/nam/runs/1uxjp2qw</a><br/>\n",
       "                Run data is saved locally in <code>/Users/amrmkayid/Desktop/nam/wandb/run-20210213_162654-1uxjp2qw</code><br/><br/>\n",
       "            "
      ],
      "text/plain": [
       "<IPython.core.display.HTML object>"
      ]
     },
     "metadata": {},
     "output_type": "display_data"
    },
    {
     "data": {
      "text/html": [
       "<br/>Waiting for W&B process to finish, PID 7481<br/>Program ended successfully."
      ],
      "text/plain": [
       "<IPython.core.display.HTML object>"
      ]
     },
     "metadata": {},
     "output_type": "display_data"
    },
    {
     "data": {
      "application/vnd.jupyter.widget-view+json": {
       "model_id": "",
       "version_major": 2,
       "version_minor": 0
      },
      "text/plain": [
       "VBox(children=(Label(value=' 0.40MB of 0.40MB uploaded (0.00MB deduped)\\r'), FloatProgress(value=1.0, max=1.0)…"
      ]
     },
     "metadata": {},
     "output_type": "display_data"
    },
    {
     "data": {
      "text/html": [
       "Find user logs for this run at: <code>/Users/amrmkayid/Desktop/nam/wandb/run-20210213_162654-1uxjp2qw/logs/debug.log</code>"
      ],
      "text/plain": [
       "<IPython.core.display.HTML object>"
      ]
     },
     "metadata": {},
     "output_type": "display_data"
    },
    {
     "data": {
      "text/html": [
       "Find internal logs for this run at: <code>/Users/amrmkayid/Desktop/nam/wandb/run-20210213_162654-1uxjp2qw/logs/debug-internal.log</code>"
      ],
      "text/plain": [
       "<IPython.core.display.HTML object>"
      ]
     },
     "metadata": {},
     "output_type": "display_data"
    },
    {
     "data": {
      "text/html": [
       "<h3>Run summary:</h3><br/><style>\n",
       "    table.wandb td:nth-child(1) { padding: 0 10px; text-align: right }\n",
       "    </style><table class=\"wandb\">\n",
       "<tr><td>loss</td><td>33837787136.0</td></tr><tr><td>_runtime</td><td>21</td></tr><tr><td>_timestamp</td><td>1613226435</td></tr><tr><td>_step</td><td>149</td></tr></table>"
      ],
      "text/plain": [
       "<IPython.core.display.HTML object>"
      ]
     },
     "metadata": {},
     "output_type": "display_data"
    },
    {
     "data": {
      "text/html": [
       "<h3>Run history:</h3><br/><style>\n",
       "    table.wandb td:nth-child(1) { padding: 0 10px; text-align: right }\n",
       "    </style><table class=\"wandb\">\n",
       "<tr><td>loss</td><td>█▁▁▁▁▁▁▁▁▁▁▁▁▁▁▁▁▁▁▁▁▁▁▁▁▁▁▁▁▁▁▁▁▁▁▁▁▁▁▁</td></tr><tr><td>_runtime</td><td>▁▁▁▁▂▂▂▂▂▃▃▃▃▃▃▃▄▄▄▄▄▄▅▅▅▅▆▆▆▆▆▆▇▇▇▇████</td></tr><tr><td>_timestamp</td><td>▁▁▁▁▂▂▂▂▂▃▃▃▃▃▃▃▄▄▄▄▄▄▅▅▅▅▆▆▆▆▆▆▇▇▇▇████</td></tr><tr><td>_step</td><td>▁▁▁▁▂▂▂▂▂▃▃▃▃▃▃▄▄▄▄▄▅▅▅▅▅▅▆▆▆▆▆▆▇▇▇▇▇███</td></tr></table><br/>"
      ],
      "text/plain": [
       "<IPython.core.display.HTML object>"
      ]
     },
     "metadata": {},
     "output_type": "display_data"
    },
    {
     "data": {
      "text/html": [
       "Synced 5 W&B file(s), 1 media file(s), 0 artifact file(s) and 1 other file(s)"
      ],
      "text/plain": [
       "<IPython.core.display.HTML object>"
      ]
     },
     "metadata": {},
     "output_type": "display_data"
    },
    {
     "data": {
      "text/html": [
       "\n",
       "                    <br/>Synced <strong style=\"color:#cdcd00\">vocal-sweep-6</strong>: <a href=\"https://wandb.ai/amrmkayid/nam/runs/1uxjp2qw\" target=\"_blank\">https://wandb.ai/amrmkayid/nam/runs/1uxjp2qw</a><br/>\n",
       "                "
      ],
      "text/plain": [
       "<IPython.core.display.HTML object>"
      ]
     },
     "metadata": {},
     "output_type": "display_data"
    },
    {
     "name": "stderr",
     "output_type": "stream",
     "text": [
      "\u001b[34m\u001b[1mwandb\u001b[0m: Sweep Agent: Waiting for job.\n",
      "\u001b[34m\u001b[1mwandb\u001b[0m: Job received.\n",
      "\u001b[34m\u001b[1mwandb\u001b[0m: Agent Starting Run: nwjl5o8z with config:\n",
      "\u001b[34m\u001b[1mwandb\u001b[0m: \tactivation: exu\n",
      "\u001b[34m\u001b[1mwandb\u001b[0m: \tbatch_size: 32\n",
      "\u001b[34m\u001b[1mwandb\u001b[0m: \tdecay_rate: 0.005\n",
      "\u001b[34m\u001b[1mwandb\u001b[0m: \tdropout: 0.5\n",
      "\u001b[34m\u001b[1mwandb\u001b[0m: \tlr: 0.001\n",
      "\u001b[34m\u001b[1mwandb\u001b[0m: \toptimizer: sgd\n",
      "\u001b[34m\u001b[1mwandb\u001b[0m: \ttraining_epochs: 10\n",
      "\u001b[34m\u001b[1mwandb\u001b[0m: \u001b[33mWARNING\u001b[0m Ignored wandb.init() arg project when running a sweep\n"
     ]
    },
    {
     "data": {
      "text/html": [
       "\n",
       "                Tracking run with wandb version 0.10.18<br/>\n",
       "                Syncing run <strong style=\"color:#cdcd00\">colorful-sweep-7</strong> to <a href=\"https://wandb.ai\" target=\"_blank\">Weights & Biases</a> <a href=\"https://docs.wandb.com/integrations/jupyter.html\" target=\"_blank\">(Documentation)</a>.<br/>\n",
       "                Project page: <a href=\"https://wandb.ai/amrmkayid/nam\" target=\"_blank\">https://wandb.ai/amrmkayid/nam</a><br/>\n",
       "                Sweep page: <a href=\"https://wandb.ai/amrmkayid/nam/sweeps/nt11q4wz\" target=\"_blank\">https://wandb.ai/amrmkayid/nam/sweeps/nt11q4wz</a><br/>\n",
       "Run page: <a href=\"https://wandb.ai/amrmkayid/nam/runs/nwjl5o8z\" target=\"_blank\">https://wandb.ai/amrmkayid/nam/runs/nwjl5o8z</a><br/>\n",
       "                Run data is saved locally in <code>/Users/amrmkayid/Desktop/nam/wandb/run-20210213_162733-nwjl5o8z</code><br/><br/>\n",
       "            "
      ],
      "text/plain": [
       "<IPython.core.display.HTML object>"
      ]
     },
     "metadata": {},
     "output_type": "display_data"
    },
    {
     "data": {
      "text/html": [
       "<br/>Waiting for W&B process to finish, PID 7678<br/>Program ended successfully."
      ],
      "text/plain": [
       "<IPython.core.display.HTML object>"
      ]
     },
     "metadata": {},
     "output_type": "display_data"
    },
    {
     "data": {
      "application/vnd.jupyter.widget-view+json": {
       "model_id": "",
       "version_major": 2,
       "version_minor": 0
      },
      "text/plain": [
       "VBox(children=(Label(value=' 0.40MB of 0.40MB uploaded (0.00MB deduped)\\r'), FloatProgress(value=1.0, max=1.0)…"
      ]
     },
     "metadata": {},
     "output_type": "display_data"
    },
    {
     "data": {
      "text/html": [
       "Find user logs for this run at: <code>/Users/amrmkayid/Desktop/nam/wandb/run-20210213_162733-nwjl5o8z/logs/debug.log</code>"
      ],
      "text/plain": [
       "<IPython.core.display.HTML object>"
      ]
     },
     "metadata": {},
     "output_type": "display_data"
    },
    {
     "data": {
      "text/html": [
       "Find internal logs for this run at: <code>/Users/amrmkayid/Desktop/nam/wandb/run-20210213_162733-nwjl5o8z/logs/debug-internal.log</code>"
      ],
      "text/plain": [
       "<IPython.core.display.HTML object>"
      ]
     },
     "metadata": {},
     "output_type": "display_data"
    },
    {
     "data": {
      "text/html": [
       "<h3>Run summary:</h3><br/><style>\n",
       "    table.wandb td:nth-child(1) { padding: 0 10px; text-align: right }\n",
       "    </style><table class=\"wandb\">\n",
       "<tr><td>loss</td><td>31103721472.0</td></tr><tr><td>_runtime</td><td>22</td></tr><tr><td>_timestamp</td><td>1613226475</td></tr><tr><td>_step</td><td>149</td></tr></table>"
      ],
      "text/plain": [
       "<IPython.core.display.HTML object>"
      ]
     },
     "metadata": {},
     "output_type": "display_data"
    },
    {
     "data": {
      "text/html": [
       "<h3>Run history:</h3><br/><style>\n",
       "    table.wandb td:nth-child(1) { padding: 0 10px; text-align: right }\n",
       "    </style><table class=\"wandb\">\n",
       "<tr><td>loss</td><td>█▁▁▁▁▁▁▁▁▁▁▁▁▁▁▁▁▁▁▁▁▁▁▁▁▁▁▁▁▁▁▁▁▁▁▁▁▁▁▁</td></tr><tr><td>_runtime</td><td>▁▁▁▁▂▂▂▂▃▃▃▃▃▃▃▄▄▄▄▅▅▅▅▅▅▆▆▆▆▆▆▆▇▇▇█████</td></tr><tr><td>_timestamp</td><td>▁▁▁▁▂▂▂▂▃▃▃▃▃▃▃▄▄▄▄▅▅▅▅▅▅▆▆▆▆▆▆▆▇▇▇█████</td></tr><tr><td>_step</td><td>▁▁▁▁▂▂▂▂▂▃▃▃▃▃▃▄▄▄▄▄▅▅▅▅▅▅▆▆▆▆▆▆▇▇▇▇▇███</td></tr></table><br/>"
      ],
      "text/plain": [
       "<IPython.core.display.HTML object>"
      ]
     },
     "metadata": {},
     "output_type": "display_data"
    },
    {
     "data": {
      "text/html": [
       "Synced 5 W&B file(s), 1 media file(s), 0 artifact file(s) and 1 other file(s)"
      ],
      "text/plain": [
       "<IPython.core.display.HTML object>"
      ]
     },
     "metadata": {},
     "output_type": "display_data"
    },
    {
     "data": {
      "text/html": [
       "\n",
       "                    <br/>Synced <strong style=\"color:#cdcd00\">colorful-sweep-7</strong>: <a href=\"https://wandb.ai/amrmkayid/nam/runs/nwjl5o8z\" target=\"_blank\">https://wandb.ai/amrmkayid/nam/runs/nwjl5o8z</a><br/>\n",
       "                "
      ],
      "text/plain": [
       "<IPython.core.display.HTML object>"
      ]
     },
     "metadata": {},
     "output_type": "display_data"
    },
    {
     "name": "stderr",
     "output_type": "stream",
     "text": [
      "\u001b[34m\u001b[1mwandb\u001b[0m: Agent Starting Run: 1uwwgpmn with config:\n",
      "\u001b[34m\u001b[1mwandb\u001b[0m: \tactivation: relu\n",
      "\u001b[34m\u001b[1mwandb\u001b[0m: \tbatch_size: 256\n",
      "\u001b[34m\u001b[1mwandb\u001b[0m: \tdecay_rate: 0.005\n",
      "\u001b[34m\u001b[1mwandb\u001b[0m: \tdropout: 0.4\n",
      "\u001b[34m\u001b[1mwandb\u001b[0m: \tlr: 0.0003\n",
      "\u001b[34m\u001b[1mwandb\u001b[0m: \toptimizer: rmsprop\n",
      "\u001b[34m\u001b[1mwandb\u001b[0m: \ttraining_epochs: 10\n",
      "\u001b[34m\u001b[1mwandb\u001b[0m: \u001b[33mWARNING\u001b[0m Ignored wandb.init() arg project when running a sweep\n"
     ]
    },
    {
     "data": {
      "text/html": [
       "\n",
       "                Tracking run with wandb version 0.10.18<br/>\n",
       "                Syncing run <strong style=\"color:#cdcd00\">rose-sweep-8</strong> to <a href=\"https://wandb.ai\" target=\"_blank\">Weights & Biases</a> <a href=\"https://docs.wandb.com/integrations/jupyter.html\" target=\"_blank\">(Documentation)</a>.<br/>\n",
       "                Project page: <a href=\"https://wandb.ai/amrmkayid/nam\" target=\"_blank\">https://wandb.ai/amrmkayid/nam</a><br/>\n",
       "                Sweep page: <a href=\"https://wandb.ai/amrmkayid/nam/sweeps/nt11q4wz\" target=\"_blank\">https://wandb.ai/amrmkayid/nam/sweeps/nt11q4wz</a><br/>\n",
       "Run page: <a href=\"https://wandb.ai/amrmkayid/nam/runs/1uwwgpmn\" target=\"_blank\">https://wandb.ai/amrmkayid/nam/runs/1uwwgpmn</a><br/>\n",
       "                Run data is saved locally in <code>/Users/amrmkayid/Desktop/nam/wandb/run-20210213_162808-1uwwgpmn</code><br/><br/>\n",
       "            "
      ],
      "text/plain": [
       "<IPython.core.display.HTML object>"
      ]
     },
     "metadata": {},
     "output_type": "display_data"
    },
    {
     "data": {
      "text/html": [
       "<br/>Waiting for W&B process to finish, PID 7874<br/>Program ended successfully."
      ],
      "text/plain": [
       "<IPython.core.display.HTML object>"
      ]
     },
     "metadata": {},
     "output_type": "display_data"
    },
    {
     "data": {
      "application/vnd.jupyter.widget-view+json": {
       "model_id": "",
       "version_major": 2,
       "version_minor": 0
      },
      "text/plain": [
       "VBox(children=(Label(value=' 0.40MB of 0.40MB uploaded (0.00MB deduped)\\r'), FloatProgress(value=1.0, max=1.0)…"
      ]
     },
     "metadata": {},
     "output_type": "display_data"
    },
    {
     "data": {
      "text/html": [
       "Find user logs for this run at: <code>/Users/amrmkayid/Desktop/nam/wandb/run-20210213_162808-1uwwgpmn/logs/debug.log</code>"
      ],
      "text/plain": [
       "<IPython.core.display.HTML object>"
      ]
     },
     "metadata": {},
     "output_type": "display_data"
    },
    {
     "data": {
      "text/html": [
       "Find internal logs for this run at: <code>/Users/amrmkayid/Desktop/nam/wandb/run-20210213_162808-1uwwgpmn/logs/debug-internal.log</code>"
      ],
      "text/plain": [
       "<IPython.core.display.HTML object>"
      ]
     },
     "metadata": {},
     "output_type": "display_data"
    },
    {
     "data": {
      "text/html": [
       "<h3>Run summary:</h3><br/><style>\n",
       "    table.wandb td:nth-child(1) { padding: 0 10px; text-align: right }\n",
       "    </style><table class=\"wandb\">\n",
       "<tr><td>loss</td><td>31840651264.0</td></tr><tr><td>_runtime</td><td>20</td></tr><tr><td>_timestamp</td><td>1613226508</td></tr><tr><td>_step</td><td>149</td></tr></table>"
      ],
      "text/plain": [
       "<IPython.core.display.HTML object>"
      ]
     },
     "metadata": {},
     "output_type": "display_data"
    },
    {
     "data": {
      "text/html": [
       "<h3>Run history:</h3><br/><style>\n",
       "    table.wandb td:nth-child(1) { padding: 0 10px; text-align: right }\n",
       "    </style><table class=\"wandb\">\n",
       "<tr><td>loss</td><td>█▁▁▁▁▁▁▁▁▁▁▁▁▁▁▁▁▁▁▁▁▁▁▁▁▁▁▁▁▁▁▁▁▁▁▁▁▁▁▁</td></tr><tr><td>_runtime</td><td>▁▁▁▁▁▂▂▂▂▂▃▃▃▃▃▃▄▄▄▄▅▅▅▅▆▆▆▆▆▆▆▇▇▇▇▇████</td></tr><tr><td>_timestamp</td><td>▁▁▁▁▁▂▂▂▂▂▃▃▃▃▃▃▄▄▄▄▅▅▅▅▆▆▆▆▆▆▆▇▇▇▇▇████</td></tr><tr><td>_step</td><td>▁▁▁▁▂▂▂▂▂▃▃▃▃▃▃▄▄▄▄▄▅▅▅▅▅▅▆▆▆▆▆▆▇▇▇▇▇███</td></tr></table><br/>"
      ],
      "text/plain": [
       "<IPython.core.display.HTML object>"
      ]
     },
     "metadata": {},
     "output_type": "display_data"
    },
    {
     "data": {
      "text/html": [
       "Synced 5 W&B file(s), 1 media file(s), 0 artifact file(s) and 1 other file(s)"
      ],
      "text/plain": [
       "<IPython.core.display.HTML object>"
      ]
     },
     "metadata": {},
     "output_type": "display_data"
    },
    {
     "data": {
      "text/html": [
       "\n",
       "                    <br/>Synced <strong style=\"color:#cdcd00\">rose-sweep-8</strong>: <a href=\"https://wandb.ai/amrmkayid/nam/runs/1uwwgpmn\" target=\"_blank\">https://wandb.ai/amrmkayid/nam/runs/1uwwgpmn</a><br/>\n",
       "                "
      ],
      "text/plain": [
       "<IPython.core.display.HTML object>"
      ]
     },
     "metadata": {},
     "output_type": "display_data"
    },
    {
     "name": "stderr",
     "output_type": "stream",
     "text": [
      "\u001b[34m\u001b[1mwandb\u001b[0m: Agent Starting Run: 7oa9x1x2 with config:\n",
      "\u001b[34m\u001b[1mwandb\u001b[0m: \tactivation: exu\n",
      "\u001b[34m\u001b[1mwandb\u001b[0m: \tbatch_size: 128\n",
      "\u001b[34m\u001b[1mwandb\u001b[0m: \tdecay_rate: 0.05\n",
      "\u001b[34m\u001b[1mwandb\u001b[0m: \tdropout: 0.4\n",
      "\u001b[34m\u001b[1mwandb\u001b[0m: \tlr: 0.001\n",
      "\u001b[34m\u001b[1mwandb\u001b[0m: \toptimizer: adam\n",
      "\u001b[34m\u001b[1mwandb\u001b[0m: \ttraining_epochs: 10\n",
      "\u001b[34m\u001b[1mwandb\u001b[0m: \u001b[33mWARNING\u001b[0m Ignored wandb.init() arg project when running a sweep\n"
     ]
    },
    {
     "data": {
      "text/html": [
       "\n",
       "                Tracking run with wandb version 0.10.18<br/>\n",
       "                Syncing run <strong style=\"color:#cdcd00\">quiet-sweep-9</strong> to <a href=\"https://wandb.ai\" target=\"_blank\">Weights & Biases</a> <a href=\"https://docs.wandb.com/integrations/jupyter.html\" target=\"_blank\">(Documentation)</a>.<br/>\n",
       "                Project page: <a href=\"https://wandb.ai/amrmkayid/nam\" target=\"_blank\">https://wandb.ai/amrmkayid/nam</a><br/>\n",
       "                Sweep page: <a href=\"https://wandb.ai/amrmkayid/nam/sweeps/nt11q4wz\" target=\"_blank\">https://wandb.ai/amrmkayid/nam/sweeps/nt11q4wz</a><br/>\n",
       "Run page: <a href=\"https://wandb.ai/amrmkayid/nam/runs/7oa9x1x2\" target=\"_blank\">https://wandb.ai/amrmkayid/nam/runs/7oa9x1x2</a><br/>\n",
       "                Run data is saved locally in <code>/Users/amrmkayid/Desktop/nam/wandb/run-20210213_162838-7oa9x1x2</code><br/><br/>\n",
       "            "
      ],
      "text/plain": [
       "<IPython.core.display.HTML object>"
      ]
     },
     "metadata": {},
     "output_type": "display_data"
    },
    {
     "data": {
      "text/html": [
       "<br/>Waiting for W&B process to finish, PID 8071<br/>Program ended successfully."
      ],
      "text/plain": [
       "<IPython.core.display.HTML object>"
      ]
     },
     "metadata": {},
     "output_type": "display_data"
    },
    {
     "data": {
      "application/vnd.jupyter.widget-view+json": {
       "model_id": "",
       "version_major": 2,
       "version_minor": 0
      },
      "text/plain": [
       "VBox(children=(Label(value=' 0.40MB of 0.40MB uploaded (0.00MB deduped)\\r'), FloatProgress(value=1.0, max=1.0)…"
      ]
     },
     "metadata": {},
     "output_type": "display_data"
    },
    {
     "data": {
      "text/html": [
       "Find user logs for this run at: <code>/Users/amrmkayid/Desktop/nam/wandb/run-20210213_162838-7oa9x1x2/logs/debug.log</code>"
      ],
      "text/plain": [
       "<IPython.core.display.HTML object>"
      ]
     },
     "metadata": {},
     "output_type": "display_data"
    },
    {
     "data": {
      "text/html": [
       "Find internal logs for this run at: <code>/Users/amrmkayid/Desktop/nam/wandb/run-20210213_162838-7oa9x1x2/logs/debug-internal.log</code>"
      ],
      "text/plain": [
       "<IPython.core.display.HTML object>"
      ]
     },
     "metadata": {},
     "output_type": "display_data"
    },
    {
     "data": {
      "text/html": [
       "<h3>Run summary:</h3><br/><style>\n",
       "    table.wandb td:nth-child(1) { padding: 0 10px; text-align: right }\n",
       "    </style><table class=\"wandb\">\n",
       "<tr><td>loss</td><td>33952153600.0</td></tr><tr><td>_runtime</td><td>21</td></tr><tr><td>_timestamp</td><td>1613226540</td></tr><tr><td>_step</td><td>149</td></tr></table>"
      ],
      "text/plain": [
       "<IPython.core.display.HTML object>"
      ]
     },
     "metadata": {},
     "output_type": "display_data"
    },
    {
     "data": {
      "text/html": [
       "<h3>Run history:</h3><br/><style>\n",
       "    table.wandb td:nth-child(1) { padding: 0 10px; text-align: right }\n",
       "    </style><table class=\"wandb\">\n",
       "<tr><td>loss</td><td>█▁▁▁▁▁▁▁▁▁▁▁▁▁▁▁▁▁▁▁▁▁▁▁▁▁▁▁▁▁▁▁▁▁▁▁▁▁▁▁</td></tr><tr><td>_runtime</td><td>▁▁▁▁▁▂▂▂▃▃▃▃▃▃▃▄▄▄▅▅▅▅▅▅▆▆▆▆▆▆▆▇▇▇▇▇████</td></tr><tr><td>_timestamp</td><td>▁▁▁▁▁▂▂▂▃▃▃▃▃▃▃▄▄▄▅▅▅▅▅▅▆▆▆▆▆▆▆▇▇▇▇▇████</td></tr><tr><td>_step</td><td>▁▁▁▁▂▂▂▂▂▃▃▃▃▃▃▄▄▄▄▄▅▅▅▅▅▅▆▆▆▆▆▆▇▇▇▇▇███</td></tr></table><br/>"
      ],
      "text/plain": [
       "<IPython.core.display.HTML object>"
      ]
     },
     "metadata": {},
     "output_type": "display_data"
    },
    {
     "data": {
      "text/html": [
       "Synced 5 W&B file(s), 1 media file(s), 0 artifact file(s) and 1 other file(s)"
      ],
      "text/plain": [
       "<IPython.core.display.HTML object>"
      ]
     },
     "metadata": {},
     "output_type": "display_data"
    },
    {
     "data": {
      "text/html": [
       "\n",
       "                    <br/>Synced <strong style=\"color:#cdcd00\">quiet-sweep-9</strong>: <a href=\"https://wandb.ai/amrmkayid/nam/runs/7oa9x1x2\" target=\"_blank\">https://wandb.ai/amrmkayid/nam/runs/7oa9x1x2</a><br/>\n",
       "                "
      ],
      "text/plain": [
       "<IPython.core.display.HTML object>"
      ]
     },
     "metadata": {},
     "output_type": "display_data"
    },
    {
     "name": "stderr",
     "output_type": "stream",
     "text": [
      "\u001b[34m\u001b[1mwandb\u001b[0m: Agent Starting Run: g8kq755k with config:\n",
      "\u001b[34m\u001b[1mwandb\u001b[0m: \tactivation: exu\n",
      "\u001b[34m\u001b[1mwandb\u001b[0m: \tbatch_size: 32\n",
      "\u001b[34m\u001b[1mwandb\u001b[0m: \tdecay_rate: 0.0005\n",
      "\u001b[34m\u001b[1mwandb\u001b[0m: \tdropout: 0.5\n",
      "\u001b[34m\u001b[1mwandb\u001b[0m: \tlr: 0.0003\n",
      "\u001b[34m\u001b[1mwandb\u001b[0m: \toptimizer: rmsprop\n",
      "\u001b[34m\u001b[1mwandb\u001b[0m: \ttraining_epochs: 50\n",
      "\u001b[34m\u001b[1mwandb\u001b[0m: \u001b[33mWARNING\u001b[0m Ignored wandb.init() arg project when running a sweep\n"
     ]
    },
    {
     "data": {
      "text/html": [
       "\n",
       "                Tracking run with wandb version 0.10.18<br/>\n",
       "                Syncing run <strong style=\"color:#cdcd00\">avid-sweep-10</strong> to <a href=\"https://wandb.ai\" target=\"_blank\">Weights & Biases</a> <a href=\"https://docs.wandb.com/integrations/jupyter.html\" target=\"_blank\">(Documentation)</a>.<br/>\n",
       "                Project page: <a href=\"https://wandb.ai/amrmkayid/nam\" target=\"_blank\">https://wandb.ai/amrmkayid/nam</a><br/>\n",
       "                Sweep page: <a href=\"https://wandb.ai/amrmkayid/nam/sweeps/nt11q4wz\" target=\"_blank\">https://wandb.ai/amrmkayid/nam/sweeps/nt11q4wz</a><br/>\n",
       "Run page: <a href=\"https://wandb.ai/amrmkayid/nam/runs/g8kq755k\" target=\"_blank\">https://wandb.ai/amrmkayid/nam/runs/g8kq755k</a><br/>\n",
       "                Run data is saved locally in <code>/Users/amrmkayid/Desktop/nam/wandb/run-20210213_162908-g8kq755k</code><br/><br/>\n",
       "            "
      ],
      "text/plain": [
       "<IPython.core.display.HTML object>"
      ]
     },
     "metadata": {},
     "output_type": "display_data"
    },
    {
     "data": {
      "text/html": [
       "<br/>Waiting for W&B process to finish, PID 8266<br/>Program ended successfully."
      ],
      "text/plain": [
       "<IPython.core.display.HTML object>"
      ]
     },
     "metadata": {},
     "output_type": "display_data"
    },
    {
     "data": {
      "application/vnd.jupyter.widget-view+json": {
       "model_id": "",
       "version_major": 2,
       "version_minor": 0
      },
      "text/plain": [
       "VBox(children=(Label(value=' 0.40MB of 0.40MB uploaded (0.00MB deduped)\\r'), FloatProgress(value=1.0, max=1.0)…"
      ]
     },
     "metadata": {},
     "output_type": "display_data"
    },
    {
     "data": {
      "text/html": [
       "Find user logs for this run at: <code>/Users/amrmkayid/Desktop/nam/wandb/run-20210213_162908-g8kq755k/logs/debug.log</code>"
      ],
      "text/plain": [
       "<IPython.core.display.HTML object>"
      ]
     },
     "metadata": {},
     "output_type": "display_data"
    },
    {
     "data": {
      "text/html": [
       "Find internal logs for this run at: <code>/Users/amrmkayid/Desktop/nam/wandb/run-20210213_162908-g8kq755k/logs/debug-internal.log</code>"
      ],
      "text/plain": [
       "<IPython.core.display.HTML object>"
      ]
     },
     "metadata": {},
     "output_type": "display_data"
    },
    {
     "data": {
      "text/html": [
       "<h3>Run summary:</h3><br/><style>\n",
       "    table.wandb td:nth-child(1) { padding: 0 10px; text-align: right }\n",
       "    </style><table class=\"wandb\">\n",
       "<tr><td>loss</td><td>30734055424.0</td></tr><tr><td>_runtime</td><td>20</td></tr><tr><td>_timestamp</td><td>1613226568</td></tr><tr><td>_step</td><td>149</td></tr></table>"
      ],
      "text/plain": [
       "<IPython.core.display.HTML object>"
      ]
     },
     "metadata": {},
     "output_type": "display_data"
    },
    {
     "data": {
      "text/html": [
       "<h3>Run history:</h3><br/><style>\n",
       "    table.wandb td:nth-child(1) { padding: 0 10px; text-align: right }\n",
       "    </style><table class=\"wandb\">\n",
       "<tr><td>loss</td><td>█▁▁▁▁▁▁▁▁▁▁▁▁▁▁▁▁▁▁▁▁▁▁▁▁▁▁▁▁▁▁▁▁▁▁▁▁▁▁▁</td></tr><tr><td>_runtime</td><td>▁▁▁▁▂▂▂▂▃▃▃▃▃▃▃▃▄▄▄▄▅▅▅▅▆▆▆▆▆▆▆▆▇▇▇▇████</td></tr><tr><td>_timestamp</td><td>▁▁▁▁▂▂▂▂▃▃▃▃▃▃▃▃▄▄▄▄▅▅▅▅▆▆▆▆▆▆▆▆▇▇▇▇████</td></tr><tr><td>_step</td><td>▁▁▁▁▂▂▂▂▂▃▃▃▃▃▃▄▄▄▄▄▅▅▅▅▅▅▆▆▆▆▆▆▇▇▇▇▇███</td></tr></table><br/>"
      ],
      "text/plain": [
       "<IPython.core.display.HTML object>"
      ]
     },
     "metadata": {},
     "output_type": "display_data"
    },
    {
     "data": {
      "text/html": [
       "Synced 5 W&B file(s), 1 media file(s), 0 artifact file(s) and 1 other file(s)"
      ],
      "text/plain": [
       "<IPython.core.display.HTML object>"
      ]
     },
     "metadata": {},
     "output_type": "display_data"
    },
    {
     "data": {
      "text/html": [
       "\n",
       "                    <br/>Synced <strong style=\"color:#cdcd00\">avid-sweep-10</strong>: <a href=\"https://wandb.ai/amrmkayid/nam/runs/g8kq755k\" target=\"_blank\">https://wandb.ai/amrmkayid/nam/runs/g8kq755k</a><br/>\n",
       "                "
      ],
      "text/plain": [
       "<IPython.core.display.HTML object>"
      ]
     },
     "metadata": {},
     "output_type": "display_data"
    },
    {
     "name": "stderr",
     "output_type": "stream",
     "text": [
      "\u001b[34m\u001b[1mwandb\u001b[0m: Agent Starting Run: h6tmnkmk with config:\n",
      "\u001b[34m\u001b[1mwandb\u001b[0m: \tactivation: relu\n",
      "\u001b[34m\u001b[1mwandb\u001b[0m: \tbatch_size: 32\n",
      "\u001b[34m\u001b[1mwandb\u001b[0m: \tdecay_rate: 0.0005\n",
      "\u001b[34m\u001b[1mwandb\u001b[0m: \tdropout: 0.3\n",
      "\u001b[34m\u001b[1mwandb\u001b[0m: \tlr: 0.001\n",
      "\u001b[34m\u001b[1mwandb\u001b[0m: \toptimizer: sgd\n",
      "\u001b[34m\u001b[1mwandb\u001b[0m: \ttraining_epochs: 10\n",
      "\u001b[34m\u001b[1mwandb\u001b[0m: \u001b[33mWARNING\u001b[0m Ignored wandb.init() arg project when running a sweep\n"
     ]
    },
    {
     "data": {
      "text/html": [
       "\n",
       "                Tracking run with wandb version 0.10.18<br/>\n",
       "                Syncing run <strong style=\"color:#cdcd00\">charmed-sweep-11</strong> to <a href=\"https://wandb.ai\" target=\"_blank\">Weights & Biases</a> <a href=\"https://docs.wandb.com/integrations/jupyter.html\" target=\"_blank\">(Documentation)</a>.<br/>\n",
       "                Project page: <a href=\"https://wandb.ai/amrmkayid/nam\" target=\"_blank\">https://wandb.ai/amrmkayid/nam</a><br/>\n",
       "                Sweep page: <a href=\"https://wandb.ai/amrmkayid/nam/sweeps/nt11q4wz\" target=\"_blank\">https://wandb.ai/amrmkayid/nam/sweeps/nt11q4wz</a><br/>\n",
       "Run page: <a href=\"https://wandb.ai/amrmkayid/nam/runs/h6tmnkmk\" target=\"_blank\">https://wandb.ai/amrmkayid/nam/runs/h6tmnkmk</a><br/>\n",
       "                Run data is saved locally in <code>/Users/amrmkayid/Desktop/nam/wandb/run-20210213_162936-h6tmnkmk</code><br/><br/>\n",
       "            "
      ],
      "text/plain": [
       "<IPython.core.display.HTML object>"
      ]
     },
     "metadata": {},
     "output_type": "display_data"
    },
    {
     "data": {
      "text/html": [
       "<br/>Waiting for W&B process to finish, PID 8475<br/>Program ended successfully."
      ],
      "text/plain": [
       "<IPython.core.display.HTML object>"
      ]
     },
     "metadata": {},
     "output_type": "display_data"
    },
    {
     "data": {
      "application/vnd.jupyter.widget-view+json": {
       "model_id": "",
       "version_major": 2,
       "version_minor": 0
      },
      "text/plain": [
       "VBox(children=(Label(value=' 0.40MB of 0.40MB uploaded (0.00MB deduped)\\r'), FloatProgress(value=1.0, max=1.0)…"
      ]
     },
     "metadata": {},
     "output_type": "display_data"
    },
    {
     "data": {
      "text/html": [
       "Find user logs for this run at: <code>/Users/amrmkayid/Desktop/nam/wandb/run-20210213_162936-h6tmnkmk/logs/debug.log</code>"
      ],
      "text/plain": [
       "<IPython.core.display.HTML object>"
      ]
     },
     "metadata": {},
     "output_type": "display_data"
    },
    {
     "data": {
      "text/html": [
       "Find internal logs for this run at: <code>/Users/amrmkayid/Desktop/nam/wandb/run-20210213_162936-h6tmnkmk/logs/debug-internal.log</code>"
      ],
      "text/plain": [
       "<IPython.core.display.HTML object>"
      ]
     },
     "metadata": {},
     "output_type": "display_data"
    },
    {
     "data": {
      "text/html": [
       "<h3>Run summary:</h3><br/><style>\n",
       "    table.wandb td:nth-child(1) { padding: 0 10px; text-align: right }\n",
       "    </style><table class=\"wandb\">\n",
       "<tr><td>loss</td><td>35499204608.0</td></tr><tr><td>_runtime</td><td>21</td></tr><tr><td>_timestamp</td><td>1613226597</td></tr><tr><td>_step</td><td>149</td></tr></table>"
      ],
      "text/plain": [
       "<IPython.core.display.HTML object>"
      ]
     },
     "metadata": {},
     "output_type": "display_data"
    },
    {
     "data": {
      "text/html": [
       "<h3>Run history:</h3><br/><style>\n",
       "    table.wandb td:nth-child(1) { padding: 0 10px; text-align: right }\n",
       "    </style><table class=\"wandb\">\n",
       "<tr><td>loss</td><td>█▁▁▁▁▁▁▁▁▁▁▁▁▁▁▁▁▁▁▁▁▁▁▁▁▁▁▁▁▁▁▁▁▁▁▁▁▁▁▁</td></tr><tr><td>_runtime</td><td>▁▁▁▁▂▂▂▂▃▃▃▃▃▃▃▄▄▄▄▅▅▅▅▅▅▅▆▆▆▆▆▆▆▇▇▇▇███</td></tr><tr><td>_timestamp</td><td>▁▁▁▁▂▂▂▂▃▃▃▃▃▃▃▄▄▄▄▅▅▅▅▅▅▅▆▆▆▆▆▆▆▇▇▇▇███</td></tr><tr><td>_step</td><td>▁▁▁▁▂▂▂▂▂▃▃▃▃▃▃▄▄▄▄▄▅▅▅▅▅▅▆▆▆▆▆▆▇▇▇▇▇███</td></tr></table><br/>"
      ],
      "text/plain": [
       "<IPython.core.display.HTML object>"
      ]
     },
     "metadata": {},
     "output_type": "display_data"
    },
    {
     "data": {
      "text/html": [
       "Synced 5 W&B file(s), 1 media file(s), 0 artifact file(s) and 1 other file(s)"
      ],
      "text/plain": [
       "<IPython.core.display.HTML object>"
      ]
     },
     "metadata": {},
     "output_type": "display_data"
    },
    {
     "data": {
      "text/html": [
       "\n",
       "                    <br/>Synced <strong style=\"color:#cdcd00\">charmed-sweep-11</strong>: <a href=\"https://wandb.ai/amrmkayid/nam/runs/h6tmnkmk\" target=\"_blank\">https://wandb.ai/amrmkayid/nam/runs/h6tmnkmk</a><br/>\n",
       "                "
      ],
      "text/plain": [
       "<IPython.core.display.HTML object>"
      ]
     },
     "metadata": {},
     "output_type": "display_data"
    },
    {
     "name": "stderr",
     "output_type": "stream",
     "text": [
      "\u001b[34m\u001b[1mwandb\u001b[0m: Agent Starting Run: unvzukep with config:\n",
      "\u001b[34m\u001b[1mwandb\u001b[0m: \tactivation: exu\n",
      "\u001b[34m\u001b[1mwandb\u001b[0m: \tbatch_size: 256\n",
      "\u001b[34m\u001b[1mwandb\u001b[0m: \tdecay_rate: 0.005\n",
      "\u001b[34m\u001b[1mwandb\u001b[0m: \tdropout: 0.4\n",
      "\u001b[34m\u001b[1mwandb\u001b[0m: \tlr: 0.001\n",
      "\u001b[34m\u001b[1mwandb\u001b[0m: \toptimizer: sgd\n",
      "\u001b[34m\u001b[1mwandb\u001b[0m: \ttraining_epochs: 50\n",
      "\u001b[34m\u001b[1mwandb\u001b[0m: \u001b[33mWARNING\u001b[0m Ignored wandb.init() arg project when running a sweep\n"
     ]
    },
    {
     "data": {
      "text/html": [
       "\n",
       "                Tracking run with wandb version 0.10.18<br/>\n",
       "                Syncing run <strong style=\"color:#cdcd00\">curious-sweep-12</strong> to <a href=\"https://wandb.ai\" target=\"_blank\">Weights & Biases</a> <a href=\"https://docs.wandb.com/integrations/jupyter.html\" target=\"_blank\">(Documentation)</a>.<br/>\n",
       "                Project page: <a href=\"https://wandb.ai/amrmkayid/nam\" target=\"_blank\">https://wandb.ai/amrmkayid/nam</a><br/>\n",
       "                Sweep page: <a href=\"https://wandb.ai/amrmkayid/nam/sweeps/nt11q4wz\" target=\"_blank\">https://wandb.ai/amrmkayid/nam/sweeps/nt11q4wz</a><br/>\n",
       "Run page: <a href=\"https://wandb.ai/amrmkayid/nam/runs/unvzukep\" target=\"_blank\">https://wandb.ai/amrmkayid/nam/runs/unvzukep</a><br/>\n",
       "                Run data is saved locally in <code>/Users/amrmkayid/Desktop/nam/wandb/run-20210213_163005-unvzukep</code><br/><br/>\n",
       "            "
      ],
      "text/plain": [
       "<IPython.core.display.HTML object>"
      ]
     },
     "metadata": {},
     "output_type": "display_data"
    },
    {
     "data": {
      "text/html": [
       "<br/>Waiting for W&B process to finish, PID 8676<br/>Program ended successfully."
      ],
      "text/plain": [
       "<IPython.core.display.HTML object>"
      ]
     },
     "metadata": {},
     "output_type": "display_data"
    },
    {
     "data": {
      "application/vnd.jupyter.widget-view+json": {
       "model_id": "",
       "version_major": 2,
       "version_minor": 0
      },
      "text/plain": [
       "VBox(children=(Label(value=' 0.40MB of 0.40MB uploaded (0.00MB deduped)\\r'), FloatProgress(value=1.0, max=1.0)…"
      ]
     },
     "metadata": {},
     "output_type": "display_data"
    },
    {
     "data": {
      "text/html": [
       "Find user logs for this run at: <code>/Users/amrmkayid/Desktop/nam/wandb/run-20210213_163005-unvzukep/logs/debug.log</code>"
      ],
      "text/plain": [
       "<IPython.core.display.HTML object>"
      ]
     },
     "metadata": {},
     "output_type": "display_data"
    },
    {
     "data": {
      "text/html": [
       "Find internal logs for this run at: <code>/Users/amrmkayid/Desktop/nam/wandb/run-20210213_163005-unvzukep/logs/debug-internal.log</code>"
      ],
      "text/plain": [
       "<IPython.core.display.HTML object>"
      ]
     },
     "metadata": {},
     "output_type": "display_data"
    },
    {
     "data": {
      "text/html": [
       "<h3>Run summary:</h3><br/><style>\n",
       "    table.wandb td:nth-child(1) { padding: 0 10px; text-align: right }\n",
       "    </style><table class=\"wandb\">\n",
       "<tr><td>loss</td><td>37423661056.0</td></tr><tr><td>_runtime</td><td>20</td></tr><tr><td>_timestamp</td><td>1613226625</td></tr><tr><td>_step</td><td>149</td></tr></table>"
      ],
      "text/plain": [
       "<IPython.core.display.HTML object>"
      ]
     },
     "metadata": {},
     "output_type": "display_data"
    },
    {
     "data": {
      "text/html": [
       "<h3>Run history:</h3><br/><style>\n",
       "    table.wandb td:nth-child(1) { padding: 0 10px; text-align: right }\n",
       "    </style><table class=\"wandb\">\n",
       "<tr><td>loss</td><td>█▁▁▁▁▁▁▁▁▁▁▁▁▁▁▁▁▁▁▁▁▁▁▁▁▁▁▁▁▁▁▁▁▁▁▁▁▁▁▁</td></tr><tr><td>_runtime</td><td>▁▁▁▁▂▂▂▂▃▃▃▃▃▃▃▄▄▄▄▅▅▅▅▅▆▆▆▆▆▆▆▆▇▇▇▇████</td></tr><tr><td>_timestamp</td><td>▁▁▁▁▂▂▂▂▃▃▃▃▃▃▃▄▄▄▄▅▅▅▅▅▆▆▆▆▆▆▆▆▇▇▇▇████</td></tr><tr><td>_step</td><td>▁▁▁▁▂▂▂▂▂▃▃▃▃▃▃▄▄▄▄▄▅▅▅▅▅▅▆▆▆▆▆▆▇▇▇▇▇███</td></tr></table><br/>"
      ],
      "text/plain": [
       "<IPython.core.display.HTML object>"
      ]
     },
     "metadata": {},
     "output_type": "display_data"
    },
    {
     "data": {
      "text/html": [
       "Synced 5 W&B file(s), 1 media file(s), 0 artifact file(s) and 1 other file(s)"
      ],
      "text/plain": [
       "<IPython.core.display.HTML object>"
      ]
     },
     "metadata": {},
     "output_type": "display_data"
    },
    {
     "data": {
      "text/html": [
       "\n",
       "                    <br/>Synced <strong style=\"color:#cdcd00\">curious-sweep-12</strong>: <a href=\"https://wandb.ai/amrmkayid/nam/runs/unvzukep\" target=\"_blank\">https://wandb.ai/amrmkayid/nam/runs/unvzukep</a><br/>\n",
       "                "
      ],
      "text/plain": [
       "<IPython.core.display.HTML object>"
      ]
     },
     "metadata": {},
     "output_type": "display_data"
    },
    {
     "name": "stderr",
     "output_type": "stream",
     "text": [
      "\u001b[34m\u001b[1mwandb\u001b[0m: Agent Starting Run: or9aoi3l with config:\n",
      "\u001b[34m\u001b[1mwandb\u001b[0m: \tactivation: relu\n",
      "\u001b[34m\u001b[1mwandb\u001b[0m: \tbatch_size: 32\n",
      "\u001b[34m\u001b[1mwandb\u001b[0m: \tdecay_rate: 0.005\n",
      "\u001b[34m\u001b[1mwandb\u001b[0m: \tdropout: 0.3\n",
      "\u001b[34m\u001b[1mwandb\u001b[0m: \tlr: 0.0001\n",
      "\u001b[34m\u001b[1mwandb\u001b[0m: \toptimizer: sgd\n",
      "\u001b[34m\u001b[1mwandb\u001b[0m: \ttraining_epochs: 10\n",
      "\u001b[34m\u001b[1mwandb\u001b[0m: \u001b[33mWARNING\u001b[0m Ignored wandb.init() arg project when running a sweep\n"
     ]
    },
    {
     "data": {
      "text/html": [
       "\n",
       "                Tracking run with wandb version 0.10.18<br/>\n",
       "                Syncing run <strong style=\"color:#cdcd00\">lilac-sweep-13</strong> to <a href=\"https://wandb.ai\" target=\"_blank\">Weights & Biases</a> <a href=\"https://docs.wandb.com/integrations/jupyter.html\" target=\"_blank\">(Documentation)</a>.<br/>\n",
       "                Project page: <a href=\"https://wandb.ai/amrmkayid/nam\" target=\"_blank\">https://wandb.ai/amrmkayid/nam</a><br/>\n",
       "                Sweep page: <a href=\"https://wandb.ai/amrmkayid/nam/sweeps/nt11q4wz\" target=\"_blank\">https://wandb.ai/amrmkayid/nam/sweeps/nt11q4wz</a><br/>\n",
       "Run page: <a href=\"https://wandb.ai/amrmkayid/nam/runs/or9aoi3l\" target=\"_blank\">https://wandb.ai/amrmkayid/nam/runs/or9aoi3l</a><br/>\n",
       "                Run data is saved locally in <code>/Users/amrmkayid/Desktop/nam/wandb/run-20210213_163034-or9aoi3l</code><br/><br/>\n",
       "            "
      ],
      "text/plain": [
       "<IPython.core.display.HTML object>"
      ]
     },
     "metadata": {},
     "output_type": "display_data"
    },
    {
     "data": {
      "text/html": [
       "<br/>Waiting for W&B process to finish, PID 8888<br/>Program ended successfully."
      ],
      "text/plain": [
       "<IPython.core.display.HTML object>"
      ]
     },
     "metadata": {},
     "output_type": "display_data"
    },
    {
     "data": {
      "application/vnd.jupyter.widget-view+json": {
       "model_id": "",
       "version_major": 2,
       "version_minor": 0
      },
      "text/plain": [
       "VBox(children=(Label(value=' 0.40MB of 0.40MB uploaded (0.00MB deduped)\\r'), FloatProgress(value=1.0, max=1.0)…"
      ]
     },
     "metadata": {},
     "output_type": "display_data"
    },
    {
     "data": {
      "text/html": [
       "Find user logs for this run at: <code>/Users/amrmkayid/Desktop/nam/wandb/run-20210213_163034-or9aoi3l/logs/debug.log</code>"
      ],
      "text/plain": [
       "<IPython.core.display.HTML object>"
      ]
     },
     "metadata": {},
     "output_type": "display_data"
    },
    {
     "data": {
      "text/html": [
       "Find internal logs for this run at: <code>/Users/amrmkayid/Desktop/nam/wandb/run-20210213_163034-or9aoi3l/logs/debug-internal.log</code>"
      ],
      "text/plain": [
       "<IPython.core.display.HTML object>"
      ]
     },
     "metadata": {},
     "output_type": "display_data"
    },
    {
     "data": {
      "text/html": [
       "<h3>Run summary:</h3><br/><style>\n",
       "    table.wandb td:nth-child(1) { padding: 0 10px; text-align: right }\n",
       "    </style><table class=\"wandb\">\n",
       "<tr><td>loss</td><td>30019194880.0</td></tr><tr><td>_runtime</td><td>21</td></tr><tr><td>_timestamp</td><td>1613226655</td></tr><tr><td>_step</td><td>149</td></tr></table>"
      ],
      "text/plain": [
       "<IPython.core.display.HTML object>"
      ]
     },
     "metadata": {},
     "output_type": "display_data"
    },
    {
     "data": {
      "text/html": [
       "<h3>Run history:</h3><br/><style>\n",
       "    table.wandb td:nth-child(1) { padding: 0 10px; text-align: right }\n",
       "    </style><table class=\"wandb\">\n",
       "<tr><td>loss</td><td>█▁▁▁▁▁▁▁▁▁▁▁▁▁▁▁▁▁▁▁▁▁▁▁▁▁▁▁▁▁▁▁▁▁▁▁▁▁▁▁</td></tr><tr><td>_runtime</td><td>▁▁▁▁▂▂▂▂▃▃▃▃▃▃▃▄▄▄▄▅▅▅▅▅▅▅▆▆▆▆▆▆▇▇▇▇████</td></tr><tr><td>_timestamp</td><td>▁▁▁▁▂▂▂▂▃▃▃▃▃▃▃▄▄▄▄▅▅▅▅▅▅▅▆▆▆▆▆▆▇▇▇▇████</td></tr><tr><td>_step</td><td>▁▁▁▁▂▂▂▂▂▃▃▃▃▃▃▄▄▄▄▄▅▅▅▅▅▅▆▆▆▆▆▆▇▇▇▇▇███</td></tr></table><br/>"
      ],
      "text/plain": [
       "<IPython.core.display.HTML object>"
      ]
     },
     "metadata": {},
     "output_type": "display_data"
    },
    {
     "data": {
      "text/html": [
       "Synced 5 W&B file(s), 1 media file(s), 0 artifact file(s) and 1 other file(s)"
      ],
      "text/plain": [
       "<IPython.core.display.HTML object>"
      ]
     },
     "metadata": {},
     "output_type": "display_data"
    },
    {
     "data": {
      "text/html": [
       "\n",
       "                    <br/>Synced <strong style=\"color:#cdcd00\">lilac-sweep-13</strong>: <a href=\"https://wandb.ai/amrmkayid/nam/runs/or9aoi3l\" target=\"_blank\">https://wandb.ai/amrmkayid/nam/runs/or9aoi3l</a><br/>\n",
       "                "
      ],
      "text/plain": [
       "<IPython.core.display.HTML object>"
      ]
     },
     "metadata": {},
     "output_type": "display_data"
    },
    {
     "name": "stderr",
     "output_type": "stream",
     "text": [
      "\u001b[34m\u001b[1mwandb\u001b[0m: Sweep Agent: Waiting for job.\n",
      "\u001b[34m\u001b[1mwandb\u001b[0m: Job received.\n",
      "\u001b[34m\u001b[1mwandb\u001b[0m: Agent Starting Run: 1ay4pkwb with config:\n",
      "\u001b[34m\u001b[1mwandb\u001b[0m: \tactivation: exu\n",
      "\u001b[34m\u001b[1mwandb\u001b[0m: \tbatch_size: 32\n",
      "\u001b[34m\u001b[1mwandb\u001b[0m: \tdecay_rate: 0.0005\n",
      "\u001b[34m\u001b[1mwandb\u001b[0m: \tdropout: 0.5\n",
      "\u001b[34m\u001b[1mwandb\u001b[0m: \tlr: 3e-05\n",
      "\u001b[34m\u001b[1mwandb\u001b[0m: \toptimizer: rmsprop\n",
      "\u001b[34m\u001b[1mwandb\u001b[0m: \ttraining_epochs: 10\n",
      "\u001b[34m\u001b[1mwandb\u001b[0m: \u001b[33mWARNING\u001b[0m Ignored wandb.init() arg project when running a sweep\n"
     ]
    },
    {
     "data": {
      "text/html": [
       "\n",
       "                Tracking run with wandb version 0.10.18<br/>\n",
       "                Syncing run <strong style=\"color:#cdcd00\">lilac-sweep-14</strong> to <a href=\"https://wandb.ai\" target=\"_blank\">Weights & Biases</a> <a href=\"https://docs.wandb.com/integrations/jupyter.html\" target=\"_blank\">(Documentation)</a>.<br/>\n",
       "                Project page: <a href=\"https://wandb.ai/amrmkayid/nam\" target=\"_blank\">https://wandb.ai/amrmkayid/nam</a><br/>\n",
       "                Sweep page: <a href=\"https://wandb.ai/amrmkayid/nam/sweeps/nt11q4wz\" target=\"_blank\">https://wandb.ai/amrmkayid/nam/sweeps/nt11q4wz</a><br/>\n",
       "Run page: <a href=\"https://wandb.ai/amrmkayid/nam/runs/1ay4pkwb\" target=\"_blank\">https://wandb.ai/amrmkayid/nam/runs/1ay4pkwb</a><br/>\n",
       "                Run data is saved locally in <code>/Users/amrmkayid/Desktop/nam/wandb/run-20210213_163114-1ay4pkwb</code><br/><br/>\n",
       "            "
      ],
      "text/plain": [
       "<IPython.core.display.HTML object>"
      ]
     },
     "metadata": {},
     "output_type": "display_data"
    },
    {
     "data": {
      "text/html": [
       "<br/>Waiting for W&B process to finish, PID 9147<br/>Program ended successfully."
      ],
      "text/plain": [
       "<IPython.core.display.HTML object>"
      ]
     },
     "metadata": {},
     "output_type": "display_data"
    },
    {
     "data": {
      "application/vnd.jupyter.widget-view+json": {
       "model_id": "",
       "version_major": 2,
       "version_minor": 0
      },
      "text/plain": [
       "VBox(children=(Label(value=' 0.40MB of 0.40MB uploaded (0.00MB deduped)\\r'), FloatProgress(value=1.0, max=1.0)…"
      ]
     },
     "metadata": {},
     "output_type": "display_data"
    },
    {
     "data": {
      "text/html": [
       "Find user logs for this run at: <code>/Users/amrmkayid/Desktop/nam/wandb/run-20210213_163114-1ay4pkwb/logs/debug.log</code>"
      ],
      "text/plain": [
       "<IPython.core.display.HTML object>"
      ]
     },
     "metadata": {},
     "output_type": "display_data"
    },
    {
     "data": {
      "text/html": [
       "Find internal logs for this run at: <code>/Users/amrmkayid/Desktop/nam/wandb/run-20210213_163114-1ay4pkwb/logs/debug-internal.log</code>"
      ],
      "text/plain": [
       "<IPython.core.display.HTML object>"
      ]
     },
     "metadata": {},
     "output_type": "display_data"
    },
    {
     "data": {
      "text/html": [
       "<h3>Run summary:</h3><br/><style>\n",
       "    table.wandb td:nth-child(1) { padding: 0 10px; text-align: right }\n",
       "    </style><table class=\"wandb\">\n",
       "<tr><td>loss</td><td>34977337344.0</td></tr><tr><td>_runtime</td><td>20</td></tr><tr><td>_timestamp</td><td>1613226694</td></tr><tr><td>_step</td><td>149</td></tr></table>"
      ],
      "text/plain": [
       "<IPython.core.display.HTML object>"
      ]
     },
     "metadata": {},
     "output_type": "display_data"
    },
    {
     "data": {
      "text/html": [
       "<h3>Run history:</h3><br/><style>\n",
       "    table.wandb td:nth-child(1) { padding: 0 10px; text-align: right }\n",
       "    </style><table class=\"wandb\">\n",
       "<tr><td>loss</td><td>█▁▁▁▁▁▁▁▁▁▁▁▁▁▁▁▁▁▁▁▁▁▁▁▁▁▁▁▁▁▁▁▁▁▁▁▁▁▁▁</td></tr><tr><td>_runtime</td><td>▁▁▁▁▁▂▂▂▂▃▃▃▃▃▃▃▄▄▄▄▅▅▅▅▆▆▆▆▆▆▆▆▇▇▇▇████</td></tr><tr><td>_timestamp</td><td>▁▁▁▁▁▂▂▂▂▃▃▃▃▃▃▃▄▄▄▄▅▅▅▅▆▆▆▆▆▆▆▆▇▇▇▇████</td></tr><tr><td>_step</td><td>▁▁▁▁▂▂▂▂▂▃▃▃▃▃▃▄▄▄▄▄▅▅▅▅▅▅▆▆▆▆▆▆▇▇▇▇▇███</td></tr></table><br/>"
      ],
      "text/plain": [
       "<IPython.core.display.HTML object>"
      ]
     },
     "metadata": {},
     "output_type": "display_data"
    },
    {
     "data": {
      "text/html": [
       "Synced 5 W&B file(s), 1 media file(s), 0 artifact file(s) and 1 other file(s)"
      ],
      "text/plain": [
       "<IPython.core.display.HTML object>"
      ]
     },
     "metadata": {},
     "output_type": "display_data"
    },
    {
     "data": {
      "text/html": [
       "\n",
       "                    <br/>Synced <strong style=\"color:#cdcd00\">lilac-sweep-14</strong>: <a href=\"https://wandb.ai/amrmkayid/nam/runs/1ay4pkwb\" target=\"_blank\">https://wandb.ai/amrmkayid/nam/runs/1ay4pkwb</a><br/>\n",
       "                "
      ],
      "text/plain": [
       "<IPython.core.display.HTML object>"
      ]
     },
     "metadata": {},
     "output_type": "display_data"
    },
    {
     "name": "stderr",
     "output_type": "stream",
     "text": [
      "\u001b[34m\u001b[1mwandb\u001b[0m: Agent Starting Run: k0ykmxrb with config:\n",
      "\u001b[34m\u001b[1mwandb\u001b[0m: \tactivation: exu\n",
      "\u001b[34m\u001b[1mwandb\u001b[0m: \tbatch_size: 32\n",
      "\u001b[34m\u001b[1mwandb\u001b[0m: \tdecay_rate: 0.005\n",
      "\u001b[34m\u001b[1mwandb\u001b[0m: \tdropout: 0.3\n",
      "\u001b[34m\u001b[1mwandb\u001b[0m: \tlr: 3e-05\n",
      "\u001b[34m\u001b[1mwandb\u001b[0m: \toptimizer: adam\n",
      "\u001b[34m\u001b[1mwandb\u001b[0m: \ttraining_epochs: 5\n",
      "\u001b[34m\u001b[1mwandb\u001b[0m: \u001b[33mWARNING\u001b[0m Ignored wandb.init() arg project when running a sweep\n"
     ]
    },
    {
     "data": {
      "text/html": [
       "\n",
       "                Tracking run with wandb version 0.10.18<br/>\n",
       "                Syncing run <strong style=\"color:#cdcd00\">vibrant-sweep-15</strong> to <a href=\"https://wandb.ai\" target=\"_blank\">Weights & Biases</a> <a href=\"https://docs.wandb.com/integrations/jupyter.html\" target=\"_blank\">(Documentation)</a>.<br/>\n",
       "                Project page: <a href=\"https://wandb.ai/amrmkayid/nam\" target=\"_blank\">https://wandb.ai/amrmkayid/nam</a><br/>\n",
       "                Sweep page: <a href=\"https://wandb.ai/amrmkayid/nam/sweeps/nt11q4wz\" target=\"_blank\">https://wandb.ai/amrmkayid/nam/sweeps/nt11q4wz</a><br/>\n",
       "Run page: <a href=\"https://wandb.ai/amrmkayid/nam/runs/k0ykmxrb\" target=\"_blank\">https://wandb.ai/amrmkayid/nam/runs/k0ykmxrb</a><br/>\n",
       "                Run data is saved locally in <code>/Users/amrmkayid/Desktop/nam/wandb/run-20210213_163146-k0ykmxrb</code><br/><br/>\n",
       "            "
      ],
      "text/plain": [
       "<IPython.core.display.HTML object>"
      ]
     },
     "metadata": {},
     "output_type": "display_data"
    },
    {
     "data": {
      "text/html": [
       "<br/>Waiting for W&B process to finish, PID 9412<br/>Program ended successfully."
      ],
      "text/plain": [
       "<IPython.core.display.HTML object>"
      ]
     },
     "metadata": {},
     "output_type": "display_data"
    },
    {
     "data": {
      "application/vnd.jupyter.widget-view+json": {
       "model_id": "",
       "version_major": 2,
       "version_minor": 0
      },
      "text/plain": [
       "VBox(children=(Label(value=' 0.80MB of 0.80MB uploaded (0.00MB deduped)\\r'), FloatProgress(value=1.0, max=1.0)…"
      ]
     },
     "metadata": {},
     "output_type": "display_data"
    },
    {
     "data": {
      "text/html": [
       "Find user logs for this run at: <code>/Users/amrmkayid/Desktop/nam/wandb/run-20210213_163146-k0ykmxrb/logs/debug.log</code>"
      ],
      "text/plain": [
       "<IPython.core.display.HTML object>"
      ]
     },
     "metadata": {},
     "output_type": "display_data"
    },
    {
     "data": {
      "text/html": [
       "Find internal logs for this run at: <code>/Users/amrmkayid/Desktop/nam/wandb/run-20210213_163146-k0ykmxrb/logs/debug-internal.log</code>"
      ],
      "text/plain": [
       "<IPython.core.display.HTML object>"
      ]
     },
     "metadata": {},
     "output_type": "display_data"
    },
    {
     "data": {
      "text/html": [
       "<h3>Run summary:</h3><br/><style>\n",
       "    table.wandb td:nth-child(1) { padding: 0 10px; text-align: right }\n",
       "    </style><table class=\"wandb\">\n",
       "<tr><td>loss</td><td>40953880576.0</td></tr><tr><td>_runtime</td><td>20</td></tr><tr><td>_timestamp</td><td>1613226726</td></tr><tr><td>_step</td><td>149</td></tr></table>"
      ],
      "text/plain": [
       "<IPython.core.display.HTML object>"
      ]
     },
     "metadata": {},
     "output_type": "display_data"
    },
    {
     "data": {
      "text/html": [
       "<h3>Run history:</h3><br/><style>\n",
       "    table.wandb td:nth-child(1) { padding: 0 10px; text-align: right }\n",
       "    </style><table class=\"wandb\">\n",
       "<tr><td>loss</td><td>█▂▁▁▂▁▁▁▁▁▁▂▂▂▂▂▁▁▁▁▁▁▁▁▁▁▁▁▁▁▁▁▂▂▂▂▂▂▂▂</td></tr><tr><td>_runtime</td><td>▁▁▁▁▂▂▂▂▃▃▃▃▃▃▃▃▄▄▄▄▅▅▅▅▆▆▆▆▆▆▆▆▇▇▇▇████</td></tr><tr><td>_timestamp</td><td>▁▁▁▁▂▂▂▂▃▃▃▃▃▃▃▃▄▄▄▄▅▅▅▅▆▆▆▆▆▆▆▆▇▇▇▇████</td></tr><tr><td>_step</td><td>▁▁▁▁▂▂▂▂▂▃▃▃▃▃▃▄▄▄▄▄▅▅▅▅▅▅▆▆▆▆▆▆▇▇▇▇▇███</td></tr></table><br/>"
      ],
      "text/plain": [
       "<IPython.core.display.HTML object>"
      ]
     },
     "metadata": {},
     "output_type": "display_data"
    },
    {
     "data": {
      "text/html": [
       "Synced 5 W&B file(s), 1 media file(s), 0 artifact file(s) and 2 other file(s)"
      ],
      "text/plain": [
       "<IPython.core.display.HTML object>"
      ]
     },
     "metadata": {},
     "output_type": "display_data"
    },
    {
     "data": {
      "text/html": [
       "\n",
       "                    <br/>Synced <strong style=\"color:#cdcd00\">vibrant-sweep-15</strong>: <a href=\"https://wandb.ai/amrmkayid/nam/runs/k0ykmxrb\" target=\"_blank\">https://wandb.ai/amrmkayid/nam/runs/k0ykmxrb</a><br/>\n",
       "                "
      ],
      "text/plain": [
       "<IPython.core.display.HTML object>"
      ]
     },
     "metadata": {},
     "output_type": "display_data"
    },
    {
     "name": "stderr",
     "output_type": "stream",
     "text": [
      "\u001b[34m\u001b[1mwandb\u001b[0m: Agent Starting Run: f8w56bz5 with config:\n",
      "\u001b[34m\u001b[1mwandb\u001b[0m: \tactivation: exu\n",
      "\u001b[34m\u001b[1mwandb\u001b[0m: \tbatch_size: 128\n",
      "\u001b[34m\u001b[1mwandb\u001b[0m: \tdecay_rate: 0.0005\n",
      "\u001b[34m\u001b[1mwandb\u001b[0m: \tdropout: 0.5\n",
      "\u001b[34m\u001b[1mwandb\u001b[0m: \tlr: 3e-05\n",
      "\u001b[34m\u001b[1mwandb\u001b[0m: \toptimizer: sgd\n",
      "\u001b[34m\u001b[1mwandb\u001b[0m: \ttraining_epochs: 2\n",
      "\u001b[34m\u001b[1mwandb\u001b[0m: \u001b[33mWARNING\u001b[0m Ignored wandb.init() arg project when running a sweep\n"
     ]
    },
    {
     "data": {
      "text/html": [
       "\n",
       "                Tracking run with wandb version 0.10.18<br/>\n",
       "                Syncing run <strong style=\"color:#cdcd00\">lemon-sweep-16</strong> to <a href=\"https://wandb.ai\" target=\"_blank\">Weights & Biases</a> <a href=\"https://docs.wandb.com/integrations/jupyter.html\" target=\"_blank\">(Documentation)</a>.<br/>\n",
       "                Project page: <a href=\"https://wandb.ai/amrmkayid/nam\" target=\"_blank\">https://wandb.ai/amrmkayid/nam</a><br/>\n",
       "                Sweep page: <a href=\"https://wandb.ai/amrmkayid/nam/sweeps/nt11q4wz\" target=\"_blank\">https://wandb.ai/amrmkayid/nam/sweeps/nt11q4wz</a><br/>\n",
       "Run page: <a href=\"https://wandb.ai/amrmkayid/nam/runs/f8w56bz5\" target=\"_blank\">https://wandb.ai/amrmkayid/nam/runs/f8w56bz5</a><br/>\n",
       "                Run data is saved locally in <code>/Users/amrmkayid/Desktop/nam/wandb/run-20210213_163216-f8w56bz5</code><br/><br/>\n",
       "            "
      ],
      "text/plain": [
       "<IPython.core.display.HTML object>"
      ]
     },
     "metadata": {},
     "output_type": "display_data"
    }
   ],
   "source": [
    "wandb.agent(sweep_id, train)"
   ]
  },
  {
   "cell_type": "markdown",
   "metadata": {},
   "source": [
    "---"
   ]
  },
  {
   "cell_type": "code",
   "execution_count": 90,
   "metadata": {},
   "outputs": [],
   "source": [
    "config.n_models = 5"
   ]
  },
  {
   "cell_type": "code",
   "execution_count": 91,
   "metadata": {},
   "outputs": [
    {
     "name": "stderr",
     "output_type": "stream",
     "text": [
      "/Users/amrmkayid/anaconda3/envs/nam/lib/python3.7/site-packages/torch/nn/init.py:162: UserWarning: mean is more than 2 std from [a, b] in nn.init.trunc_normal_. The distribution of values may be incorrect.\n",
      "  return _no_grad_trunc_normal_(tensor, mean, std, a, b)\n"
     ]
    }
   ],
   "source": [
    "models = []\n",
    "for n in range(config.n_models):\n",
    "    models.append(NAM(\n",
    "        config=config,\n",
    "        name=\"NAMModel\",\n",
    "        num_inputs=X.shape[1],\n",
    "        num_units=get_num_units(config, dataset_train)\n",
    "    ))"
   ]
  },
  {
   "cell_type": "code",
   "execution_count": 92,
   "metadata": {},
   "outputs": [
    {
     "name": "stdout",
     "output_type": "stream",
     "text": [
      "tensor(272.8964, grad_fn=<MseLossBackward>)\n",
      "tensor(117.9498, grad_fn=<MseLossBackward>)\n",
      "tensor(114.6741, grad_fn=<MseLossBackward>)\n",
      "tensor(103.4756, grad_fn=<MseLossBackward>)\n",
      "tensor(84.6853, grad_fn=<MseLossBackward>)\n",
      "tensor(65.7524, grad_fn=<MseLossBackward>)\n",
      "tensor(53.5112, grad_fn=<MseLossBackward>)\n",
      "tensor(48.9344, grad_fn=<MseLossBackward>)\n",
      "tensor(51.1434, grad_fn=<MseLossBackward>)\n",
      "tensor(55.4362, grad_fn=<MseLossBackward>)\n",
      "tensor(55.5433, grad_fn=<MseLossBackward>)\n",
      "tensor(52.1877, grad_fn=<MseLossBackward>)\n",
      "tensor(48.0570, grad_fn=<MseLossBackward>)\n",
      "tensor(45.5440, grad_fn=<MseLossBackward>)\n",
      "tensor(45.6788, grad_fn=<MseLossBackward>)\n",
      "tensor(47.1508, grad_fn=<MseLossBackward>)\n",
      "tensor(48.2465, grad_fn=<MseLossBackward>)\n",
      "tensor(47.8512, grad_fn=<MseLossBackward>)\n",
      "tensor(46.3175, grad_fn=<MseLossBackward>)\n",
      "tensor(44.7800, grad_fn=<MseLossBackward>)\n",
      "tensor(44.1730, grad_fn=<MseLossBackward>)\n",
      "tensor(44.5715, grad_fn=<MseLossBackward>)\n",
      "tensor(45.1901, grad_fn=<MseLossBackward>)\n",
      "tensor(45.3013, grad_fn=<MseLossBackward>)\n",
      "tensor(44.5567, grad_fn=<MseLossBackward>)\n",
      "tensor(43.6207, grad_fn=<MseLossBackward>)\n",
      "tensor(42.9851, grad_fn=<MseLossBackward>)\n",
      "tensor(42.6684, grad_fn=<MseLossBackward>)\n",
      "tensor(43.3577, grad_fn=<MseLossBackward>)\n",
      "tensor(43.0761, grad_fn=<MseLossBackward>)\n",
      "tensor(43.3677, grad_fn=<MseLossBackward>)\n",
      "tensor(43.1036, grad_fn=<MseLossBackward>)\n",
      "tensor(42.4296, grad_fn=<MseLossBackward>)\n",
      "tensor(42.2124, grad_fn=<MseLossBackward>)\n",
      "tensor(42.2880, grad_fn=<MseLossBackward>)\n",
      "tensor(42.1520, grad_fn=<MseLossBackward>)\n",
      "tensor(42.2309, grad_fn=<MseLossBackward>)\n",
      "tensor(42.0990, grad_fn=<MseLossBackward>)\n",
      "tensor(41.8834, grad_fn=<MseLossBackward>)\n",
      "tensor(41.8024, grad_fn=<MseLossBackward>)\n",
      "tensor(41.6957, grad_fn=<MseLossBackward>)\n",
      "tensor(41.5785, grad_fn=<MseLossBackward>)\n",
      "tensor(41.3410, grad_fn=<MseLossBackward>)\n",
      "tensor(40.8040, grad_fn=<MseLossBackward>)\n",
      "tensor(42.0060, grad_fn=<MseLossBackward>)\n",
      "tensor(40.7806, grad_fn=<MseLossBackward>)\n",
      "tensor(40.8165, grad_fn=<MseLossBackward>)\n",
      "tensor(40.9360, grad_fn=<MseLossBackward>)\n",
      "tensor(40.6427, grad_fn=<MseLossBackward>)\n",
      "tensor(40.1029, grad_fn=<MseLossBackward>)\n",
      "tensor(40.7123, grad_fn=<MseLossBackward>)\n",
      "tensor(40.0255, grad_fn=<MseLossBackward>)\n",
      "tensor(39.9212, grad_fn=<MseLossBackward>)\n",
      "tensor(40.0869, grad_fn=<MseLossBackward>)\n",
      "tensor(39.8653, grad_fn=<MseLossBackward>)\n",
      "tensor(39.3193, grad_fn=<MseLossBackward>)\n",
      "tensor(40.2540, grad_fn=<MseLossBackward>)\n",
      "tensor(39.3819, grad_fn=<MseLossBackward>)\n",
      "tensor(39.3895, grad_fn=<MseLossBackward>)\n",
      "tensor(39.5851, grad_fn=<MseLossBackward>)\n",
      "tensor(39.3075, grad_fn=<MseLossBackward>)\n",
      "tensor(38.8323, grad_fn=<MseLossBackward>)\n",
      "tensor(38.6394, grad_fn=<MseLossBackward>)\n",
      "tensor(38.8309, grad_fn=<MseLossBackward>)\n",
      "tensor(38.2447, grad_fn=<MseLossBackward>)\n",
      "tensor(38.3054, grad_fn=<MseLossBackward>)\n",
      "tensor(38.0639, grad_fn=<MseLossBackward>)\n",
      "tensor(37.7815, grad_fn=<MseLossBackward>)\n",
      "tensor(37.5675, grad_fn=<MseLossBackward>)\n",
      "tensor(37.5854, grad_fn=<MseLossBackward>)\n",
      "tensor(37.5102, grad_fn=<MseLossBackward>)\n",
      "tensor(37.2591, grad_fn=<MseLossBackward>)\n",
      "tensor(37.3139, grad_fn=<MseLossBackward>)\n",
      "tensor(36.8762, grad_fn=<MseLossBackward>)\n",
      "tensor(36.8910, grad_fn=<MseLossBackward>)\n",
      "tensor(36.5430, grad_fn=<MseLossBackward>)\n",
      "tensor(36.4461, grad_fn=<MseLossBackward>)\n",
      "tensor(36.3401, grad_fn=<MseLossBackward>)\n",
      "tensor(36.1051, grad_fn=<MseLossBackward>)\n",
      "tensor(36.4950, grad_fn=<MseLossBackward>)\n",
      "tensor(36.0112, grad_fn=<MseLossBackward>)\n",
      "tensor(36.0663, grad_fn=<MseLossBackward>)\n",
      "tensor(35.7408, grad_fn=<MseLossBackward>)\n",
      "tensor(35.6685, grad_fn=<MseLossBackward>)\n",
      "tensor(35.2469, grad_fn=<MseLossBackward>)\n",
      "tensor(35.4256, grad_fn=<MseLossBackward>)\n",
      "tensor(35.1785, grad_fn=<MseLossBackward>)\n",
      "tensor(34.7911, grad_fn=<MseLossBackward>)\n",
      "tensor(34.6216, grad_fn=<MseLossBackward>)\n",
      "tensor(34.5251, grad_fn=<MseLossBackward>)\n",
      "tensor(34.5241, grad_fn=<MseLossBackward>)\n",
      "tensor(34.1944, grad_fn=<MseLossBackward>)\n",
      "tensor(35.0949, grad_fn=<MseLossBackward>)\n",
      "tensor(34.3652, grad_fn=<MseLossBackward>)\n",
      "tensor(34.8540, grad_fn=<MseLossBackward>)\n",
      "tensor(34.3504, grad_fn=<MseLossBackward>)\n",
      "tensor(33.8633, grad_fn=<MseLossBackward>)\n",
      "tensor(33.6362, grad_fn=<MseLossBackward>)\n",
      "tensor(33.5768, grad_fn=<MseLossBackward>)\n",
      "tensor(33.4074, grad_fn=<MseLossBackward>)\n",
      "tensor(33.4399, grad_fn=<MseLossBackward>)\n",
      "tensor(33.0844, grad_fn=<MseLossBackward>)\n",
      "tensor(33.0110, grad_fn=<MseLossBackward>)\n",
      "tensor(32.9678, grad_fn=<MseLossBackward>)\n",
      "tensor(32.7862, grad_fn=<MseLossBackward>)\n",
      "tensor(32.6446, grad_fn=<MseLossBackward>)\n",
      "tensor(32.7309, grad_fn=<MseLossBackward>)\n",
      "tensor(32.5002, grad_fn=<MseLossBackward>)\n",
      "tensor(32.2169, grad_fn=<MseLossBackward>)\n",
      "tensor(32.1894, grad_fn=<MseLossBackward>)\n",
      "tensor(32.1544, grad_fn=<MseLossBackward>)\n",
      "tensor(31.9034, grad_fn=<MseLossBackward>)\n",
      "tensor(31.9509, grad_fn=<MseLossBackward>)\n",
      "tensor(31.8858, grad_fn=<MseLossBackward>)\n",
      "tensor(31.5870, grad_fn=<MseLossBackward>)\n",
      "tensor(31.6780, grad_fn=<MseLossBackward>)\n",
      "tensor(31.6782, grad_fn=<MseLossBackward>)\n",
      "tensor(31.3982, grad_fn=<MseLossBackward>)\n",
      "tensor(32.2976, grad_fn=<MseLossBackward>)\n",
      "tensor(32.2396, grad_fn=<MseLossBackward>)\n",
      "tensor(32.0259, grad_fn=<MseLossBackward>)\n",
      "tensor(31.4020, grad_fn=<MseLossBackward>)\n",
      "tensor(32.6500, grad_fn=<MseLossBackward>)\n",
      "tensor(32.4999, grad_fn=<MseLossBackward>)\n",
      "tensor(33.5017, grad_fn=<MseLossBackward>)\n",
      "tensor(31.2925, grad_fn=<MseLossBackward>)\n",
      "tensor(34.2856, grad_fn=<MseLossBackward>)\n",
      "tensor(30.9967, grad_fn=<MseLossBackward>)\n",
      "tensor(32.2086, grad_fn=<MseLossBackward>)\n",
      "tensor(31.5658, grad_fn=<MseLossBackward>)\n",
      "tensor(31.6780, grad_fn=<MseLossBackward>)\n",
      "tensor(30.5040, grad_fn=<MseLossBackward>)\n",
      "tensor(30.8482, grad_fn=<MseLossBackward>)\n",
      "tensor(30.8624, grad_fn=<MseLossBackward>)\n",
      "tensor(30.5449, grad_fn=<MseLossBackward>)\n",
      "tensor(30.4661, grad_fn=<MseLossBackward>)\n",
      "tensor(30.1787, grad_fn=<MseLossBackward>)\n",
      "tensor(30.2989, grad_fn=<MseLossBackward>)\n",
      "tensor(30.2762, grad_fn=<MseLossBackward>)\n",
      "tensor(30.1077, grad_fn=<MseLossBackward>)\n",
      "tensor(30.1407, grad_fn=<MseLossBackward>)\n",
      "tensor(30.0344, grad_fn=<MseLossBackward>)\n",
      "tensor(29.8145, grad_fn=<MseLossBackward>)\n",
      "tensor(29.8943, grad_fn=<MseLossBackward>)\n",
      "tensor(29.8071, grad_fn=<MseLossBackward>)\n",
      "tensor(29.7215, grad_fn=<MseLossBackward>)\n",
      "tensor(29.7334, grad_fn=<MseLossBackward>)\n",
      "tensor(29.5981, grad_fn=<MseLossBackward>)\n",
      "tensor(29.5193, grad_fn=<MseLossBackward>)\n",
      "tensor(29.5400, grad_fn=<MseLossBackward>)\n",
      "tensor(29.4582, grad_fn=<MseLossBackward>)\n",
      "tensor(29.4909, grad_fn=<MseLossBackward>)\n",
      "tensor(29.4486, grad_fn=<MseLossBackward>)\n",
      "tensor(29.2851, grad_fn=<MseLossBackward>)\n",
      "tensor(29.6710, grad_fn=<MseLossBackward>)\n",
      "tensor(30.1695, grad_fn=<MseLossBackward>)\n",
      "tensor(29.4155, grad_fn=<MseLossBackward>)\n",
      "tensor(30.0063, grad_fn=<MseLossBackward>)\n",
      "tensor(28.9706, grad_fn=<MseLossBackward>)\n",
      "tensor(29.3551, grad_fn=<MseLossBackward>)\n",
      "tensor(29.2622, grad_fn=<MseLossBackward>)\n",
      "tensor(29.0713, grad_fn=<MseLossBackward>)\n",
      "tensor(29.6160, grad_fn=<MseLossBackward>)\n",
      "tensor(29.4076, grad_fn=<MseLossBackward>)\n",
      "tensor(28.7891, grad_fn=<MseLossBackward>)\n",
      "tensor(30.6293, grad_fn=<MseLossBackward>)\n",
      "tensor(33.0481, grad_fn=<MseLossBackward>)\n",
      "tensor(30.7937, grad_fn=<MseLossBackward>)\n",
      "tensor(34.5096, grad_fn=<MseLossBackward>)\n",
      "tensor(29.6304, grad_fn=<MseLossBackward>)\n",
      "tensor(30.2137, grad_fn=<MseLossBackward>)\n",
      "tensor(30.7949, grad_fn=<MseLossBackward>)\n",
      "tensor(29.7381, grad_fn=<MseLossBackward>)\n",
      "tensor(28.8689, grad_fn=<MseLossBackward>)\n",
      "tensor(30.0477, grad_fn=<MseLossBackward>)\n",
      "tensor(29.3660, grad_fn=<MseLossBackward>)\n",
      "tensor(30.2144, grad_fn=<MseLossBackward>)\n",
      "tensor(29.5823, grad_fn=<MseLossBackward>)\n",
      "tensor(29.2451, grad_fn=<MseLossBackward>)\n",
      "tensor(30.2291, grad_fn=<MseLossBackward>)\n",
      "tensor(30.1642, grad_fn=<MseLossBackward>)\n",
      "tensor(31.2221, grad_fn=<MseLossBackward>)\n",
      "tensor(29.2973, grad_fn=<MseLossBackward>)\n",
      "tensor(30.0178, grad_fn=<MseLossBackward>)\n",
      "tensor(29.4599, grad_fn=<MseLossBackward>)\n",
      "tensor(29.0243, grad_fn=<MseLossBackward>)\n",
      "tensor(29.3809, grad_fn=<MseLossBackward>)\n",
      "tensor(29.0293, grad_fn=<MseLossBackward>)\n",
      "tensor(28.8930, grad_fn=<MseLossBackward>)\n",
      "tensor(28.5579, grad_fn=<MseLossBackward>)\n",
      "tensor(28.6805, grad_fn=<MseLossBackward>)\n",
      "tensor(29.0334, grad_fn=<MseLossBackward>)\n"
     ]
    },
    {
     "name": "stdout",
     "output_type": "stream",
     "text": [
      "tensor(29.3878, grad_fn=<MseLossBackward>)\n",
      "tensor(28.9748, grad_fn=<MseLossBackward>)\n",
      "tensor(29.4418, grad_fn=<MseLossBackward>)\n",
      "tensor(28.6210, grad_fn=<MseLossBackward>)\n",
      "tensor(28.5112, grad_fn=<MseLossBackward>)\n",
      "tensor(30.0876, grad_fn=<MseLossBackward>)\n",
      "tensor(30.5246, grad_fn=<MseLossBackward>)\n",
      "tensor(29.6598, grad_fn=<MseLossBackward>)\n",
      "tensor(30.1106, grad_fn=<MseLossBackward>)\n",
      "tensor(29.5290, grad_fn=<MseLossBackward>)\n",
      "tensor(28.8341, grad_fn=<MseLossBackward>)\n",
      "tensor(29.0354, grad_fn=<MseLossBackward>)\n",
      "tensor(28.9283, grad_fn=<MseLossBackward>)\n",
      "tensor(28.6928, grad_fn=<MseLossBackward>)\n",
      "tensor(28.6860, grad_fn=<MseLossBackward>)\n",
      "tensor(28.9142, grad_fn=<MseLossBackward>)\n",
      "tensor(28.9405, grad_fn=<MseLossBackward>)\n",
      "tensor(29.0880, grad_fn=<MseLossBackward>)\n",
      "tensor(29.0292, grad_fn=<MseLossBackward>)\n",
      "tensor(29.0320, grad_fn=<MseLossBackward>)\n",
      "tensor(28.7439, grad_fn=<MseLossBackward>)\n",
      "tensor(28.5065, grad_fn=<MseLossBackward>)\n",
      "tensor(28.8029, grad_fn=<MseLossBackward>)\n",
      "tensor(29.0394, grad_fn=<MseLossBackward>)\n",
      "tensor(28.8319, grad_fn=<MseLossBackward>)\n",
      "tensor(28.4604, grad_fn=<MseLossBackward>)\n",
      "tensor(28.4515, grad_fn=<MseLossBackward>)\n",
      "tensor(28.5629, grad_fn=<MseLossBackward>)\n",
      "tensor(28.3995, grad_fn=<MseLossBackward>)\n",
      "tensor(28.2264, grad_fn=<MseLossBackward>)\n",
      "tensor(28.2946, grad_fn=<MseLossBackward>)\n",
      "tensor(28.3688, grad_fn=<MseLossBackward>)\n",
      "tensor(28.2971, grad_fn=<MseLossBackward>)\n",
      "tensor(28.1675, grad_fn=<MseLossBackward>)\n",
      "tensor(28.1599, grad_fn=<MseLossBackward>)\n",
      "tensor(28.1770, grad_fn=<MseLossBackward>)\n",
      "tensor(28.7303, grad_fn=<MseLossBackward>)\n",
      "tensor(31.0071, grad_fn=<MseLossBackward>)\n",
      "tensor(30.5001, grad_fn=<MseLossBackward>)\n",
      "tensor(29.8609, grad_fn=<MseLossBackward>)\n",
      "tensor(31.8971, grad_fn=<MseLossBackward>)\n",
      "tensor(31.0268, grad_fn=<MseLossBackward>)\n",
      "tensor(34.5408, grad_fn=<MseLossBackward>)\n",
      "tensor(29.9052, grad_fn=<MseLossBackward>)\n",
      "tensor(31.0070, grad_fn=<MseLossBackward>)\n",
      "tensor(30.3796, grad_fn=<MseLossBackward>)\n",
      "tensor(29.3254, grad_fn=<MseLossBackward>)\n",
      "tensor(31.0233, grad_fn=<MseLossBackward>)\n",
      "tensor(29.9768, grad_fn=<MseLossBackward>)\n",
      "tensor(28.9641, grad_fn=<MseLossBackward>)\n",
      "tensor(35.2472, grad_fn=<MseLossBackward>)\n",
      "tensor(30.8291, grad_fn=<MseLossBackward>)\n",
      "tensor(36.2278, grad_fn=<MseLossBackward>)\n",
      "tensor(34.0977, grad_fn=<MseLossBackward>)\n",
      "tensor(33.3359, grad_fn=<MseLossBackward>)\n",
      "tensor(34.7207, grad_fn=<MseLossBackward>)\n",
      "tensor(30.7310, grad_fn=<MseLossBackward>)\n",
      "tensor(29.0347, grad_fn=<MseLossBackward>)\n",
      "tensor(28.9863, grad_fn=<MseLossBackward>)\n",
      "tensor(30.9282, grad_fn=<MseLossBackward>)\n",
      "tensor(30.9707, grad_fn=<MseLossBackward>)\n",
      "tensor(29.7407, grad_fn=<MseLossBackward>)\n",
      "tensor(29.5816, grad_fn=<MseLossBackward>)\n",
      "tensor(28.7739, grad_fn=<MseLossBackward>)\n",
      "tensor(29.2919, grad_fn=<MseLossBackward>)\n",
      "tensor(29.7522, grad_fn=<MseLossBackward>)\n",
      "tensor(29.8485, grad_fn=<MseLossBackward>)\n",
      "tensor(29.5355, grad_fn=<MseLossBackward>)\n",
      "tensor(28.9466, grad_fn=<MseLossBackward>)\n",
      "tensor(28.7897, grad_fn=<MseLossBackward>)\n",
      "tensor(28.7105, grad_fn=<MseLossBackward>)\n",
      "tensor(28.9076, grad_fn=<MseLossBackward>)\n",
      "tensor(28.9930, grad_fn=<MseLossBackward>)\n",
      "tensor(28.7789, grad_fn=<MseLossBackward>)\n",
      "tensor(28.4448, grad_fn=<MseLossBackward>)\n",
      "tensor(28.5592, grad_fn=<MseLossBackward>)\n",
      "tensor(28.7068, grad_fn=<MseLossBackward>)\n",
      "tensor(28.6881, grad_fn=<MseLossBackward>)\n",
      "tensor(28.4933, grad_fn=<MseLossBackward>)\n",
      "tensor(28.3174, grad_fn=<MseLossBackward>)\n",
      "tensor(28.4256, grad_fn=<MseLossBackward>)\n",
      "tensor(28.4459, grad_fn=<MseLossBackward>)\n",
      "tensor(28.3398, grad_fn=<MseLossBackward>)\n",
      "tensor(28.2269, grad_fn=<MseLossBackward>)\n",
      "tensor(28.1257, grad_fn=<MseLossBackward>)\n",
      "tensor(28.1638, grad_fn=<MseLossBackward>)\n",
      "tensor(28.1849, grad_fn=<MseLossBackward>)\n",
      "tensor(28.0809, grad_fn=<MseLossBackward>)\n",
      "tensor(28.0161, grad_fn=<MseLossBackward>)\n",
      "tensor(28.0127, grad_fn=<MseLossBackward>)\n",
      "tensor(28.0548, grad_fn=<MseLossBackward>)\n",
      "tensor(28.0070, grad_fn=<MseLossBackward>)\n",
      "tensor(27.9408, grad_fn=<MseLossBackward>)\n",
      "tensor(27.9355, grad_fn=<MseLossBackward>)\n",
      "tensor(27.9615, grad_fn=<MseLossBackward>)\n",
      "tensor(27.9248, grad_fn=<MseLossBackward>)\n",
      "tensor(27.8751, grad_fn=<MseLossBackward>)\n",
      "tensor(27.8604, grad_fn=<MseLossBackward>)\n",
      "tensor(27.8586, grad_fn=<MseLossBackward>)\n",
      "tensor(27.8334, grad_fn=<MseLossBackward>)\n",
      "tensor(27.8043, grad_fn=<MseLossBackward>)\n",
      "tensor(27.8015, grad_fn=<MseLossBackward>)\n",
      "tensor(27.7756, grad_fn=<MseLossBackward>)\n",
      "tensor(27.7221, grad_fn=<MseLossBackward>)\n",
      "tensor(27.6986, grad_fn=<MseLossBackward>)\n",
      "tensor(27.6842, grad_fn=<MseLossBackward>)\n",
      "tensor(27.7718, grad_fn=<MseLossBackward>)\n",
      "tensor(28.0871, grad_fn=<MseLossBackward>)\n",
      "tensor(27.8753, grad_fn=<MseLossBackward>)\n",
      "tensor(27.8072, grad_fn=<MseLossBackward>)\n",
      "tensor(27.6445, grad_fn=<MseLossBackward>)\n",
      "tensor(27.8063, grad_fn=<MseLossBackward>)\n",
      "tensor(27.7526, grad_fn=<MseLossBackward>)\n",
      "tensor(27.7631, grad_fn=<MseLossBackward>)\n",
      "tensor(27.7292, grad_fn=<MseLossBackward>)\n",
      "tensor(27.6685, grad_fn=<MseLossBackward>)\n",
      "tensor(27.7430, grad_fn=<MseLossBackward>)\n",
      "tensor(27.7041, grad_fn=<MseLossBackward>)\n",
      "tensor(27.6109, grad_fn=<MseLossBackward>)\n",
      "tensor(27.6500, grad_fn=<MseLossBackward>)\n",
      "tensor(27.6435, grad_fn=<MseLossBackward>)\n",
      "tensor(27.5942, grad_fn=<MseLossBackward>)\n",
      "tensor(27.6213, grad_fn=<MseLossBackward>)\n",
      "tensor(27.6257, grad_fn=<MseLossBackward>)\n",
      "tensor(27.5672, grad_fn=<MseLossBackward>)\n",
      "tensor(27.5697, grad_fn=<MseLossBackward>)\n",
      "tensor(27.5740, grad_fn=<MseLossBackward>)\n",
      "tensor(27.5283, grad_fn=<MseLossBackward>)\n",
      "tensor(27.5367, grad_fn=<MseLossBackward>)\n",
      "tensor(27.5482, grad_fn=<MseLossBackward>)\n",
      "tensor(27.5186, grad_fn=<MseLossBackward>)\n",
      "tensor(27.5059, grad_fn=<MseLossBackward>)\n",
      "tensor(27.5152, grad_fn=<MseLossBackward>)\n",
      "tensor(27.4682, grad_fn=<MseLossBackward>)\n",
      "tensor(27.6513, grad_fn=<MseLossBackward>)\n",
      "tensor(27.4896, grad_fn=<MseLossBackward>)\n",
      "tensor(27.5683, grad_fn=<MseLossBackward>)\n",
      "tensor(27.4935, grad_fn=<MseLossBackward>)\n",
      "tensor(27.4643, grad_fn=<MseLossBackward>)\n",
      "tensor(27.4978, grad_fn=<MseLossBackward>)\n",
      "tensor(27.7230, grad_fn=<MseLossBackward>)\n",
      "tensor(27.7195, grad_fn=<MseLossBackward>)\n",
      "tensor(27.5558, grad_fn=<MseLossBackward>)\n",
      "tensor(27.5451, grad_fn=<MseLossBackward>)\n",
      "tensor(27.4490, grad_fn=<MseLossBackward>)\n",
      "tensor(27.4473, grad_fn=<MseLossBackward>)\n",
      "tensor(27.5031, grad_fn=<MseLossBackward>)\n",
      "tensor(27.3656, grad_fn=<MseLossBackward>)\n",
      "tensor(27.8839, grad_fn=<MseLossBackward>)\n",
      "tensor(27.6136, grad_fn=<MseLossBackward>)\n",
      "tensor(27.3307, grad_fn=<MseLossBackward>)\n",
      "tensor(28.5335, grad_fn=<MseLossBackward>)\n",
      "tensor(27.4844, grad_fn=<MseLossBackward>)\n",
      "tensor(27.6456, grad_fn=<MseLossBackward>)\n",
      "tensor(27.4164, grad_fn=<MseLossBackward>)\n",
      "tensor(27.3718, grad_fn=<MseLossBackward>)\n",
      "tensor(27.3544, grad_fn=<MseLossBackward>)\n",
      "tensor(27.4643, grad_fn=<MseLossBackward>)\n",
      "tensor(27.9729, grad_fn=<MseLossBackward>)\n",
      "tensor(27.6589, grad_fn=<MseLossBackward>)\n",
      "tensor(27.4528, grad_fn=<MseLossBackward>)\n",
      "tensor(27.7532, grad_fn=<MseLossBackward>)\n",
      "tensor(28.6380, grad_fn=<MseLossBackward>)\n",
      "tensor(28.2561, grad_fn=<MseLossBackward>)\n",
      "tensor(28.3619, grad_fn=<MseLossBackward>)\n",
      "tensor(27.7801, grad_fn=<MseLossBackward>)\n",
      "tensor(27.8793, grad_fn=<MseLossBackward>)\n",
      "tensor(28.1313, grad_fn=<MseLossBackward>)\n",
      "tensor(27.7006, grad_fn=<MseLossBackward>)\n",
      "tensor(27.4968, grad_fn=<MseLossBackward>)\n",
      "tensor(27.8268, grad_fn=<MseLossBackward>)\n",
      "tensor(27.6984, grad_fn=<MseLossBackward>)\n",
      "tensor(27.3998, grad_fn=<MseLossBackward>)\n",
      "tensor(27.4926, grad_fn=<MseLossBackward>)\n",
      "tensor(27.5985, grad_fn=<MseLossBackward>)\n",
      "tensor(27.4289, grad_fn=<MseLossBackward>)\n",
      "tensor(27.3194, grad_fn=<MseLossBackward>)\n",
      "tensor(27.4347, grad_fn=<MseLossBackward>)\n",
      "tensor(27.5585, grad_fn=<MseLossBackward>)\n",
      "tensor(27.3852, grad_fn=<MseLossBackward>)\n",
      "tensor(27.2901, grad_fn=<MseLossBackward>)\n",
      "tensor(27.2277, grad_fn=<MseLossBackward>)\n",
      "tensor(27.2043, grad_fn=<MseLossBackward>)\n",
      "tensor(27.1981, grad_fn=<MseLossBackward>)\n",
      "tensor(27.1982, grad_fn=<MseLossBackward>)\n",
      "tensor(27.2033, grad_fn=<MseLossBackward>)\n",
      "tensor(27.2316, grad_fn=<MseLossBackward>)\n",
      "tensor(27.3046, grad_fn=<MseLossBackward>)\n",
      "tensor(27.2960, grad_fn=<MseLossBackward>)\n",
      "tensor(27.3384, grad_fn=<MseLossBackward>)\n",
      "tensor(27.2328, grad_fn=<MseLossBackward>)\n",
      "tensor(27.2040, grad_fn=<MseLossBackward>)\n",
      "tensor(27.2893, grad_fn=<MseLossBackward>)\n",
      "tensor(27.3089, grad_fn=<MseLossBackward>)\n",
      "tensor(27.2292, grad_fn=<MseLossBackward>)\n",
      "tensor(27.1713, grad_fn=<MseLossBackward>)\n"
     ]
    },
    {
     "name": "stdout",
     "output_type": "stream",
     "text": [
      "tensor(27.1962, grad_fn=<MseLossBackward>)\n",
      "tensor(27.2349, grad_fn=<MseLossBackward>)\n",
      "tensor(27.2377, grad_fn=<MseLossBackward>)\n",
      "tensor(27.3171, grad_fn=<MseLossBackward>)\n",
      "tensor(27.3341, grad_fn=<MseLossBackward>)\n",
      "tensor(27.4480, grad_fn=<MseLossBackward>)\n",
      "tensor(27.3277, grad_fn=<MseLossBackward>)\n",
      "tensor(27.1942, grad_fn=<MseLossBackward>)\n",
      "tensor(27.1431, grad_fn=<MseLossBackward>)\n",
      "tensor(27.2301, grad_fn=<MseLossBackward>)\n",
      "tensor(27.2767, grad_fn=<MseLossBackward>)\n",
      "tensor(27.1882, grad_fn=<MseLossBackward>)\n",
      "tensor(27.1064, grad_fn=<MseLossBackward>)\n",
      "tensor(27.1209, grad_fn=<MseLossBackward>)\n",
      "tensor(27.1881, grad_fn=<MseLossBackward>)\n",
      "tensor(27.3141, grad_fn=<MseLossBackward>)\n",
      "tensor(27.5480, grad_fn=<MseLossBackward>)\n",
      "tensor(27.9923, grad_fn=<MseLossBackward>)\n",
      "tensor(28.4903, grad_fn=<MseLossBackward>)\n",
      "tensor(29.6594, grad_fn=<MseLossBackward>)\n",
      "tensor(27.1693, grad_fn=<MseLossBackward>)\n",
      "tensor(29.7954, grad_fn=<MseLossBackward>)\n",
      "tensor(30.7564, grad_fn=<MseLossBackward>)\n",
      "tensor(28.4884, grad_fn=<MseLossBackward>)\n",
      "tensor(30.6470, grad_fn=<MseLossBackward>)\n",
      "tensor(28.2943, grad_fn=<MseLossBackward>)\n",
      "tensor(30.0494, grad_fn=<MseLossBackward>)\n",
      "tensor(28.1209, grad_fn=<MseLossBackward>)\n",
      "tensor(30.2652, grad_fn=<MseLossBackward>)\n",
      "tensor(27.6276, grad_fn=<MseLossBackward>)\n",
      "tensor(29.3534, grad_fn=<MseLossBackward>)\n",
      "tensor(27.6016, grad_fn=<MseLossBackward>)\n",
      "tensor(29.2982, grad_fn=<MseLossBackward>)\n",
      "tensor(27.4689, grad_fn=<MseLossBackward>)\n",
      "tensor(28.5209, grad_fn=<MseLossBackward>)\n",
      "tensor(27.4645, grad_fn=<MseLossBackward>)\n",
      "tensor(28.3175, grad_fn=<MseLossBackward>)\n",
      "tensor(27.3494, grad_fn=<MseLossBackward>)\n",
      "tensor(27.8609, grad_fn=<MseLossBackward>)\n",
      "tensor(27.5627, grad_fn=<MseLossBackward>)\n",
      "tensor(27.3044, grad_fn=<MseLossBackward>)\n",
      "tensor(27.8767, grad_fn=<MseLossBackward>)\n",
      "tensor(27.3736, grad_fn=<MseLossBackward>)\n",
      "tensor(27.2841, grad_fn=<MseLossBackward>)\n",
      "tensor(27.6256, grad_fn=<MseLossBackward>)\n",
      "tensor(27.3296, grad_fn=<MseLossBackward>)\n",
      "tensor(27.3307, grad_fn=<MseLossBackward>)\n",
      "tensor(27.3361, grad_fn=<MseLossBackward>)\n",
      "tensor(27.1968, grad_fn=<MseLossBackward>)\n",
      "tensor(27.4084, grad_fn=<MseLossBackward>)\n",
      "tensor(27.1824, grad_fn=<MseLossBackward>)\n",
      "tensor(27.1395, grad_fn=<MseLossBackward>)\n",
      "tensor(27.3790, grad_fn=<MseLossBackward>)\n",
      "tensor(27.4583, grad_fn=<MseLossBackward>)\n",
      "tensor(27.1375, grad_fn=<MseLossBackward>)\n",
      "tensor(27.1371, grad_fn=<MseLossBackward>)\n",
      "tensor(27.2325, grad_fn=<MseLossBackward>)\n",
      "tensor(27.1160, grad_fn=<MseLossBackward>)\n",
      "tensor(27.0768, grad_fn=<MseLossBackward>)\n",
      "tensor(27.1499, grad_fn=<MseLossBackward>)\n",
      "tensor(27.0965, grad_fn=<MseLossBackward>)\n",
      "tensor(27.0572, grad_fn=<MseLossBackward>)\n",
      "tensor(27.0995, grad_fn=<MseLossBackward>)\n",
      "tensor(27.0729, grad_fn=<MseLossBackward>)\n",
      "tensor(27.0332, grad_fn=<MseLossBackward>)\n",
      "tensor(27.0601, grad_fn=<MseLossBackward>)\n",
      "tensor(27.0751, grad_fn=<MseLossBackward>)\n",
      "tensor(27.0317, grad_fn=<MseLossBackward>)\n",
      "tensor(27.0377, grad_fn=<MseLossBackward>)\n",
      "tensor(27.0210, grad_fn=<MseLossBackward>)\n",
      "tensor(27.0022, grad_fn=<MseLossBackward>)\n",
      "tensor(26.9934, grad_fn=<MseLossBackward>)\n",
      "tensor(26.9799, grad_fn=<MseLossBackward>)\n",
      "tensor(26.9927, grad_fn=<MseLossBackward>)\n",
      "tensor(27.0016, grad_fn=<MseLossBackward>)\n",
      "tensor(27.0219, grad_fn=<MseLossBackward>)\n",
      "tensor(27.0542, grad_fn=<MseLossBackward>)\n",
      "tensor(27.0200, grad_fn=<MseLossBackward>)\n",
      "tensor(26.9752, grad_fn=<MseLossBackward>)\n",
      "tensor(26.9633, grad_fn=<MseLossBackward>)\n",
      "tensor(27.0050, grad_fn=<MseLossBackward>)\n",
      "tensor(27.0688, grad_fn=<MseLossBackward>)\n",
      "tensor(27.0376, grad_fn=<MseLossBackward>)\n",
      "tensor(26.9707, grad_fn=<MseLossBackward>)\n",
      "tensor(26.9489, grad_fn=<MseLossBackward>)\n",
      "tensor(26.9649, grad_fn=<MseLossBackward>)\n",
      "tensor(26.9939, grad_fn=<MseLossBackward>)\n",
      "tensor(27.0244, grad_fn=<MseLossBackward>)\n",
      "tensor(27.0515, grad_fn=<MseLossBackward>)\n",
      "tensor(27.0570, grad_fn=<MseLossBackward>)\n",
      "tensor(27.0839, grad_fn=<MseLossBackward>)\n",
      "tensor(27.0334, grad_fn=<MseLossBackward>)\n",
      "tensor(26.9780, grad_fn=<MseLossBackward>)\n",
      "tensor(26.9288, grad_fn=<MseLossBackward>)\n",
      "tensor(26.9348, grad_fn=<MseLossBackward>)\n",
      "tensor(26.9759, grad_fn=<MseLossBackward>)\n",
      "tensor(26.9871, grad_fn=<MseLossBackward>)\n",
      "tensor(26.9628, grad_fn=<MseLossBackward>)\n",
      "tensor(26.9243, grad_fn=<MseLossBackward>)\n",
      "tensor(26.9057, grad_fn=<MseLossBackward>)\n",
      "tensor(26.9026, grad_fn=<MseLossBackward>)\n",
      "tensor(26.9068, grad_fn=<MseLossBackward>)\n",
      "tensor(26.9095, grad_fn=<MseLossBackward>)\n",
      "tensor(26.9101, grad_fn=<MseLossBackward>)\n",
      "tensor(26.9102, grad_fn=<MseLossBackward>)\n",
      "tensor(26.9075, grad_fn=<MseLossBackward>)\n",
      "tensor(26.9229, grad_fn=<MseLossBackward>)\n",
      "tensor(26.9514, grad_fn=<MseLossBackward>)\n",
      "tensor(27.0731, grad_fn=<MseLossBackward>)\n",
      "tensor(27.1493, grad_fn=<MseLossBackward>)\n",
      "tensor(27.3721, grad_fn=<MseLossBackward>)\n",
      "tensor(27.3023, grad_fn=<MseLossBackward>)\n",
      "tensor(537.2702, grad_fn=<MseLossBackward>)\n",
      "tensor(510.2050, grad_fn=<MseLossBackward>)\n",
      "tensor(482.8012, grad_fn=<MseLossBackward>)\n",
      "tensor(458.9145, grad_fn=<MseLossBackward>)\n",
      "tensor(436.8440, grad_fn=<MseLossBackward>)\n",
      "tensor(417.0316, grad_fn=<MseLossBackward>)\n",
      "tensor(399.1724, grad_fn=<MseLossBackward>)\n",
      "tensor(382.8716, grad_fn=<MseLossBackward>)\n",
      "tensor(368.2848, grad_fn=<MseLossBackward>)\n",
      "tensor(355.3785, grad_fn=<MseLossBackward>)\n",
      "tensor(344.1205, grad_fn=<MseLossBackward>)\n",
      "tensor(334.4347, grad_fn=<MseLossBackward>)\n",
      "tensor(326.1682, grad_fn=<MseLossBackward>)\n",
      "tensor(319.0143, grad_fn=<MseLossBackward>)\n",
      "tensor(313.0618, grad_fn=<MseLossBackward>)\n",
      "tensor(308.0188, grad_fn=<MseLossBackward>)\n",
      "tensor(303.6397, grad_fn=<MseLossBackward>)\n",
      "tensor(299.5584, grad_fn=<MseLossBackward>)\n",
      "tensor(295.6298, grad_fn=<MseLossBackward>)\n",
      "tensor(291.6880, grad_fn=<MseLossBackward>)\n",
      "tensor(287.6552, grad_fn=<MseLossBackward>)\n",
      "tensor(283.2724, grad_fn=<MseLossBackward>)\n",
      "tensor(278.4062, grad_fn=<MseLossBackward>)\n",
      "tensor(273.1289, grad_fn=<MseLossBackward>)\n",
      "tensor(267.4368, grad_fn=<MseLossBackward>)\n",
      "tensor(261.5626, grad_fn=<MseLossBackward>)\n",
      "tensor(255.6001, grad_fn=<MseLossBackward>)\n",
      "tensor(249.6333, grad_fn=<MseLossBackward>)\n",
      "tensor(243.7192, grad_fn=<MseLossBackward>)\n",
      "tensor(237.9967, grad_fn=<MseLossBackward>)\n",
      "tensor(232.4143, grad_fn=<MseLossBackward>)\n",
      "tensor(226.9361, grad_fn=<MseLossBackward>)\n",
      "tensor(221.5236, grad_fn=<MseLossBackward>)\n",
      "tensor(216.1619, grad_fn=<MseLossBackward>)\n",
      "tensor(210.8468, grad_fn=<MseLossBackward>)\n",
      "tensor(205.5542, grad_fn=<MseLossBackward>)\n",
      "tensor(200.2564, grad_fn=<MseLossBackward>)\n",
      "tensor(194.8889, grad_fn=<MseLossBackward>)\n",
      "tensor(189.4954, grad_fn=<MseLossBackward>)\n",
      "tensor(184.1076, grad_fn=<MseLossBackward>)\n",
      "tensor(178.6986, grad_fn=<MseLossBackward>)\n",
      "tensor(173.2630, grad_fn=<MseLossBackward>)\n",
      "tensor(167.8484, grad_fn=<MseLossBackward>)\n",
      "tensor(162.4214, grad_fn=<MseLossBackward>)\n",
      "tensor(157.0046, grad_fn=<MseLossBackward>)\n",
      "tensor(151.6611, grad_fn=<MseLossBackward>)\n",
      "tensor(146.4181, grad_fn=<MseLossBackward>)\n",
      "tensor(141.2517, grad_fn=<MseLossBackward>)\n",
      "tensor(136.1787, grad_fn=<MseLossBackward>)\n",
      "tensor(131.1829, grad_fn=<MseLossBackward>)\n",
      "tensor(126.2852, grad_fn=<MseLossBackward>)\n",
      "tensor(121.4862, grad_fn=<MseLossBackward>)\n",
      "tensor(116.8361, grad_fn=<MseLossBackward>)\n",
      "tensor(112.3652, grad_fn=<MseLossBackward>)\n",
      "tensor(108.0153, grad_fn=<MseLossBackward>)\n",
      "tensor(103.8223, grad_fn=<MseLossBackward>)\n",
      "tensor(99.8657, grad_fn=<MseLossBackward>)\n",
      "tensor(96.1386, grad_fn=<MseLossBackward>)\n",
      "tensor(92.6247, grad_fn=<MseLossBackward>)\n",
      "tensor(89.3111, grad_fn=<MseLossBackward>)\n",
      "tensor(86.1898, grad_fn=<MseLossBackward>)\n",
      "tensor(83.2965, grad_fn=<MseLossBackward>)\n",
      "tensor(80.6559, grad_fn=<MseLossBackward>)\n",
      "tensor(78.2842, grad_fn=<MseLossBackward>)\n",
      "tensor(76.1116, grad_fn=<MseLossBackward>)\n",
      "tensor(74.1233, grad_fn=<MseLossBackward>)\n",
      "tensor(72.3461, grad_fn=<MseLossBackward>)\n",
      "tensor(70.7631, grad_fn=<MseLossBackward>)\n",
      "tensor(69.4731, grad_fn=<MseLossBackward>)\n",
      "tensor(68.4044, grad_fn=<MseLossBackward>)\n",
      "tensor(67.4796, grad_fn=<MseLossBackward>)\n",
      "tensor(66.6647, grad_fn=<MseLossBackward>)\n",
      "tensor(65.9760, grad_fn=<MseLossBackward>)\n",
      "tensor(65.3945, grad_fn=<MseLossBackward>)\n",
      "tensor(64.9147, grad_fn=<MseLossBackward>)\n",
      "tensor(64.5047, grad_fn=<MseLossBackward>)\n",
      "tensor(64.4679, grad_fn=<MseLossBackward>)\n",
      "tensor(64.4745, grad_fn=<MseLossBackward>)\n"
     ]
    },
    {
     "name": "stdout",
     "output_type": "stream",
     "text": [
      "tensor(64.5079, grad_fn=<MseLossBackward>)\n",
      "tensor(64.5666, grad_fn=<MseLossBackward>)\n",
      "tensor(64.6401, grad_fn=<MseLossBackward>)\n",
      "tensor(64.7079, grad_fn=<MseLossBackward>)\n",
      "tensor(64.7464, grad_fn=<MseLossBackward>)\n",
      "tensor(64.7523, grad_fn=<MseLossBackward>)\n",
      "tensor(64.7151, grad_fn=<MseLossBackward>)\n",
      "tensor(64.6530, grad_fn=<MseLossBackward>)\n",
      "tensor(64.6182, grad_fn=<MseLossBackward>)\n",
      "tensor(64.5442, grad_fn=<MseLossBackward>)\n",
      "tensor(64.4522, grad_fn=<MseLossBackward>)\n",
      "tensor(64.3515, grad_fn=<MseLossBackward>)\n",
      "tensor(64.2543, grad_fn=<MseLossBackward>)\n",
      "tensor(64.1592, grad_fn=<MseLossBackward>)\n",
      "tensor(64.0538, grad_fn=<MseLossBackward>)\n",
      "tensor(63.9748, grad_fn=<MseLossBackward>)\n",
      "tensor(63.9199, grad_fn=<MseLossBackward>)\n",
      "tensor(63.8545, grad_fn=<MseLossBackward>)\n",
      "tensor(63.8088, grad_fn=<MseLossBackward>)\n",
      "tensor(63.7790, grad_fn=<MseLossBackward>)\n",
      "tensor(63.7516, grad_fn=<MseLossBackward>)\n",
      "tensor(63.7220, grad_fn=<MseLossBackward>)\n",
      "tensor(63.7072, grad_fn=<MseLossBackward>)\n",
      "tensor(63.6994, grad_fn=<MseLossBackward>)\n",
      "tensor(63.6821, grad_fn=<MseLossBackward>)\n",
      "tensor(63.6734, grad_fn=<MseLossBackward>)\n",
      "tensor(63.6672, grad_fn=<MseLossBackward>)\n",
      "tensor(63.6582, grad_fn=<MseLossBackward>)\n",
      "tensor(63.6407, grad_fn=<MseLossBackward>)\n",
      "tensor(63.6267, grad_fn=<MseLossBackward>)\n",
      "tensor(63.6084, grad_fn=<MseLossBackward>)\n",
      "tensor(63.5917, grad_fn=<MseLossBackward>)\n",
      "tensor(63.5781, grad_fn=<MseLossBackward>)\n",
      "tensor(63.5587, grad_fn=<MseLossBackward>)\n",
      "tensor(63.5447, grad_fn=<MseLossBackward>)\n",
      "tensor(63.5256, grad_fn=<MseLossBackward>)\n",
      "tensor(63.5043, grad_fn=<MseLossBackward>)\n",
      "tensor(63.4848, grad_fn=<MseLossBackward>)\n",
      "tensor(63.4670, grad_fn=<MseLossBackward>)\n",
      "tensor(63.4448, grad_fn=<MseLossBackward>)\n",
      "tensor(63.4267, grad_fn=<MseLossBackward>)\n",
      "tensor(63.4106, grad_fn=<MseLossBackward>)\n",
      "tensor(63.3999, grad_fn=<MseLossBackward>)\n",
      "tensor(63.3841, grad_fn=<MseLossBackward>)\n",
      "tensor(63.3759, grad_fn=<MseLossBackward>)\n",
      "tensor(63.3628, grad_fn=<MseLossBackward>)\n",
      "tensor(63.3473, grad_fn=<MseLossBackward>)\n",
      "tensor(63.3358, grad_fn=<MseLossBackward>)\n",
      "tensor(63.3261, grad_fn=<MseLossBackward>)\n",
      "tensor(63.3167, grad_fn=<MseLossBackward>)\n",
      "tensor(63.3063, grad_fn=<MseLossBackward>)\n",
      "tensor(63.2944, grad_fn=<MseLossBackward>)\n",
      "tensor(63.2820, grad_fn=<MseLossBackward>)\n",
      "tensor(63.2640, grad_fn=<MseLossBackward>)\n",
      "tensor(63.2556, grad_fn=<MseLossBackward>)\n",
      "tensor(63.2474, grad_fn=<MseLossBackward>)\n",
      "tensor(63.2338, grad_fn=<MseLossBackward>)\n",
      "tensor(63.2239, grad_fn=<MseLossBackward>)\n",
      "tensor(63.2127, grad_fn=<MseLossBackward>)\n",
      "tensor(63.2037, grad_fn=<MseLossBackward>)\n",
      "tensor(63.1885, grad_fn=<MseLossBackward>)\n",
      "tensor(63.1860, grad_fn=<MseLossBackward>)\n",
      "tensor(63.1736, grad_fn=<MseLossBackward>)\n",
      "tensor(63.1640, grad_fn=<MseLossBackward>)\n",
      "tensor(63.1526, grad_fn=<MseLossBackward>)\n",
      "tensor(63.1400, grad_fn=<MseLossBackward>)\n",
      "tensor(63.1383, grad_fn=<MseLossBackward>)\n",
      "tensor(63.1280, grad_fn=<MseLossBackward>)\n",
      "tensor(63.1206, grad_fn=<MseLossBackward>)\n",
      "tensor(63.1179, grad_fn=<MseLossBackward>)\n",
      "tensor(63.1062, grad_fn=<MseLossBackward>)\n",
      "tensor(63.0935, grad_fn=<MseLossBackward>)\n",
      "tensor(63.0874, grad_fn=<MseLossBackward>)\n",
      "tensor(63.0760, grad_fn=<MseLossBackward>)\n",
      "tensor(63.0706, grad_fn=<MseLossBackward>)\n",
      "tensor(63.0619, grad_fn=<MseLossBackward>)\n",
      "tensor(63.0524, grad_fn=<MseLossBackward>)\n",
      "tensor(63.0429, grad_fn=<MseLossBackward>)\n",
      "tensor(63.0412, grad_fn=<MseLossBackward>)\n",
      "tensor(63.0272, grad_fn=<MseLossBackward>)\n",
      "tensor(63.0181, grad_fn=<MseLossBackward>)\n",
      "tensor(63.0106, grad_fn=<MseLossBackward>)\n",
      "tensor(63.0024, grad_fn=<MseLossBackward>)\n",
      "tensor(62.9932, grad_fn=<MseLossBackward>)\n",
      "tensor(62.9887, grad_fn=<MseLossBackward>)\n",
      "tensor(62.9775, grad_fn=<MseLossBackward>)\n",
      "tensor(62.9687, grad_fn=<MseLossBackward>)\n",
      "tensor(62.9588, grad_fn=<MseLossBackward>)\n",
      "tensor(62.9478, grad_fn=<MseLossBackward>)\n",
      "tensor(62.9421, grad_fn=<MseLossBackward>)\n",
      "tensor(62.9367, grad_fn=<MseLossBackward>)\n",
      "tensor(62.9258, grad_fn=<MseLossBackward>)\n",
      "tensor(62.9148, grad_fn=<MseLossBackward>)\n",
      "tensor(62.9054, grad_fn=<MseLossBackward>)\n",
      "tensor(62.9007, grad_fn=<MseLossBackward>)\n",
      "tensor(62.8915, grad_fn=<MseLossBackward>)\n",
      "tensor(62.8845, grad_fn=<MseLossBackward>)\n",
      "tensor(62.8789, grad_fn=<MseLossBackward>)\n",
      "tensor(62.8707, grad_fn=<MseLossBackward>)\n",
      "tensor(62.8640, grad_fn=<MseLossBackward>)\n",
      "tensor(62.8603, grad_fn=<MseLossBackward>)\n",
      "tensor(62.8478, grad_fn=<MseLossBackward>)\n",
      "tensor(62.8394, grad_fn=<MseLossBackward>)\n",
      "tensor(62.8360, grad_fn=<MseLossBackward>)\n",
      "tensor(62.8297, grad_fn=<MseLossBackward>)\n",
      "tensor(62.8234, grad_fn=<MseLossBackward>)\n",
      "tensor(62.8203, grad_fn=<MseLossBackward>)\n",
      "tensor(62.8122, grad_fn=<MseLossBackward>)\n",
      "tensor(62.8082, grad_fn=<MseLossBackward>)\n",
      "tensor(62.7943, grad_fn=<MseLossBackward>)\n",
      "tensor(62.7881, grad_fn=<MseLossBackward>)\n",
      "tensor(62.7875, grad_fn=<MseLossBackward>)\n",
      "tensor(62.7772, grad_fn=<MseLossBackward>)\n",
      "tensor(62.7713, grad_fn=<MseLossBackward>)\n",
      "tensor(62.7690, grad_fn=<MseLossBackward>)\n",
      "tensor(62.7612, grad_fn=<MseLossBackward>)\n",
      "tensor(62.7570, grad_fn=<MseLossBackward>)\n",
      "tensor(62.7477, grad_fn=<MseLossBackward>)\n",
      "tensor(62.7401, grad_fn=<MseLossBackward>)\n",
      "tensor(62.7398, grad_fn=<MseLossBackward>)\n",
      "tensor(62.7264, grad_fn=<MseLossBackward>)\n",
      "tensor(62.7222, grad_fn=<MseLossBackward>)\n",
      "tensor(62.7173, grad_fn=<MseLossBackward>)\n",
      "tensor(62.7172, grad_fn=<MseLossBackward>)\n",
      "tensor(62.7019, grad_fn=<MseLossBackward>)\n",
      "tensor(62.6941, grad_fn=<MseLossBackward>)\n",
      "tensor(62.6931, grad_fn=<MseLossBackward>)\n",
      "tensor(62.6792, grad_fn=<MseLossBackward>)\n",
      "tensor(62.6739, grad_fn=<MseLossBackward>)\n",
      "tensor(62.6729, grad_fn=<MseLossBackward>)\n",
      "tensor(62.6606, grad_fn=<MseLossBackward>)\n",
      "tensor(62.6530, grad_fn=<MseLossBackward>)\n",
      "tensor(62.6502, grad_fn=<MseLossBackward>)\n",
      "tensor(62.6469, grad_fn=<MseLossBackward>)\n",
      "tensor(62.6374, grad_fn=<MseLossBackward>)\n",
      "tensor(62.6352, grad_fn=<MseLossBackward>)\n",
      "tensor(62.6319, grad_fn=<MseLossBackward>)\n",
      "tensor(62.6267, grad_fn=<MseLossBackward>)\n",
      "tensor(62.6175, grad_fn=<MseLossBackward>)\n",
      "tensor(62.6078, grad_fn=<MseLossBackward>)\n",
      "tensor(62.6013, grad_fn=<MseLossBackward>)\n",
      "tensor(62.5948, grad_fn=<MseLossBackward>)\n",
      "tensor(62.5883, grad_fn=<MseLossBackward>)\n",
      "tensor(62.5840, grad_fn=<MseLossBackward>)\n",
      "tensor(62.5801, grad_fn=<MseLossBackward>)\n",
      "tensor(62.5720, grad_fn=<MseLossBackward>)\n",
      "tensor(62.5649, grad_fn=<MseLossBackward>)\n",
      "tensor(62.5624, grad_fn=<MseLossBackward>)\n",
      "tensor(62.5593, grad_fn=<MseLossBackward>)\n",
      "tensor(62.5529, grad_fn=<MseLossBackward>)\n",
      "tensor(62.5492, grad_fn=<MseLossBackward>)\n",
      "tensor(62.5418, grad_fn=<MseLossBackward>)\n",
      "tensor(62.5356, grad_fn=<MseLossBackward>)\n",
      "tensor(62.5379, grad_fn=<MseLossBackward>)\n",
      "tensor(62.5224, grad_fn=<MseLossBackward>)\n",
      "tensor(62.5200, grad_fn=<MseLossBackward>)\n",
      "tensor(62.5163, grad_fn=<MseLossBackward>)\n",
      "tensor(62.5085, grad_fn=<MseLossBackward>)\n",
      "tensor(62.5041, grad_fn=<MseLossBackward>)\n",
      "tensor(62.4942, grad_fn=<MseLossBackward>)\n",
      "tensor(62.4874, grad_fn=<MseLossBackward>)\n",
      "tensor(62.4862, grad_fn=<MseLossBackward>)\n",
      "tensor(62.4811, grad_fn=<MseLossBackward>)\n",
      "tensor(62.4789, grad_fn=<MseLossBackward>)\n",
      "tensor(62.4740, grad_fn=<MseLossBackward>)\n",
      "tensor(62.4649, grad_fn=<MseLossBackward>)\n",
      "tensor(62.4537, grad_fn=<MseLossBackward>)\n",
      "tensor(62.4460, grad_fn=<MseLossBackward>)\n",
      "tensor(62.4405, grad_fn=<MseLossBackward>)\n",
      "tensor(62.4366, grad_fn=<MseLossBackward>)\n",
      "tensor(62.4279, grad_fn=<MseLossBackward>)\n",
      "tensor(62.4224, grad_fn=<MseLossBackward>)\n",
      "tensor(62.4173, grad_fn=<MseLossBackward>)\n",
      "tensor(62.4078, grad_fn=<MseLossBackward>)\n",
      "tensor(62.4005, grad_fn=<MseLossBackward>)\n",
      "tensor(62.3939, grad_fn=<MseLossBackward>)\n",
      "tensor(62.3880, grad_fn=<MseLossBackward>)\n",
      "tensor(62.3802, grad_fn=<MseLossBackward>)\n",
      "tensor(62.3679, grad_fn=<MseLossBackward>)\n",
      "tensor(62.3648, grad_fn=<MseLossBackward>)\n",
      "tensor(62.3598, grad_fn=<MseLossBackward>)\n",
      "tensor(62.3517, grad_fn=<MseLossBackward>)\n",
      "tensor(62.3428, grad_fn=<MseLossBackward>)\n",
      "tensor(62.3347, grad_fn=<MseLossBackward>)\n",
      "tensor(62.3340, grad_fn=<MseLossBackward>)\n",
      "tensor(62.3216, grad_fn=<MseLossBackward>)\n",
      "tensor(62.3215, grad_fn=<MseLossBackward>)\n",
      "tensor(62.3146, grad_fn=<MseLossBackward>)\n",
      "tensor(62.3098, grad_fn=<MseLossBackward>)\n",
      "tensor(62.3035, grad_fn=<MseLossBackward>)\n",
      "tensor(62.2922, grad_fn=<MseLossBackward>)\n",
      "tensor(62.2873, grad_fn=<MseLossBackward>)\n",
      "tensor(62.2797, grad_fn=<MseLossBackward>)\n",
      "tensor(62.2761, grad_fn=<MseLossBackward>)\n",
      "tensor(62.2747, grad_fn=<MseLossBackward>)\n",
      "tensor(62.2653, grad_fn=<MseLossBackward>)\n"
     ]
    },
    {
     "name": "stdout",
     "output_type": "stream",
     "text": [
      "tensor(62.2593, grad_fn=<MseLossBackward>)\n",
      "tensor(62.2553, grad_fn=<MseLossBackward>)\n",
      "tensor(62.2500, grad_fn=<MseLossBackward>)\n",
      "tensor(62.2487, grad_fn=<MseLossBackward>)\n",
      "tensor(62.2421, grad_fn=<MseLossBackward>)\n",
      "tensor(62.2390, grad_fn=<MseLossBackward>)\n",
      "tensor(62.2350, grad_fn=<MseLossBackward>)\n",
      "tensor(62.2284, grad_fn=<MseLossBackward>)\n",
      "tensor(62.2218, grad_fn=<MseLossBackward>)\n",
      "tensor(62.2167, grad_fn=<MseLossBackward>)\n",
      "tensor(62.2142, grad_fn=<MseLossBackward>)\n",
      "tensor(62.2124, grad_fn=<MseLossBackward>)\n",
      "tensor(62.2049, grad_fn=<MseLossBackward>)\n",
      "tensor(62.2042, grad_fn=<MseLossBackward>)\n",
      "tensor(62.2018, grad_fn=<MseLossBackward>)\n",
      "tensor(62.1959, grad_fn=<MseLossBackward>)\n",
      "tensor(62.1890, grad_fn=<MseLossBackward>)\n",
      "tensor(62.1835, grad_fn=<MseLossBackward>)\n",
      "tensor(62.1799, grad_fn=<MseLossBackward>)\n",
      "tensor(62.1805, grad_fn=<MseLossBackward>)\n",
      "tensor(62.1772, grad_fn=<MseLossBackward>)\n",
      "tensor(62.1695, grad_fn=<MseLossBackward>)\n",
      "tensor(62.1689, grad_fn=<MseLossBackward>)\n",
      "tensor(62.1684, grad_fn=<MseLossBackward>)\n",
      "tensor(62.1652, grad_fn=<MseLossBackward>)\n",
      "tensor(62.1607, grad_fn=<MseLossBackward>)\n",
      "tensor(62.1552, grad_fn=<MseLossBackward>)\n",
      "tensor(62.1500, grad_fn=<MseLossBackward>)\n",
      "tensor(62.1453, grad_fn=<MseLossBackward>)\n",
      "tensor(62.1478, grad_fn=<MseLossBackward>)\n",
      "tensor(62.1406, grad_fn=<MseLossBackward>)\n",
      "tensor(62.1371, grad_fn=<MseLossBackward>)\n",
      "tensor(62.1369, grad_fn=<MseLossBackward>)\n",
      "tensor(62.1328, grad_fn=<MseLossBackward>)\n",
      "tensor(62.1303, grad_fn=<MseLossBackward>)\n",
      "tensor(62.1259, grad_fn=<MseLossBackward>)\n",
      "tensor(62.1239, grad_fn=<MseLossBackward>)\n",
      "tensor(62.1208, grad_fn=<MseLossBackward>)\n",
      "tensor(62.1167, grad_fn=<MseLossBackward>)\n",
      "tensor(62.1152, grad_fn=<MseLossBackward>)\n",
      "tensor(62.1117, grad_fn=<MseLossBackward>)\n",
      "tensor(62.1095, grad_fn=<MseLossBackward>)\n",
      "tensor(62.1059, grad_fn=<MseLossBackward>)\n",
      "tensor(62.1040, grad_fn=<MseLossBackward>)\n",
      "tensor(62.1006, grad_fn=<MseLossBackward>)\n",
      "tensor(62.0980, grad_fn=<MseLossBackward>)\n",
      "tensor(62.0949, grad_fn=<MseLossBackward>)\n",
      "tensor(62.0926, grad_fn=<MseLossBackward>)\n",
      "tensor(62.0898, grad_fn=<MseLossBackward>)\n",
      "tensor(62.0873, grad_fn=<MseLossBackward>)\n",
      "tensor(62.0850, grad_fn=<MseLossBackward>)\n",
      "tensor(62.0822, grad_fn=<MseLossBackward>)\n",
      "tensor(62.0799, grad_fn=<MseLossBackward>)\n",
      "tensor(62.0790, grad_fn=<MseLossBackward>)\n",
      "tensor(62.0667, grad_fn=<MseLossBackward>)\n",
      "tensor(62.0657, grad_fn=<MseLossBackward>)\n",
      "tensor(62.0625, grad_fn=<MseLossBackward>)\n",
      "tensor(62.0618, grad_fn=<MseLossBackward>)\n",
      "tensor(62.0584, grad_fn=<MseLossBackward>)\n",
      "tensor(62.0572, grad_fn=<MseLossBackward>)\n",
      "tensor(62.0529, grad_fn=<MseLossBackward>)\n",
      "tensor(62.0494, grad_fn=<MseLossBackward>)\n",
      "tensor(62.0493, grad_fn=<MseLossBackward>)\n",
      "tensor(62.0463, grad_fn=<MseLossBackward>)\n",
      "tensor(62.0431, grad_fn=<MseLossBackward>)\n",
      "tensor(62.0382, grad_fn=<MseLossBackward>)\n",
      "tensor(62.0341, grad_fn=<MseLossBackward>)\n",
      "tensor(62.0324, grad_fn=<MseLossBackward>)\n",
      "tensor(62.0311, grad_fn=<MseLossBackward>)\n",
      "tensor(62.0302, grad_fn=<MseLossBackward>)\n",
      "tensor(62.0271, grad_fn=<MseLossBackward>)\n",
      "tensor(62.0235, grad_fn=<MseLossBackward>)\n",
      "tensor(62.0201, grad_fn=<MseLossBackward>)\n",
      "tensor(62.0174, grad_fn=<MseLossBackward>)\n",
      "tensor(62.0157, grad_fn=<MseLossBackward>)\n",
      "tensor(62.0154, grad_fn=<MseLossBackward>)\n",
      "tensor(62.0108, grad_fn=<MseLossBackward>)\n",
      "tensor(62.0087, grad_fn=<MseLossBackward>)\n",
      "tensor(62.0054, grad_fn=<MseLossBackward>)\n",
      "tensor(62.0046, grad_fn=<MseLossBackward>)\n",
      "tensor(62.0033, grad_fn=<MseLossBackward>)\n",
      "tensor(62.0004, grad_fn=<MseLossBackward>)\n",
      "tensor(61.9976, grad_fn=<MseLossBackward>)\n",
      "tensor(61.9959, grad_fn=<MseLossBackward>)\n",
      "tensor(61.9933, grad_fn=<MseLossBackward>)\n",
      "tensor(61.9905, grad_fn=<MseLossBackward>)\n",
      "tensor(61.9888, grad_fn=<MseLossBackward>)\n",
      "tensor(61.9865, grad_fn=<MseLossBackward>)\n",
      "tensor(61.9854, grad_fn=<MseLossBackward>)\n",
      "tensor(61.9824, grad_fn=<MseLossBackward>)\n",
      "tensor(61.9802, grad_fn=<MseLossBackward>)\n",
      "tensor(61.9782, grad_fn=<MseLossBackward>)\n",
      "tensor(61.9760, grad_fn=<MseLossBackward>)\n",
      "tensor(61.9731, grad_fn=<MseLossBackward>)\n",
      "tensor(61.9731, grad_fn=<MseLossBackward>)\n",
      "tensor(61.9694, grad_fn=<MseLossBackward>)\n",
      "tensor(61.9670, grad_fn=<MseLossBackward>)\n",
      "tensor(61.9646, grad_fn=<MseLossBackward>)\n",
      "tensor(61.9637, grad_fn=<MseLossBackward>)\n",
      "tensor(61.9614, grad_fn=<MseLossBackward>)\n",
      "tensor(61.9590, grad_fn=<MseLossBackward>)\n",
      "tensor(61.9562, grad_fn=<MseLossBackward>)\n",
      "tensor(61.9549, grad_fn=<MseLossBackward>)\n",
      "tensor(61.9536, grad_fn=<MseLossBackward>)\n",
      "tensor(61.9509, grad_fn=<MseLossBackward>)\n",
      "tensor(61.9488, grad_fn=<MseLossBackward>)\n",
      "tensor(61.9475, grad_fn=<MseLossBackward>)\n",
      "tensor(61.9448, grad_fn=<MseLossBackward>)\n",
      "tensor(61.9419, grad_fn=<MseLossBackward>)\n",
      "tensor(61.9427, grad_fn=<MseLossBackward>)\n",
      "tensor(61.9397, grad_fn=<MseLossBackward>)\n",
      "tensor(61.9366, grad_fn=<MseLossBackward>)\n",
      "tensor(61.9375, grad_fn=<MseLossBackward>)\n",
      "tensor(61.9326, grad_fn=<MseLossBackward>)\n",
      "tensor(61.9332, grad_fn=<MseLossBackward>)\n",
      "tensor(61.9312, grad_fn=<MseLossBackward>)\n",
      "tensor(61.9270, grad_fn=<MseLossBackward>)\n",
      "tensor(61.9280, grad_fn=<MseLossBackward>)\n",
      "tensor(61.9224, grad_fn=<MseLossBackward>)\n",
      "tensor(61.9210, grad_fn=<MseLossBackward>)\n",
      "tensor(61.9203, grad_fn=<MseLossBackward>)\n",
      "tensor(61.9171, grad_fn=<MseLossBackward>)\n",
      "tensor(61.9157, grad_fn=<MseLossBackward>)\n",
      "tensor(61.9120, grad_fn=<MseLossBackward>)\n",
      "tensor(61.9122, grad_fn=<MseLossBackward>)\n",
      "tensor(61.9099, grad_fn=<MseLossBackward>)\n",
      "tensor(61.9073, grad_fn=<MseLossBackward>)\n",
      "tensor(61.9067, grad_fn=<MseLossBackward>)\n",
      "tensor(61.9031, grad_fn=<MseLossBackward>)\n",
      "tensor(61.9023, grad_fn=<MseLossBackward>)\n",
      "tensor(61.9004, grad_fn=<MseLossBackward>)\n",
      "tensor(61.8965, grad_fn=<MseLossBackward>)\n",
      "tensor(61.8989, grad_fn=<MseLossBackward>)\n",
      "tensor(61.8926, grad_fn=<MseLossBackward>)\n",
      "tensor(61.8949, grad_fn=<MseLossBackward>)\n",
      "tensor(61.8905, grad_fn=<MseLossBackward>)\n",
      "tensor(61.8894, grad_fn=<MseLossBackward>)\n",
      "tensor(61.8879, grad_fn=<MseLossBackward>)\n",
      "tensor(61.8828, grad_fn=<MseLossBackward>)\n",
      "tensor(61.8818, grad_fn=<MseLossBackward>)\n",
      "tensor(61.8803, grad_fn=<MseLossBackward>)\n",
      "tensor(61.8770, grad_fn=<MseLossBackward>)\n",
      "tensor(61.8754, grad_fn=<MseLossBackward>)\n",
      "tensor(61.8735, grad_fn=<MseLossBackward>)\n",
      "tensor(61.8719, grad_fn=<MseLossBackward>)\n",
      "tensor(61.8700, grad_fn=<MseLossBackward>)\n",
      "tensor(61.8681, grad_fn=<MseLossBackward>)\n",
      "tensor(61.8663, grad_fn=<MseLossBackward>)\n",
      "tensor(61.8645, grad_fn=<MseLossBackward>)\n",
      "tensor(61.8624, grad_fn=<MseLossBackward>)\n",
      "tensor(61.8599, grad_fn=<MseLossBackward>)\n",
      "tensor(61.8601, grad_fn=<MseLossBackward>)\n",
      "tensor(61.8574, grad_fn=<MseLossBackward>)\n",
      "tensor(61.8548, grad_fn=<MseLossBackward>)\n",
      "tensor(61.8554, grad_fn=<MseLossBackward>)\n",
      "tensor(61.8507, grad_fn=<MseLossBackward>)\n",
      "tensor(61.8497, grad_fn=<MseLossBackward>)\n",
      "tensor(61.8482, grad_fn=<MseLossBackward>)\n",
      "tensor(61.8447, grad_fn=<MseLossBackward>)\n",
      "tensor(61.8434, grad_fn=<MseLossBackward>)\n",
      "tensor(61.8423, grad_fn=<MseLossBackward>)\n",
      "tensor(61.8389, grad_fn=<MseLossBackward>)\n",
      "tensor(61.8368, grad_fn=<MseLossBackward>)\n",
      "tensor(61.8355, grad_fn=<MseLossBackward>)\n",
      "tensor(61.8337, grad_fn=<MseLossBackward>)\n",
      "tensor(61.8315, grad_fn=<MseLossBackward>)\n",
      "tensor(61.8309, grad_fn=<MseLossBackward>)\n",
      "tensor(61.8291, grad_fn=<MseLossBackward>)\n",
      "tensor(61.8260, grad_fn=<MseLossBackward>)\n",
      "tensor(61.8272, grad_fn=<MseLossBackward>)\n",
      "tensor(61.8229, grad_fn=<MseLossBackward>)\n",
      "tensor(61.8219, grad_fn=<MseLossBackward>)\n",
      "tensor(61.8219, grad_fn=<MseLossBackward>)\n",
      "tensor(61.8168, grad_fn=<MseLossBackward>)\n",
      "tensor(61.8198, grad_fn=<MseLossBackward>)\n",
      "tensor(61.8093, grad_fn=<MseLossBackward>)\n",
      "tensor(61.8068, grad_fn=<MseLossBackward>)\n",
      "tensor(61.8031, grad_fn=<MseLossBackward>)\n",
      "tensor(61.8015, grad_fn=<MseLossBackward>)\n",
      "tensor(61.8013, grad_fn=<MseLossBackward>)\n",
      "tensor(61.7982, grad_fn=<MseLossBackward>)\n",
      "tensor(61.7948, grad_fn=<MseLossBackward>)\n",
      "tensor(61.7919, grad_fn=<MseLossBackward>)\n",
      "tensor(61.7904, grad_fn=<MseLossBackward>)\n",
      "tensor(61.7898, grad_fn=<MseLossBackward>)\n",
      "tensor(61.7883, grad_fn=<MseLossBackward>)\n",
      "tensor(61.7862, grad_fn=<MseLossBackward>)\n",
      "tensor(61.7837, grad_fn=<MseLossBackward>)\n",
      "tensor(61.7815, grad_fn=<MseLossBackward>)\n",
      "tensor(61.7796, grad_fn=<MseLossBackward>)\n",
      "tensor(61.7767, grad_fn=<MseLossBackward>)\n",
      "tensor(61.7722, grad_fn=<MseLossBackward>)\n"
     ]
    },
    {
     "name": "stdout",
     "output_type": "stream",
     "text": [
      "tensor(61.7700, grad_fn=<MseLossBackward>)\n",
      "tensor(61.7686, grad_fn=<MseLossBackward>)\n",
      "tensor(61.7666, grad_fn=<MseLossBackward>)\n",
      "tensor(61.7641, grad_fn=<MseLossBackward>)\n",
      "tensor(61.7629, grad_fn=<MseLossBackward>)\n",
      "tensor(61.7609, grad_fn=<MseLossBackward>)\n",
      "tensor(61.7588, grad_fn=<MseLossBackward>)\n",
      "tensor(61.7568, grad_fn=<MseLossBackward>)\n",
      "tensor(61.7548, grad_fn=<MseLossBackward>)\n",
      "tensor(61.7525, grad_fn=<MseLossBackward>)\n",
      "tensor(61.7510, grad_fn=<MseLossBackward>)\n",
      "tensor(61.7505, grad_fn=<MseLossBackward>)\n",
      "tensor(61.7474, grad_fn=<MseLossBackward>)\n",
      "tensor(61.7469, grad_fn=<MseLossBackward>)\n",
      "tensor(61.7441, grad_fn=<MseLossBackward>)\n",
      "tensor(61.7424, grad_fn=<MseLossBackward>)\n",
      "tensor(61.7403, grad_fn=<MseLossBackward>)\n",
      "tensor(61.7382, grad_fn=<MseLossBackward>)\n",
      "tensor(61.7364, grad_fn=<MseLossBackward>)\n",
      "tensor(61.7341, grad_fn=<MseLossBackward>)\n",
      "tensor(61.7330, grad_fn=<MseLossBackward>)\n",
      "tensor(61.7308, grad_fn=<MseLossBackward>)\n",
      "tensor(61.7293, grad_fn=<MseLossBackward>)\n",
      "tensor(61.7267, grad_fn=<MseLossBackward>)\n",
      "tensor(61.7251, grad_fn=<MseLossBackward>)\n",
      "tensor(61.7233, grad_fn=<MseLossBackward>)\n",
      "tensor(61.7214, grad_fn=<MseLossBackward>)\n",
      "tensor(61.7190, grad_fn=<MseLossBackward>)\n",
      "tensor(61.7175, grad_fn=<MseLossBackward>)\n",
      "tensor(61.7156, grad_fn=<MseLossBackward>)\n",
      "tensor(61.7139, grad_fn=<MseLossBackward>)\n",
      "tensor(61.7118, grad_fn=<MseLossBackward>)\n",
      "tensor(61.7104, grad_fn=<MseLossBackward>)\n",
      "tensor(61.7083, grad_fn=<MseLossBackward>)\n",
      "tensor(233.5365, grad_fn=<MseLossBackward>)\n",
      "tensor(378.0770, grad_fn=<MseLossBackward>)\n",
      "tensor(359.4520, grad_fn=<MseLossBackward>)\n",
      "tensor(298.5457, grad_fn=<MseLossBackward>)\n",
      "tensor(240.0606, grad_fn=<MseLossBackward>)\n",
      "tensor(195.5108, grad_fn=<MseLossBackward>)\n",
      "tensor(167.6290, grad_fn=<MseLossBackward>)\n",
      "tensor(154.9823, grad_fn=<MseLossBackward>)\n",
      "tensor(150.5639, grad_fn=<MseLossBackward>)\n",
      "tensor(147.1603, grad_fn=<MseLossBackward>)\n",
      "tensor(141.3808, grad_fn=<MseLossBackward>)\n",
      "tensor(139.0517, grad_fn=<MseLossBackward>)\n",
      "tensor(133.7172, grad_fn=<MseLossBackward>)\n",
      "tensor(126.8792, grad_fn=<MseLossBackward>)\n",
      "tensor(121.1677, grad_fn=<MseLossBackward>)\n",
      "tensor(116.2024, grad_fn=<MseLossBackward>)\n",
      "tensor(112.5782, grad_fn=<MseLossBackward>)\n",
      "tensor(109.7089, grad_fn=<MseLossBackward>)\n",
      "tensor(107.7587, grad_fn=<MseLossBackward>)\n",
      "tensor(106.4205, grad_fn=<MseLossBackward>)\n",
      "tensor(105.3842, grad_fn=<MseLossBackward>)\n",
      "tensor(104.3138, grad_fn=<MseLossBackward>)\n",
      "tensor(102.9954, grad_fn=<MseLossBackward>)\n",
      "tensor(101.2122, grad_fn=<MseLossBackward>)\n",
      "tensor(99.4798, grad_fn=<MseLossBackward>)\n",
      "tensor(97.8078, grad_fn=<MseLossBackward>)\n",
      "tensor(96.2870, grad_fn=<MseLossBackward>)\n",
      "tensor(95.2363, grad_fn=<MseLossBackward>)\n",
      "tensor(95.5289, grad_fn=<MseLossBackward>)\n",
      "tensor(93.8230, grad_fn=<MseLossBackward>)\n",
      "tensor(93.0586, grad_fn=<MseLossBackward>)\n",
      "tensor(92.2032, grad_fn=<MseLossBackward>)\n",
      "tensor(91.1859, grad_fn=<MseLossBackward>)\n",
      "tensor(90.1224, grad_fn=<MseLossBackward>)\n",
      "tensor(88.9266, grad_fn=<MseLossBackward>)\n",
      "tensor(87.7134, grad_fn=<MseLossBackward>)\n",
      "tensor(86.4718, grad_fn=<MseLossBackward>)\n",
      "tensor(85.2282, grad_fn=<MseLossBackward>)\n",
      "tensor(84.0433, grad_fn=<MseLossBackward>)\n",
      "tensor(82.8760, grad_fn=<MseLossBackward>)\n",
      "tensor(81.7095, grad_fn=<MseLossBackward>)\n",
      "tensor(80.5280, grad_fn=<MseLossBackward>)\n",
      "tensor(79.3517, grad_fn=<MseLossBackward>)\n",
      "tensor(78.1786, grad_fn=<MseLossBackward>)\n",
      "tensor(77.0057, grad_fn=<MseLossBackward>)\n",
      "tensor(75.8223, grad_fn=<MseLossBackward>)\n",
      "tensor(74.6401, grad_fn=<MseLossBackward>)\n",
      "tensor(73.5831, grad_fn=<MseLossBackward>)\n",
      "tensor(72.6739, grad_fn=<MseLossBackward>)\n",
      "tensor(71.7431, grad_fn=<MseLossBackward>)\n",
      "tensor(71.0087, grad_fn=<MseLossBackward>)\n",
      "tensor(69.5144, grad_fn=<MseLossBackward>)\n",
      "tensor(68.7061, grad_fn=<MseLossBackward>)\n",
      "tensor(68.0613, grad_fn=<MseLossBackward>)\n",
      "tensor(67.3792, grad_fn=<MseLossBackward>)\n",
      "tensor(66.6223, grad_fn=<MseLossBackward>)\n",
      "tensor(65.8387, grad_fn=<MseLossBackward>)\n",
      "tensor(65.0667, grad_fn=<MseLossBackward>)\n",
      "tensor(64.3194, grad_fn=<MseLossBackward>)\n",
      "tensor(63.5897, grad_fn=<MseLossBackward>)\n",
      "tensor(62.7891, grad_fn=<MseLossBackward>)\n",
      "tensor(61.9968, grad_fn=<MseLossBackward>)\n",
      "tensor(61.2341, grad_fn=<MseLossBackward>)\n",
      "tensor(60.5911, grad_fn=<MseLossBackward>)\n",
      "tensor(60.1107, grad_fn=<MseLossBackward>)\n",
      "tensor(59.6170, grad_fn=<MseLossBackward>)\n",
      "tensor(59.1035, grad_fn=<MseLossBackward>)\n",
      "tensor(58.5875, grad_fn=<MseLossBackward>)\n",
      "tensor(58.1970, grad_fn=<MseLossBackward>)\n",
      "tensor(57.7682, grad_fn=<MseLossBackward>)\n",
      "tensor(57.2896, grad_fn=<MseLossBackward>)\n",
      "tensor(56.8001, grad_fn=<MseLossBackward>)\n",
      "tensor(56.3420, grad_fn=<MseLossBackward>)\n",
      "tensor(55.9334, grad_fn=<MseLossBackward>)\n",
      "tensor(55.5044, grad_fn=<MseLossBackward>)\n",
      "tensor(55.0995, grad_fn=<MseLossBackward>)\n",
      "tensor(54.6332, grad_fn=<MseLossBackward>)\n",
      "tensor(54.2095, grad_fn=<MseLossBackward>)\n",
      "tensor(53.7949, grad_fn=<MseLossBackward>)\n",
      "tensor(53.4116, grad_fn=<MseLossBackward>)\n",
      "tensor(53.0242, grad_fn=<MseLossBackward>)\n",
      "tensor(52.6600, grad_fn=<MseLossBackward>)\n",
      "tensor(52.3312, grad_fn=<MseLossBackward>)\n",
      "tensor(52.1436, grad_fn=<MseLossBackward>)\n",
      "tensor(51.7244, grad_fn=<MseLossBackward>)\n",
      "tensor(51.4619, grad_fn=<MseLossBackward>)\n",
      "tensor(51.2027, grad_fn=<MseLossBackward>)\n",
      "tensor(50.9296, grad_fn=<MseLossBackward>)\n",
      "tensor(51.5962, grad_fn=<MseLossBackward>)\n",
      "tensor(50.4346, grad_fn=<MseLossBackward>)\n",
      "tensor(50.2151, grad_fn=<MseLossBackward>)\n",
      "tensor(49.9620, grad_fn=<MseLossBackward>)\n",
      "tensor(50.2208, grad_fn=<MseLossBackward>)\n",
      "tensor(49.8460, grad_fn=<MseLossBackward>)\n",
      "tensor(49.9699, grad_fn=<MseLossBackward>)\n",
      "tensor(49.8694, grad_fn=<MseLossBackward>)\n",
      "tensor(49.5910, grad_fn=<MseLossBackward>)\n",
      "tensor(49.3595, grad_fn=<MseLossBackward>)\n",
      "tensor(49.2495, grad_fn=<MseLossBackward>)\n",
      "tensor(49.1213, grad_fn=<MseLossBackward>)\n",
      "tensor(49.2011, grad_fn=<MseLossBackward>)\n",
      "tensor(48.6867, grad_fn=<MseLossBackward>)\n",
      "tensor(48.7393, grad_fn=<MseLossBackward>)\n",
      "tensor(48.7436, grad_fn=<MseLossBackward>)\n",
      "tensor(48.6803, grad_fn=<MseLossBackward>)\n",
      "tensor(48.5389, grad_fn=<MseLossBackward>)\n",
      "tensor(48.3749, grad_fn=<MseLossBackward>)\n",
      "tensor(48.2333, grad_fn=<MseLossBackward>)\n",
      "tensor(48.5578, grad_fn=<MseLossBackward>)\n",
      "tensor(48.1532, grad_fn=<MseLossBackward>)\n",
      "tensor(48.3158, grad_fn=<MseLossBackward>)\n",
      "tensor(48.3859, grad_fn=<MseLossBackward>)\n",
      "tensor(48.3032, grad_fn=<MseLossBackward>)\n",
      "tensor(48.1433, grad_fn=<MseLossBackward>)\n",
      "tensor(48.0056, grad_fn=<MseLossBackward>)\n",
      "tensor(47.8731, grad_fn=<MseLossBackward>)\n",
      "tensor(47.9012, grad_fn=<MseLossBackward>)\n",
      "tensor(47.6169, grad_fn=<MseLossBackward>)\n",
      "tensor(47.6103, grad_fn=<MseLossBackward>)\n",
      "tensor(47.6152, grad_fn=<MseLossBackward>)\n",
      "tensor(47.5238, grad_fn=<MseLossBackward>)\n",
      "tensor(48.2834, grad_fn=<MseLossBackward>)\n",
      "tensor(47.6232, grad_fn=<MseLossBackward>)\n",
      "tensor(47.8942, grad_fn=<MseLossBackward>)\n",
      "tensor(47.8728, grad_fn=<MseLossBackward>)\n",
      "tensor(47.6507, grad_fn=<MseLossBackward>)\n",
      "tensor(47.4791, grad_fn=<MseLossBackward>)\n",
      "tensor(47.4261, grad_fn=<MseLossBackward>)\n",
      "tensor(47.3378, grad_fn=<MseLossBackward>)\n",
      "tensor(48.1001, grad_fn=<MseLossBackward>)\n",
      "tensor(46.9223, grad_fn=<MseLossBackward>)\n",
      "tensor(47.3469, grad_fn=<MseLossBackward>)\n",
      "tensor(49.7438, grad_fn=<MseLossBackward>)\n",
      "tensor(49.1311, grad_fn=<MseLossBackward>)\n",
      "tensor(49.2321, grad_fn=<MseLossBackward>)\n",
      "tensor(48.6598, grad_fn=<MseLossBackward>)\n",
      "tensor(47.9174, grad_fn=<MseLossBackward>)\n",
      "tensor(47.3777, grad_fn=<MseLossBackward>)\n",
      "tensor(48.4594, grad_fn=<MseLossBackward>)\n",
      "tensor(47.3065, grad_fn=<MseLossBackward>)\n",
      "tensor(47.4425, grad_fn=<MseLossBackward>)\n",
      "tensor(47.5998, grad_fn=<MseLossBackward>)\n",
      "tensor(47.7037, grad_fn=<MseLossBackward>)\n",
      "tensor(47.7189, grad_fn=<MseLossBackward>)\n",
      "tensor(47.6436, grad_fn=<MseLossBackward>)\n",
      "tensor(47.5076, grad_fn=<MseLossBackward>)\n",
      "tensor(47.3555, grad_fn=<MseLossBackward>)\n",
      "tensor(47.2273, grad_fn=<MseLossBackward>)\n",
      "tensor(47.5325, grad_fn=<MseLossBackward>)\n",
      "tensor(47.1701, grad_fn=<MseLossBackward>)\n",
      "tensor(47.2575, grad_fn=<MseLossBackward>)\n",
      "tensor(47.3090, grad_fn=<MseLossBackward>)\n",
      "tensor(47.3131, grad_fn=<MseLossBackward>)\n",
      "tensor(47.2668, grad_fn=<MseLossBackward>)\n",
      "tensor(47.1918, grad_fn=<MseLossBackward>)\n",
      "tensor(47.1303, grad_fn=<MseLossBackward>)\n",
      "tensor(47.1972, grad_fn=<MseLossBackward>)\n"
     ]
    },
    {
     "name": "stdout",
     "output_type": "stream",
     "text": [
      "tensor(47.1369, grad_fn=<MseLossBackward>)\n",
      "tensor(47.1702, grad_fn=<MseLossBackward>)\n",
      "tensor(47.1862, grad_fn=<MseLossBackward>)\n",
      "tensor(47.1791, grad_fn=<MseLossBackward>)\n",
      "tensor(47.1527, grad_fn=<MseLossBackward>)\n",
      "tensor(47.1170, grad_fn=<MseLossBackward>)\n",
      "tensor(47.1459, grad_fn=<MseLossBackward>)\n",
      "tensor(47.0913, grad_fn=<MseLossBackward>)\n",
      "tensor(47.0999, grad_fn=<MseLossBackward>)\n",
      "tensor(47.1080, grad_fn=<MseLossBackward>)\n",
      "tensor(47.1035, grad_fn=<MseLossBackward>)\n",
      "tensor(47.0871, grad_fn=<MseLossBackward>)\n",
      "tensor(47.0714, grad_fn=<MseLossBackward>)\n",
      "tensor(47.0736, grad_fn=<MseLossBackward>)\n",
      "tensor(47.0698, grad_fn=<MseLossBackward>)\n",
      "tensor(47.0516, grad_fn=<MseLossBackward>)\n",
      "tensor(47.0607, grad_fn=<MseLossBackward>)\n",
      "tensor(47.0387, grad_fn=<MseLossBackward>)\n",
      "tensor(47.0445, grad_fn=<MseLossBackward>)\n",
      "tensor(47.0336, grad_fn=<MseLossBackward>)\n",
      "tensor(47.0260, grad_fn=<MseLossBackward>)\n",
      "tensor(47.0284, grad_fn=<MseLossBackward>)\n",
      "tensor(47.0134, grad_fn=<MseLossBackward>)\n",
      "tensor(47.0164, grad_fn=<MseLossBackward>)\n",
      "tensor(47.0082, grad_fn=<MseLossBackward>)\n",
      "tensor(47.0041, grad_fn=<MseLossBackward>)\n",
      "tensor(47.0033, grad_fn=<MseLossBackward>)\n",
      "tensor(46.9837, grad_fn=<MseLossBackward>)\n",
      "tensor(46.9655, grad_fn=<MseLossBackward>)\n",
      "tensor(46.9210, grad_fn=<MseLossBackward>)\n",
      "tensor(46.7662, grad_fn=<MseLossBackward>)\n",
      "tensor(52.0054, grad_fn=<MseLossBackward>)\n",
      "tensor(47.7714, grad_fn=<MseLossBackward>)\n",
      "tensor(48.7974, grad_fn=<MseLossBackward>)\n",
      "tensor(49.2105, grad_fn=<MseLossBackward>)\n",
      "tensor(49.1959, grad_fn=<MseLossBackward>)\n",
      "tensor(48.9424, grad_fn=<MseLossBackward>)\n",
      "tensor(48.6590, grad_fn=<MseLossBackward>)\n",
      "tensor(48.4553, grad_fn=<MseLossBackward>)\n",
      "tensor(48.3220, grad_fn=<MseLossBackward>)\n",
      "tensor(48.1547, grad_fn=<MseLossBackward>)\n",
      "tensor(47.9291, grad_fn=<MseLossBackward>)\n",
      "tensor(47.6906, grad_fn=<MseLossBackward>)\n",
      "tensor(47.4682, grad_fn=<MseLossBackward>)\n",
      "tensor(48.0704, grad_fn=<MseLossBackward>)\n",
      "tensor(47.1818, grad_fn=<MseLossBackward>)\n",
      "tensor(47.3959, grad_fn=<MseLossBackward>)\n",
      "tensor(47.7396, grad_fn=<MseLossBackward>)\n",
      "tensor(47.9612, grad_fn=<MseLossBackward>)\n",
      "tensor(47.9317, grad_fn=<MseLossBackward>)\n",
      "tensor(47.6927, grad_fn=<MseLossBackward>)\n",
      "tensor(47.4180, grad_fn=<MseLossBackward>)\n",
      "tensor(47.2271, grad_fn=<MseLossBackward>)\n",
      "tensor(47.1465, grad_fn=<MseLossBackward>)\n",
      "tensor(47.2162, grad_fn=<MseLossBackward>)\n",
      "tensor(47.3753, grad_fn=<MseLossBackward>)\n",
      "tensor(47.3463, grad_fn=<MseLossBackward>)\n",
      "tensor(47.2977, grad_fn=<MseLossBackward>)\n",
      "tensor(47.2284, grad_fn=<MseLossBackward>)\n",
      "tensor(47.1782, grad_fn=<MseLossBackward>)\n",
      "tensor(47.1635, grad_fn=<MseLossBackward>)\n",
      "tensor(47.1728, grad_fn=<MseLossBackward>)\n",
      "tensor(47.1822, grad_fn=<MseLossBackward>)\n",
      "tensor(47.1705, grad_fn=<MseLossBackward>)\n",
      "tensor(47.1327, grad_fn=<MseLossBackward>)\n",
      "tensor(47.0934, grad_fn=<MseLossBackward>)\n",
      "tensor(47.0713, grad_fn=<MseLossBackward>)\n",
      "tensor(47.2978, grad_fn=<MseLossBackward>)\n",
      "tensor(47.0444, grad_fn=<MseLossBackward>)\n",
      "tensor(47.0567, grad_fn=<MseLossBackward>)\n",
      "tensor(47.0845, grad_fn=<MseLossBackward>)\n",
      "tensor(47.1111, grad_fn=<MseLossBackward>)\n",
      "tensor(47.1251, grad_fn=<MseLossBackward>)\n",
      "tensor(47.1236, grad_fn=<MseLossBackward>)\n",
      "tensor(47.1085, grad_fn=<MseLossBackward>)\n",
      "tensor(47.0876, grad_fn=<MseLossBackward>)\n",
      "tensor(47.0659, grad_fn=<MseLossBackward>)\n",
      "tensor(47.0557, grad_fn=<MseLossBackward>)\n",
      "tensor(47.0437, grad_fn=<MseLossBackward>)\n",
      "tensor(47.0286, grad_fn=<MseLossBackward>)\n",
      "tensor(47.0226, grad_fn=<MseLossBackward>)\n",
      "tensor(47.0346, grad_fn=<MseLossBackward>)\n",
      "tensor(47.0191, grad_fn=<MseLossBackward>)\n",
      "tensor(47.0305, grad_fn=<MseLossBackward>)\n",
      "tensor(47.0238, grad_fn=<MseLossBackward>)\n",
      "tensor(47.0246, grad_fn=<MseLossBackward>)\n",
      "tensor(47.0242, grad_fn=<MseLossBackward>)\n",
      "tensor(47.0136, grad_fn=<MseLossBackward>)\n",
      "tensor(47.0161, grad_fn=<MseLossBackward>)\n",
      "tensor(47.0059, grad_fn=<MseLossBackward>)\n",
      "tensor(47.0061, grad_fn=<MseLossBackward>)\n",
      "tensor(47.0066, grad_fn=<MseLossBackward>)\n",
      "tensor(47.0028, grad_fn=<MseLossBackward>)\n",
      "tensor(47.0061, grad_fn=<MseLossBackward>)\n",
      "tensor(47.0028, grad_fn=<MseLossBackward>)\n",
      "tensor(47.0025, grad_fn=<MseLossBackward>)\n",
      "tensor(47.0034, grad_fn=<MseLossBackward>)\n",
      "tensor(46.9974, grad_fn=<MseLossBackward>)\n",
      "tensor(46.9997, grad_fn=<MseLossBackward>)\n",
      "tensor(46.9972, grad_fn=<MseLossBackward>)\n",
      "tensor(46.9944, grad_fn=<MseLossBackward>)\n",
      "tensor(46.9969, grad_fn=<MseLossBackward>)\n",
      "tensor(46.9932, grad_fn=<MseLossBackward>)\n",
      "tensor(46.9930, grad_fn=<MseLossBackward>)\n",
      "tensor(46.9926, grad_fn=<MseLossBackward>)\n",
      "tensor(46.9891, grad_fn=<MseLossBackward>)\n",
      "tensor(46.9899, grad_fn=<MseLossBackward>)\n",
      "tensor(46.9865, grad_fn=<MseLossBackward>)\n",
      "tensor(46.9863, grad_fn=<MseLossBackward>)\n",
      "tensor(46.9846, grad_fn=<MseLossBackward>)\n",
      "tensor(46.9831, grad_fn=<MseLossBackward>)\n",
      "tensor(46.9836, grad_fn=<MseLossBackward>)\n",
      "tensor(46.9818, grad_fn=<MseLossBackward>)\n",
      "tensor(46.9820, grad_fn=<MseLossBackward>)\n",
      "tensor(46.9805, grad_fn=<MseLossBackward>)\n",
      "tensor(46.9793, grad_fn=<MseLossBackward>)\n",
      "tensor(46.9788, grad_fn=<MseLossBackward>)\n",
      "tensor(46.9772, grad_fn=<MseLossBackward>)\n",
      "tensor(46.9765, grad_fn=<MseLossBackward>)\n",
      "tensor(46.9757, grad_fn=<MseLossBackward>)\n",
      "tensor(46.9750, grad_fn=<MseLossBackward>)\n",
      "tensor(46.9750, grad_fn=<MseLossBackward>)\n",
      "tensor(46.9740, grad_fn=<MseLossBackward>)\n",
      "tensor(46.9736, grad_fn=<MseLossBackward>)\n",
      "tensor(46.9723, grad_fn=<MseLossBackward>)\n",
      "tensor(46.9711, grad_fn=<MseLossBackward>)\n",
      "tensor(46.9698, grad_fn=<MseLossBackward>)\n",
      "tensor(46.9692, grad_fn=<MseLossBackward>)\n",
      "tensor(46.9690, grad_fn=<MseLossBackward>)\n",
      "tensor(46.9688, grad_fn=<MseLossBackward>)\n",
      "tensor(46.9689, grad_fn=<MseLossBackward>)\n",
      "tensor(46.9686, grad_fn=<MseLossBackward>)\n",
      "tensor(46.9680, grad_fn=<MseLossBackward>)\n",
      "tensor(46.9676, grad_fn=<MseLossBackward>)\n",
      "tensor(46.9672, grad_fn=<MseLossBackward>)\n",
      "tensor(46.9667, grad_fn=<MseLossBackward>)\n",
      "tensor(46.9663, grad_fn=<MseLossBackward>)\n",
      "tensor(46.9659, grad_fn=<MseLossBackward>)\n",
      "tensor(46.9658, grad_fn=<MseLossBackward>)\n",
      "tensor(46.9652, grad_fn=<MseLossBackward>)\n",
      "tensor(46.9647, grad_fn=<MseLossBackward>)\n",
      "tensor(46.9644, grad_fn=<MseLossBackward>)\n",
      "tensor(46.9637, grad_fn=<MseLossBackward>)\n",
      "tensor(46.9635, grad_fn=<MseLossBackward>)\n",
      "tensor(46.9631, grad_fn=<MseLossBackward>)\n",
      "tensor(46.9623, grad_fn=<MseLossBackward>)\n",
      "tensor(46.9616, grad_fn=<MseLossBackward>)\n",
      "tensor(46.9613, grad_fn=<MseLossBackward>)\n",
      "tensor(46.9611, grad_fn=<MseLossBackward>)\n",
      "tensor(46.9605, grad_fn=<MseLossBackward>)\n",
      "tensor(46.9600, grad_fn=<MseLossBackward>)\n",
      "tensor(46.9593, grad_fn=<MseLossBackward>)\n",
      "tensor(46.9589, grad_fn=<MseLossBackward>)\n",
      "tensor(46.9588, grad_fn=<MseLossBackward>)\n",
      "tensor(46.9582, grad_fn=<MseLossBackward>)\n",
      "tensor(46.9574, grad_fn=<MseLossBackward>)\n",
      "tensor(46.9572, grad_fn=<MseLossBackward>)\n",
      "tensor(46.9565, grad_fn=<MseLossBackward>)\n",
      "tensor(46.9558, grad_fn=<MseLossBackward>)\n",
      "tensor(46.9559, grad_fn=<MseLossBackward>)\n",
      "tensor(46.9554, grad_fn=<MseLossBackward>)\n",
      "tensor(46.9544, grad_fn=<MseLossBackward>)\n",
      "tensor(46.9541, grad_fn=<MseLossBackward>)\n",
      "tensor(46.9537, grad_fn=<MseLossBackward>)\n",
      "tensor(46.9530, grad_fn=<MseLossBackward>)\n",
      "tensor(46.9523, grad_fn=<MseLossBackward>)\n",
      "tensor(46.9515, grad_fn=<MseLossBackward>)\n",
      "tensor(46.9537, grad_fn=<MseLossBackward>)\n",
      "tensor(46.9534, grad_fn=<MseLossBackward>)\n",
      "tensor(46.9531, grad_fn=<MseLossBackward>)\n",
      "tensor(46.9527, grad_fn=<MseLossBackward>)\n",
      "tensor(46.9528, grad_fn=<MseLossBackward>)\n",
      "tensor(46.9525, grad_fn=<MseLossBackward>)\n",
      "tensor(46.9520, grad_fn=<MseLossBackward>)\n",
      "tensor(46.9503, grad_fn=<MseLossBackward>)\n",
      "tensor(46.9503, grad_fn=<MseLossBackward>)\n",
      "tensor(46.9500, grad_fn=<MseLossBackward>)\n",
      "tensor(46.9487, grad_fn=<MseLossBackward>)\n",
      "tensor(46.9480, grad_fn=<MseLossBackward>)\n",
      "tensor(46.9468, grad_fn=<MseLossBackward>)\n",
      "tensor(46.9455, grad_fn=<MseLossBackward>)\n",
      "tensor(46.9448, grad_fn=<MseLossBackward>)\n",
      "tensor(46.9438, grad_fn=<MseLossBackward>)\n",
      "tensor(46.9433, grad_fn=<MseLossBackward>)\n",
      "tensor(46.9429, grad_fn=<MseLossBackward>)\n",
      "tensor(46.9422, grad_fn=<MseLossBackward>)\n",
      "tensor(46.9413, grad_fn=<MseLossBackward>)\n",
      "tensor(46.9401, grad_fn=<MseLossBackward>)\n",
      "tensor(46.9388, grad_fn=<MseLossBackward>)\n",
      "tensor(46.9385, grad_fn=<MseLossBackward>)\n",
      "tensor(46.9376, grad_fn=<MseLossBackward>)\n",
      "tensor(46.9367, grad_fn=<MseLossBackward>)\n"
     ]
    },
    {
     "name": "stdout",
     "output_type": "stream",
     "text": [
      "tensor(46.9359, grad_fn=<MseLossBackward>)\n",
      "tensor(46.9351, grad_fn=<MseLossBackward>)\n",
      "tensor(46.9346, grad_fn=<MseLossBackward>)\n",
      "tensor(46.9336, grad_fn=<MseLossBackward>)\n",
      "tensor(46.9328, grad_fn=<MseLossBackward>)\n",
      "tensor(46.9322, grad_fn=<MseLossBackward>)\n",
      "tensor(46.9315, grad_fn=<MseLossBackward>)\n",
      "tensor(46.9310, grad_fn=<MseLossBackward>)\n",
      "tensor(46.9301, grad_fn=<MseLossBackward>)\n",
      "tensor(46.9292, grad_fn=<MseLossBackward>)\n",
      "tensor(46.9286, grad_fn=<MseLossBackward>)\n",
      "tensor(46.9280, grad_fn=<MseLossBackward>)\n",
      "tensor(46.9275, grad_fn=<MseLossBackward>)\n",
      "tensor(46.9265, grad_fn=<MseLossBackward>)\n",
      "tensor(46.9260, grad_fn=<MseLossBackward>)\n",
      "tensor(46.9253, grad_fn=<MseLossBackward>)\n",
      "tensor(46.9240, grad_fn=<MseLossBackward>)\n",
      "tensor(46.9234, grad_fn=<MseLossBackward>)\n",
      "tensor(46.9229, grad_fn=<MseLossBackward>)\n",
      "tensor(46.9226, grad_fn=<MseLossBackward>)\n",
      "tensor(46.9217, grad_fn=<MseLossBackward>)\n",
      "tensor(46.9211, grad_fn=<MseLossBackward>)\n",
      "tensor(46.9204, grad_fn=<MseLossBackward>)\n",
      "tensor(46.9195, grad_fn=<MseLossBackward>)\n",
      "tensor(46.9189, grad_fn=<MseLossBackward>)\n",
      "tensor(46.9178, grad_fn=<MseLossBackward>)\n",
      "tensor(46.9168, grad_fn=<MseLossBackward>)\n",
      "tensor(46.9158, grad_fn=<MseLossBackward>)\n",
      "tensor(46.9151, grad_fn=<MseLossBackward>)\n",
      "tensor(46.9145, grad_fn=<MseLossBackward>)\n",
      "tensor(46.9137, grad_fn=<MseLossBackward>)\n",
      "tensor(46.9131, grad_fn=<MseLossBackward>)\n",
      "tensor(46.9127, grad_fn=<MseLossBackward>)\n",
      "tensor(46.9118, grad_fn=<MseLossBackward>)\n",
      "tensor(46.9112, grad_fn=<MseLossBackward>)\n",
      "tensor(46.9102, grad_fn=<MseLossBackward>)\n",
      "tensor(46.9091, grad_fn=<MseLossBackward>)\n",
      "tensor(46.9089, grad_fn=<MseLossBackward>)\n",
      "tensor(46.9081, grad_fn=<MseLossBackward>)\n",
      "tensor(46.9069, grad_fn=<MseLossBackward>)\n",
      "tensor(46.9065, grad_fn=<MseLossBackward>)\n",
      "tensor(46.9060, grad_fn=<MseLossBackward>)\n",
      "tensor(46.9052, grad_fn=<MseLossBackward>)\n",
      "tensor(46.9046, grad_fn=<MseLossBackward>)\n",
      "tensor(46.9036, grad_fn=<MseLossBackward>)\n",
      "tensor(46.9029, grad_fn=<MseLossBackward>)\n",
      "tensor(46.9025, grad_fn=<MseLossBackward>)\n",
      "tensor(46.9021, grad_fn=<MseLossBackward>)\n",
      "tensor(46.9017, grad_fn=<MseLossBackward>)\n",
      "tensor(46.9013, grad_fn=<MseLossBackward>)\n",
      "tensor(46.9006, grad_fn=<MseLossBackward>)\n",
      "tensor(46.8996, grad_fn=<MseLossBackward>)\n",
      "tensor(46.8993, grad_fn=<MseLossBackward>)\n",
      "tensor(46.8991, grad_fn=<MseLossBackward>)\n",
      "tensor(46.8984, grad_fn=<MseLossBackward>)\n",
      "tensor(46.8984, grad_fn=<MseLossBackward>)\n",
      "tensor(46.8986, grad_fn=<MseLossBackward>)\n",
      "tensor(46.8981, grad_fn=<MseLossBackward>)\n",
      "tensor(46.8977, grad_fn=<MseLossBackward>)\n",
      "tensor(46.8974, grad_fn=<MseLossBackward>)\n",
      "tensor(46.8973, grad_fn=<MseLossBackward>)\n",
      "tensor(46.8966, grad_fn=<MseLossBackward>)\n",
      "tensor(46.8963, grad_fn=<MseLossBackward>)\n",
      "tensor(46.8966, grad_fn=<MseLossBackward>)\n",
      "tensor(46.8965, grad_fn=<MseLossBackward>)\n",
      "tensor(46.8962, grad_fn=<MseLossBackward>)\n",
      "tensor(46.8960, grad_fn=<MseLossBackward>)\n",
      "tensor(46.8957, grad_fn=<MseLossBackward>)\n",
      "tensor(46.8958, grad_fn=<MseLossBackward>)\n",
      "tensor(46.8951, grad_fn=<MseLossBackward>)\n",
      "tensor(46.8955, grad_fn=<MseLossBackward>)\n",
      "tensor(46.8953, grad_fn=<MseLossBackward>)\n",
      "tensor(46.8944, grad_fn=<MseLossBackward>)\n",
      "tensor(46.8933, grad_fn=<MseLossBackward>)\n",
      "tensor(46.8929, grad_fn=<MseLossBackward>)\n",
      "tensor(46.8960, grad_fn=<MseLossBackward>)\n",
      "tensor(46.8948, grad_fn=<MseLossBackward>)\n",
      "tensor(46.8982, grad_fn=<MseLossBackward>)\n",
      "tensor(46.8997, grad_fn=<MseLossBackward>)\n",
      "tensor(46.8978, grad_fn=<MseLossBackward>)\n",
      "tensor(46.8941, grad_fn=<MseLossBackward>)\n",
      "tensor(46.8922, grad_fn=<MseLossBackward>)\n",
      "tensor(46.8964, grad_fn=<MseLossBackward>)\n",
      "tensor(46.8917, grad_fn=<MseLossBackward>)\n",
      "tensor(46.8942, grad_fn=<MseLossBackward>)\n",
      "tensor(46.8964, grad_fn=<MseLossBackward>)\n",
      "tensor(46.8957, grad_fn=<MseLossBackward>)\n",
      "tensor(46.8940, grad_fn=<MseLossBackward>)\n",
      "tensor(46.8913, grad_fn=<MseLossBackward>)\n",
      "tensor(46.8897, grad_fn=<MseLossBackward>)\n",
      "tensor(46.8957, grad_fn=<MseLossBackward>)\n",
      "tensor(46.8897, grad_fn=<MseLossBackward>)\n",
      "tensor(46.8945, grad_fn=<MseLossBackward>)\n",
      "tensor(46.8988, grad_fn=<MseLossBackward>)\n",
      "tensor(46.8985, grad_fn=<MseLossBackward>)\n",
      "tensor(46.8939, grad_fn=<MseLossBackward>)\n",
      "tensor(46.8896, grad_fn=<MseLossBackward>)\n",
      "tensor(46.8881, grad_fn=<MseLossBackward>)\n",
      "tensor(46.8927, grad_fn=<MseLossBackward>)\n",
      "tensor(46.8871, grad_fn=<MseLossBackward>)\n",
      "tensor(46.8875, grad_fn=<MseLossBackward>)\n",
      "tensor(46.8888, grad_fn=<MseLossBackward>)\n",
      "tensor(46.8899, grad_fn=<MseLossBackward>)\n",
      "tensor(46.8890, grad_fn=<MseLossBackward>)\n",
      "tensor(46.8866, grad_fn=<MseLossBackward>)\n",
      "tensor(46.8846, grad_fn=<MseLossBackward>)\n",
      "tensor(46.8845, grad_fn=<MseLossBackward>)\n",
      "tensor(46.8870, grad_fn=<MseLossBackward>)\n",
      "tensor(46.8843, grad_fn=<MseLossBackward>)\n",
      "tensor(46.8849, grad_fn=<MseLossBackward>)\n",
      "tensor(46.8867, grad_fn=<MseLossBackward>)\n",
      "tensor(46.8869, grad_fn=<MseLossBackward>)\n",
      "tensor(46.8856, grad_fn=<MseLossBackward>)\n",
      "tensor(46.8839, grad_fn=<MseLossBackward>)\n",
      "tensor(46.8828, grad_fn=<MseLossBackward>)\n",
      "tensor(46.8829, grad_fn=<MseLossBackward>)\n",
      "tensor(46.8848, grad_fn=<MseLossBackward>)\n",
      "tensor(46.8818, grad_fn=<MseLossBackward>)\n",
      "tensor(46.8831, grad_fn=<MseLossBackward>)\n",
      "tensor(46.8846, grad_fn=<MseLossBackward>)\n",
      "tensor(46.8852, grad_fn=<MseLossBackward>)\n",
      "tensor(46.8841, grad_fn=<MseLossBackward>)\n",
      "tensor(46.8825, grad_fn=<MseLossBackward>)\n",
      "tensor(46.8813, grad_fn=<MseLossBackward>)\n",
      "tensor(46.8808, grad_fn=<MseLossBackward>)\n",
      "tensor(46.8807, grad_fn=<MseLossBackward>)\n",
      "tensor(46.8826, grad_fn=<MseLossBackward>)\n",
      "tensor(46.8800, grad_fn=<MseLossBackward>)\n",
      "tensor(46.8813, grad_fn=<MseLossBackward>)\n",
      "tensor(46.8832, grad_fn=<MseLossBackward>)\n",
      "tensor(46.8836, grad_fn=<MseLossBackward>)\n",
      "tensor(46.8815, grad_fn=<MseLossBackward>)\n",
      "tensor(46.8798, grad_fn=<MseLossBackward>)\n",
      "tensor(46.8790, grad_fn=<MseLossBackward>)\n",
      "tensor(46.8797, grad_fn=<MseLossBackward>)\n",
      "tensor(46.8808, grad_fn=<MseLossBackward>)\n",
      "tensor(46.8780, grad_fn=<MseLossBackward>)\n",
      "tensor(46.8779, grad_fn=<MseLossBackward>)\n",
      "tensor(46.8785, grad_fn=<MseLossBackward>)\n",
      "tensor(46.8799, grad_fn=<MseLossBackward>)\n",
      "tensor(46.8790, grad_fn=<MseLossBackward>)\n",
      "tensor(46.8775, grad_fn=<MseLossBackward>)\n",
      "tensor(46.8765, grad_fn=<MseLossBackward>)\n",
      "tensor(46.8767, grad_fn=<MseLossBackward>)\n",
      "tensor(46.8770, grad_fn=<MseLossBackward>)\n",
      "tensor(46.8775, grad_fn=<MseLossBackward>)\n",
      "tensor(46.8755, grad_fn=<MseLossBackward>)\n",
      "tensor(46.8761, grad_fn=<MseLossBackward>)\n",
      "tensor(46.8770, grad_fn=<MseLossBackward>)\n",
      "tensor(46.8774, grad_fn=<MseLossBackward>)\n",
      "tensor(46.8771, grad_fn=<MseLossBackward>)\n",
      "tensor(337.8948, grad_fn=<MseLossBackward>)\n",
      "tensor(340.5844, grad_fn=<MseLossBackward>)\n",
      "tensor(326.9044, grad_fn=<MseLossBackward>)\n",
      "tensor(270.9888, grad_fn=<MseLossBackward>)\n",
      "tensor(217.9697, grad_fn=<MseLossBackward>)\n",
      "tensor(180.0583, grad_fn=<MseLossBackward>)\n",
      "tensor(162.8301, grad_fn=<MseLossBackward>)\n",
      "tensor(161.5790, grad_fn=<MseLossBackward>)\n",
      "tensor(166.4509, grad_fn=<MseLossBackward>)\n",
      "tensor(170.0343, grad_fn=<MseLossBackward>)\n",
      "tensor(169.1441, grad_fn=<MseLossBackward>)\n",
      "tensor(165.3988, grad_fn=<MseLossBackward>)\n",
      "tensor(159.7276, grad_fn=<MseLossBackward>)\n",
      "tensor(156.5083, grad_fn=<MseLossBackward>)\n",
      "tensor(147.2118, grad_fn=<MseLossBackward>)\n",
      "tensor(143.2043, grad_fn=<MseLossBackward>)\n",
      "tensor(140.9247, grad_fn=<MseLossBackward>)\n",
      "tensor(139.6899, grad_fn=<MseLossBackward>)\n",
      "tensor(138.7606, grad_fn=<MseLossBackward>)\n",
      "tensor(137.6890, grad_fn=<MseLossBackward>)\n",
      "tensor(136.0474, grad_fn=<MseLossBackward>)\n",
      "tensor(133.8093, grad_fn=<MseLossBackward>)\n",
      "tensor(131.2748, grad_fn=<MseLossBackward>)\n",
      "tensor(128.7914, grad_fn=<MseLossBackward>)\n",
      "tensor(126.7954, grad_fn=<MseLossBackward>)\n",
      "tensor(125.4051, grad_fn=<MseLossBackward>)\n",
      "tensor(124.4335, grad_fn=<MseLossBackward>)\n",
      "tensor(123.4143, grad_fn=<MseLossBackward>)\n",
      "tensor(125.2764, grad_fn=<MseLossBackward>)\n",
      "tensor(121.4930, grad_fn=<MseLossBackward>)\n",
      "tensor(120.0405, grad_fn=<MseLossBackward>)\n",
      "tensor(118.2030, grad_fn=<MseLossBackward>)\n",
      "tensor(116.3175, grad_fn=<MseLossBackward>)\n",
      "tensor(114.7795, grad_fn=<MseLossBackward>)\n",
      "tensor(113.6916, grad_fn=<MseLossBackward>)\n",
      "tensor(112.9878, grad_fn=<MseLossBackward>)\n",
      "tensor(112.4333, grad_fn=<MseLossBackward>)\n",
      "tensor(111.6857, grad_fn=<MseLossBackward>)\n",
      "tensor(110.7792, grad_fn=<MseLossBackward>)\n"
     ]
    },
    {
     "name": "stdout",
     "output_type": "stream",
     "text": [
      "tensor(109.9008, grad_fn=<MseLossBackward>)\n",
      "tensor(109.0861, grad_fn=<MseLossBackward>)\n",
      "tensor(108.3518, grad_fn=<MseLossBackward>)\n",
      "tensor(107.6054, grad_fn=<MseLossBackward>)\n",
      "tensor(106.7730, grad_fn=<MseLossBackward>)\n",
      "tensor(105.8595, grad_fn=<MseLossBackward>)\n",
      "tensor(104.8027, grad_fn=<MseLossBackward>)\n",
      "tensor(103.6184, grad_fn=<MseLossBackward>)\n",
      "tensor(105.0457, grad_fn=<MseLossBackward>)\n",
      "tensor(101.7325, grad_fn=<MseLossBackward>)\n",
      "tensor(101.0366, grad_fn=<MseLossBackward>)\n",
      "tensor(100.2184, grad_fn=<MseLossBackward>)\n",
      "tensor(99.3703, grad_fn=<MseLossBackward>)\n",
      "tensor(98.3141, grad_fn=<MseLossBackward>)\n",
      "tensor(97.3516, grad_fn=<MseLossBackward>)\n",
      "tensor(96.4727, grad_fn=<MseLossBackward>)\n",
      "tensor(95.5755, grad_fn=<MseLossBackward>)\n",
      "tensor(94.7296, grad_fn=<MseLossBackward>)\n",
      "tensor(93.7102, grad_fn=<MseLossBackward>)\n",
      "tensor(92.6895, grad_fn=<MseLossBackward>)\n",
      "tensor(91.5241, grad_fn=<MseLossBackward>)\n",
      "tensor(91.7821, grad_fn=<MseLossBackward>)\n",
      "tensor(89.7106, grad_fn=<MseLossBackward>)\n",
      "tensor(88.9361, grad_fn=<MseLossBackward>)\n",
      "tensor(88.0498, grad_fn=<MseLossBackward>)\n",
      "tensor(87.0835, grad_fn=<MseLossBackward>)\n",
      "tensor(86.0683, grad_fn=<MseLossBackward>)\n",
      "tensor(85.0136, grad_fn=<MseLossBackward>)\n",
      "tensor(84.3255, grad_fn=<MseLossBackward>)\n",
      "tensor(83.1269, grad_fn=<MseLossBackward>)\n",
      "tensor(82.2964, grad_fn=<MseLossBackward>)\n",
      "tensor(81.3931, grad_fn=<MseLossBackward>)\n",
      "tensor(80.4289, grad_fn=<MseLossBackward>)\n",
      "tensor(79.4710, grad_fn=<MseLossBackward>)\n",
      "tensor(78.4032, grad_fn=<MseLossBackward>)\n",
      "tensor(77.8204, grad_fn=<MseLossBackward>)\n",
      "tensor(76.6242, grad_fn=<MseLossBackward>)\n",
      "tensor(75.8214, grad_fn=<MseLossBackward>)\n",
      "tensor(75.0269, grad_fn=<MseLossBackward>)\n",
      "tensor(74.1775, grad_fn=<MseLossBackward>)\n",
      "tensor(73.3392, grad_fn=<MseLossBackward>)\n",
      "tensor(72.4428, grad_fn=<MseLossBackward>)\n",
      "tensor(71.5224, grad_fn=<MseLossBackward>)\n",
      "tensor(70.5721, grad_fn=<MseLossBackward>)\n",
      "tensor(69.5748, grad_fn=<MseLossBackward>)\n",
      "tensor(68.8366, grad_fn=<MseLossBackward>)\n",
      "tensor(67.9336, grad_fn=<MseLossBackward>)\n",
      "tensor(67.2179, grad_fn=<MseLossBackward>)\n",
      "tensor(66.4735, grad_fn=<MseLossBackward>)\n",
      "tensor(65.7664, grad_fn=<MseLossBackward>)\n",
      "tensor(65.7673, grad_fn=<MseLossBackward>)\n",
      "tensor(64.5622, grad_fn=<MseLossBackward>)\n",
      "tensor(64.0771, grad_fn=<MseLossBackward>)\n",
      "tensor(63.6124, grad_fn=<MseLossBackward>)\n",
      "tensor(63.0659, grad_fn=<MseLossBackward>)\n",
      "tensor(62.4784, grad_fn=<MseLossBackward>)\n",
      "tensor(61.9073, grad_fn=<MseLossBackward>)\n",
      "tensor(61.7827, grad_fn=<MseLossBackward>)\n",
      "tensor(61.0936, grad_fn=<MseLossBackward>)\n",
      "tensor(60.8138, grad_fn=<MseLossBackward>)\n",
      "tensor(60.5176, grad_fn=<MseLossBackward>)\n",
      "tensor(60.1909, grad_fn=<MseLossBackward>)\n",
      "tensor(59.9258, grad_fn=<MseLossBackward>)\n",
      "tensor(59.6577, grad_fn=<MseLossBackward>)\n",
      "tensor(59.4865, grad_fn=<MseLossBackward>)\n",
      "tensor(59.3304, grad_fn=<MseLossBackward>)\n",
      "tensor(59.1466, grad_fn=<MseLossBackward>)\n",
      "tensor(58.9628, grad_fn=<MseLossBackward>)\n",
      "tensor(58.9050, grad_fn=<MseLossBackward>)\n",
      "tensor(58.7479, grad_fn=<MseLossBackward>)\n",
      "tensor(58.7130, grad_fn=<MseLossBackward>)\n",
      "tensor(58.6682, grad_fn=<MseLossBackward>)\n",
      "tensor(58.6612, grad_fn=<MseLossBackward>)\n",
      "tensor(58.5607, grad_fn=<MseLossBackward>)\n",
      "tensor(58.5215, grad_fn=<MseLossBackward>)\n",
      "tensor(58.4433, grad_fn=<MseLossBackward>)\n",
      "tensor(58.3370, grad_fn=<MseLossBackward>)\n",
      "tensor(58.3489, grad_fn=<MseLossBackward>)\n",
      "tensor(58.4804, grad_fn=<MseLossBackward>)\n",
      "tensor(58.1643, grad_fn=<MseLossBackward>)\n",
      "tensor(58.2581, grad_fn=<MseLossBackward>)\n",
      "tensor(57.9172, grad_fn=<MseLossBackward>)\n",
      "tensor(58.0632, grad_fn=<MseLossBackward>)\n",
      "tensor(57.8441, grad_fn=<MseLossBackward>)\n",
      "tensor(57.9771, grad_fn=<MseLossBackward>)\n",
      "tensor(57.6555, grad_fn=<MseLossBackward>)\n",
      "tensor(57.8411, grad_fn=<MseLossBackward>)\n",
      "tensor(57.6597, grad_fn=<MseLossBackward>)\n",
      "tensor(57.5174, grad_fn=<MseLossBackward>)\n",
      "tensor(57.0122, grad_fn=<MseLossBackward>)\n",
      "tensor(56.9278, grad_fn=<MseLossBackward>)\n",
      "tensor(56.5152, grad_fn=<MseLossBackward>)\n",
      "tensor(56.1428, grad_fn=<MseLossBackward>)\n",
      "tensor(55.9573, grad_fn=<MseLossBackward>)\n",
      "tensor(55.4378, grad_fn=<MseLossBackward>)\n",
      "tensor(55.2310, grad_fn=<MseLossBackward>)\n",
      "tensor(54.9668, grad_fn=<MseLossBackward>)\n",
      "tensor(54.6946, grad_fn=<MseLossBackward>)\n",
      "tensor(54.5248, grad_fn=<MseLossBackward>)\n",
      "tensor(54.3851, grad_fn=<MseLossBackward>)\n",
      "tensor(54.0943, grad_fn=<MseLossBackward>)\n",
      "tensor(53.7896, grad_fn=<MseLossBackward>)\n",
      "tensor(53.9699, grad_fn=<MseLossBackward>)\n",
      "tensor(53.9127, grad_fn=<MseLossBackward>)\n",
      "tensor(53.5684, grad_fn=<MseLossBackward>)\n",
      "tensor(53.7432, grad_fn=<MseLossBackward>)\n",
      "tensor(53.8438, grad_fn=<MseLossBackward>)\n",
      "tensor(53.7704, grad_fn=<MseLossBackward>)\n",
      "tensor(53.6383, grad_fn=<MseLossBackward>)\n",
      "tensor(53.6010, grad_fn=<MseLossBackward>)\n",
      "tensor(53.5936, grad_fn=<MseLossBackward>)\n",
      "tensor(53.5424, grad_fn=<MseLossBackward>)\n",
      "tensor(53.5208, grad_fn=<MseLossBackward>)\n",
      "tensor(53.3428, grad_fn=<MseLossBackward>)\n",
      "tensor(53.1432, grad_fn=<MseLossBackward>)\n",
      "tensor(52.9766, grad_fn=<MseLossBackward>)\n",
      "tensor(52.7448, grad_fn=<MseLossBackward>)\n",
      "tensor(52.5868, grad_fn=<MseLossBackward>)\n",
      "tensor(52.5314, grad_fn=<MseLossBackward>)\n",
      "tensor(52.4865, grad_fn=<MseLossBackward>)\n",
      "tensor(52.3140, grad_fn=<MseLossBackward>)\n",
      "tensor(52.2518, grad_fn=<MseLossBackward>)\n",
      "tensor(52.3034, grad_fn=<MseLossBackward>)\n",
      "tensor(52.2153, grad_fn=<MseLossBackward>)\n",
      "tensor(52.2401, grad_fn=<MseLossBackward>)\n",
      "tensor(52.1841, grad_fn=<MseLossBackward>)\n",
      "tensor(52.0365, grad_fn=<MseLossBackward>)\n",
      "tensor(51.9111, grad_fn=<MseLossBackward>)\n",
      "tensor(51.8967, grad_fn=<MseLossBackward>)\n",
      "tensor(51.9095, grad_fn=<MseLossBackward>)\n",
      "tensor(51.9920, grad_fn=<MseLossBackward>)\n",
      "tensor(51.9693, grad_fn=<MseLossBackward>)\n",
      "tensor(52.0755, grad_fn=<MseLossBackward>)\n",
      "tensor(52.0731, grad_fn=<MseLossBackward>)\n",
      "tensor(52.0616, grad_fn=<MseLossBackward>)\n",
      "tensor(52.0632, grad_fn=<MseLossBackward>)\n",
      "tensor(51.8869, grad_fn=<MseLossBackward>)\n",
      "tensor(51.9097, grad_fn=<MseLossBackward>)\n",
      "tensor(51.8257, grad_fn=<MseLossBackward>)\n",
      "tensor(51.5775, grad_fn=<MseLossBackward>)\n",
      "tensor(51.9322, grad_fn=<MseLossBackward>)\n",
      "tensor(51.8802, grad_fn=<MseLossBackward>)\n",
      "tensor(51.7789, grad_fn=<MseLossBackward>)\n",
      "tensor(51.9898, grad_fn=<MseLossBackward>)\n",
      "tensor(52.1139, grad_fn=<MseLossBackward>)\n",
      "tensor(52.0592, grad_fn=<MseLossBackward>)\n",
      "tensor(51.9831, grad_fn=<MseLossBackward>)\n",
      "tensor(51.9228, grad_fn=<MseLossBackward>)\n",
      "tensor(51.8133, grad_fn=<MseLossBackward>)\n",
      "tensor(51.6568, grad_fn=<MseLossBackward>)\n",
      "tensor(51.8610, grad_fn=<MseLossBackward>)\n",
      "tensor(51.8559, grad_fn=<MseLossBackward>)\n",
      "tensor(51.6153, grad_fn=<MseLossBackward>)\n",
      "tensor(51.6589, grad_fn=<MseLossBackward>)\n",
      "tensor(51.6884, grad_fn=<MseLossBackward>)\n",
      "tensor(51.5642, grad_fn=<MseLossBackward>)\n",
      "tensor(51.5884, grad_fn=<MseLossBackward>)\n",
      "tensor(51.5218, grad_fn=<MseLossBackward>)\n",
      "tensor(51.5790, grad_fn=<MseLossBackward>)\n",
      "tensor(51.6994, grad_fn=<MseLossBackward>)\n",
      "tensor(51.3988, grad_fn=<MseLossBackward>)\n",
      "tensor(51.6942, grad_fn=<MseLossBackward>)\n",
      "tensor(51.8463, grad_fn=<MseLossBackward>)\n",
      "tensor(51.8198, grad_fn=<MseLossBackward>)\n",
      "tensor(51.8007, grad_fn=<MseLossBackward>)\n",
      "tensor(51.7961, grad_fn=<MseLossBackward>)\n",
      "tensor(51.7425, grad_fn=<MseLossBackward>)\n",
      "tensor(51.7374, grad_fn=<MseLossBackward>)\n",
      "tensor(51.7564, grad_fn=<MseLossBackward>)\n",
      "tensor(51.7150, grad_fn=<MseLossBackward>)\n",
      "tensor(51.6951, grad_fn=<MseLossBackward>)\n",
      "tensor(51.6663, grad_fn=<MseLossBackward>)\n",
      "tensor(51.4639, grad_fn=<MseLossBackward>)\n",
      "tensor(51.5629, grad_fn=<MseLossBackward>)\n",
      "tensor(51.5381, grad_fn=<MseLossBackward>)\n",
      "tensor(51.2828, grad_fn=<MseLossBackward>)\n",
      "tensor(51.5876, grad_fn=<MseLossBackward>)\n",
      "tensor(51.7838, grad_fn=<MseLossBackward>)\n",
      "tensor(51.7986, grad_fn=<MseLossBackward>)\n",
      "tensor(51.7973, grad_fn=<MseLossBackward>)\n",
      "tensor(51.6793, grad_fn=<MseLossBackward>)\n",
      "tensor(51.4612, grad_fn=<MseLossBackward>)\n",
      "tensor(51.5077, grad_fn=<MseLossBackward>)\n",
      "tensor(51.7123, grad_fn=<MseLossBackward>)\n",
      "tensor(51.4614, grad_fn=<MseLossBackward>)\n",
      "tensor(51.5588, grad_fn=<MseLossBackward>)\n",
      "tensor(51.6693, grad_fn=<MseLossBackward>)\n",
      "tensor(51.5767, grad_fn=<MseLossBackward>)\n",
      "tensor(51.3921, grad_fn=<MseLossBackward>)\n",
      "tensor(52.1113, grad_fn=<MseLossBackward>)\n",
      "tensor(51.5225, grad_fn=<MseLossBackward>)\n"
     ]
    },
    {
     "name": "stdout",
     "output_type": "stream",
     "text": [
      "tensor(51.6441, grad_fn=<MseLossBackward>)\n",
      "tensor(52.1636, grad_fn=<MseLossBackward>)\n",
      "tensor(51.5615, grad_fn=<MseLossBackward>)\n",
      "tensor(51.9060, grad_fn=<MseLossBackward>)\n",
      "tensor(52.0916, grad_fn=<MseLossBackward>)\n",
      "tensor(51.8959, grad_fn=<MseLossBackward>)\n",
      "tensor(51.7342, grad_fn=<MseLossBackward>)\n",
      "tensor(51.7667, grad_fn=<MseLossBackward>)\n",
      "tensor(51.6142, grad_fn=<MseLossBackward>)\n",
      "tensor(51.6486, grad_fn=<MseLossBackward>)\n",
      "tensor(51.6363, grad_fn=<MseLossBackward>)\n",
      "tensor(51.5227, grad_fn=<MseLossBackward>)\n",
      "tensor(51.5090, grad_fn=<MseLossBackward>)\n",
      "tensor(51.3857, grad_fn=<MseLossBackward>)\n",
      "tensor(51.3773, grad_fn=<MseLossBackward>)\n",
      "tensor(51.1513, grad_fn=<MseLossBackward>)\n",
      "tensor(51.4035, grad_fn=<MseLossBackward>)\n",
      "tensor(51.2614, grad_fn=<MseLossBackward>)\n",
      "tensor(51.0855, grad_fn=<MseLossBackward>)\n",
      "tensor(51.1193, grad_fn=<MseLossBackward>)\n",
      "tensor(51.0595, grad_fn=<MseLossBackward>)\n",
      "tensor(51.2174, grad_fn=<MseLossBackward>)\n",
      "tensor(51.2325, grad_fn=<MseLossBackward>)\n",
      "tensor(51.3359, grad_fn=<MseLossBackward>)\n",
      "tensor(51.3155, grad_fn=<MseLossBackward>)\n",
      "tensor(51.3041, grad_fn=<MseLossBackward>)\n",
      "tensor(51.3796, grad_fn=<MseLossBackward>)\n",
      "tensor(51.2295, grad_fn=<MseLossBackward>)\n",
      "tensor(51.0181, grad_fn=<MseLossBackward>)\n",
      "tensor(51.0027, grad_fn=<MseLossBackward>)\n",
      "tensor(51.0531, grad_fn=<MseLossBackward>)\n",
      "tensor(51.1621, grad_fn=<MseLossBackward>)\n",
      "tensor(51.3513, grad_fn=<MseLossBackward>)\n",
      "tensor(51.0066, grad_fn=<MseLossBackward>)\n",
      "tensor(51.1162, grad_fn=<MseLossBackward>)\n",
      "tensor(51.2129, grad_fn=<MseLossBackward>)\n",
      "tensor(50.9917, grad_fn=<MseLossBackward>)\n",
      "tensor(51.0456, grad_fn=<MseLossBackward>)\n",
      "tensor(51.0535, grad_fn=<MseLossBackward>)\n",
      "tensor(50.9089, grad_fn=<MseLossBackward>)\n",
      "tensor(51.1813, grad_fn=<MseLossBackward>)\n",
      "tensor(51.0107, grad_fn=<MseLossBackward>)\n",
      "tensor(51.0061, grad_fn=<MseLossBackward>)\n",
      "tensor(51.0406, grad_fn=<MseLossBackward>)\n",
      "tensor(51.0459, grad_fn=<MseLossBackward>)\n",
      "tensor(50.9614, grad_fn=<MseLossBackward>)\n",
      "tensor(50.9796, grad_fn=<MseLossBackward>)\n",
      "tensor(50.8630, grad_fn=<MseLossBackward>)\n",
      "tensor(51.0324, grad_fn=<MseLossBackward>)\n",
      "tensor(50.9834, grad_fn=<MseLossBackward>)\n",
      "tensor(51.0928, grad_fn=<MseLossBackward>)\n",
      "tensor(51.0975, grad_fn=<MseLossBackward>)\n",
      "tensor(50.9990, grad_fn=<MseLossBackward>)\n",
      "tensor(50.8191, grad_fn=<MseLossBackward>)\n",
      "tensor(51.1098, grad_fn=<MseLossBackward>)\n",
      "tensor(51.0938, grad_fn=<MseLossBackward>)\n",
      "tensor(50.9427, grad_fn=<MseLossBackward>)\n",
      "tensor(51.1197, grad_fn=<MseLossBackward>)\n",
      "tensor(51.3239, grad_fn=<MseLossBackward>)\n",
      "tensor(51.3535, grad_fn=<MseLossBackward>)\n",
      "tensor(51.3168, grad_fn=<MseLossBackward>)\n",
      "tensor(51.1159, grad_fn=<MseLossBackward>)\n",
      "tensor(50.8582, grad_fn=<MseLossBackward>)\n",
      "tensor(51.1689, grad_fn=<MseLossBackward>)\n",
      "tensor(51.0308, grad_fn=<MseLossBackward>)\n",
      "tensor(50.8045, grad_fn=<MseLossBackward>)\n",
      "tensor(50.9933, grad_fn=<MseLossBackward>)\n",
      "tensor(51.0504, grad_fn=<MseLossBackward>)\n",
      "tensor(50.9611, grad_fn=<MseLossBackward>)\n",
      "tensor(51.0980, grad_fn=<MseLossBackward>)\n",
      "tensor(50.9298, grad_fn=<MseLossBackward>)\n",
      "tensor(51.1418, grad_fn=<MseLossBackward>)\n",
      "tensor(51.0433, grad_fn=<MseLossBackward>)\n",
      "tensor(51.0646, grad_fn=<MseLossBackward>)\n",
      "tensor(51.0855, grad_fn=<MseLossBackward>)\n",
      "tensor(51.0637, grad_fn=<MseLossBackward>)\n",
      "tensor(51.0859, grad_fn=<MseLossBackward>)\n",
      "tensor(51.1027, grad_fn=<MseLossBackward>)\n",
      "tensor(51.0124, grad_fn=<MseLossBackward>)\n",
      "tensor(50.8811, grad_fn=<MseLossBackward>)\n",
      "tensor(51.2209, grad_fn=<MseLossBackward>)\n",
      "tensor(51.0734, grad_fn=<MseLossBackward>)\n",
      "tensor(50.9423, grad_fn=<MseLossBackward>)\n",
      "tensor(50.9891, grad_fn=<MseLossBackward>)\n",
      "tensor(50.9185, grad_fn=<MseLossBackward>)\n",
      "tensor(51.0598, grad_fn=<MseLossBackward>)\n",
      "tensor(51.0609, grad_fn=<MseLossBackward>)\n",
      "tensor(50.9713, grad_fn=<MseLossBackward>)\n",
      "tensor(51.1207, grad_fn=<MseLossBackward>)\n",
      "tensor(51.2273, grad_fn=<MseLossBackward>)\n",
      "tensor(51.3350, grad_fn=<MseLossBackward>)\n",
      "tensor(51.2511, grad_fn=<MseLossBackward>)\n",
      "tensor(51.1106, grad_fn=<MseLossBackward>)\n",
      "tensor(50.8782, grad_fn=<MseLossBackward>)\n",
      "tensor(51.2097, grad_fn=<MseLossBackward>)\n",
      "tensor(51.0648, grad_fn=<MseLossBackward>)\n",
      "tensor(50.8784, grad_fn=<MseLossBackward>)\n",
      "tensor(51.1141, grad_fn=<MseLossBackward>)\n",
      "tensor(51.0848, grad_fn=<MseLossBackward>)\n",
      "tensor(50.9598, grad_fn=<MseLossBackward>)\n",
      "tensor(50.8383, grad_fn=<MseLossBackward>)\n",
      "tensor(50.8534, grad_fn=<MseLossBackward>)\n",
      "tensor(50.9475, grad_fn=<MseLossBackward>)\n",
      "tensor(50.8603, grad_fn=<MseLossBackward>)\n",
      "tensor(51.0224, grad_fn=<MseLossBackward>)\n",
      "tensor(51.0893, grad_fn=<MseLossBackward>)\n",
      "tensor(50.9803, grad_fn=<MseLossBackward>)\n",
      "tensor(50.7473, grad_fn=<MseLossBackward>)\n",
      "tensor(50.7559, grad_fn=<MseLossBackward>)\n",
      "tensor(50.8644, grad_fn=<MseLossBackward>)\n",
      "tensor(50.8179, grad_fn=<MseLossBackward>)\n",
      "tensor(50.8600, grad_fn=<MseLossBackward>)\n",
      "tensor(50.8203, grad_fn=<MseLossBackward>)\n",
      "tensor(50.7236, grad_fn=<MseLossBackward>)\n",
      "tensor(50.8105, grad_fn=<MseLossBackward>)\n",
      "tensor(51.0049, grad_fn=<MseLossBackward>)\n",
      "tensor(50.8193, grad_fn=<MseLossBackward>)\n",
      "tensor(51.0494, grad_fn=<MseLossBackward>)\n",
      "tensor(51.1609, grad_fn=<MseLossBackward>)\n",
      "tensor(51.1552, grad_fn=<MseLossBackward>)\n",
      "tensor(51.0684, grad_fn=<MseLossBackward>)\n",
      "tensor(50.9957, grad_fn=<MseLossBackward>)\n",
      "tensor(51.0359, grad_fn=<MseLossBackward>)\n",
      "tensor(50.9046, grad_fn=<MseLossBackward>)\n",
      "tensor(50.9246, grad_fn=<MseLossBackward>)\n",
      "tensor(51.0673, grad_fn=<MseLossBackward>)\n",
      "tensor(50.9772, grad_fn=<MseLossBackward>)\n",
      "tensor(50.9653, grad_fn=<MseLossBackward>)\n",
      "tensor(51.0717, grad_fn=<MseLossBackward>)\n",
      "tensor(50.7994, grad_fn=<MseLossBackward>)\n",
      "tensor(50.6800, grad_fn=<MseLossBackward>)\n",
      "tensor(50.6581, grad_fn=<MseLossBackward>)\n",
      "tensor(50.5026, grad_fn=<MseLossBackward>)\n",
      "tensor(50.6574, grad_fn=<MseLossBackward>)\n",
      "tensor(50.5853, grad_fn=<MseLossBackward>)\n",
      "tensor(50.5936, grad_fn=<MseLossBackward>)\n",
      "tensor(50.5748, grad_fn=<MseLossBackward>)\n",
      "tensor(50.5802, grad_fn=<MseLossBackward>)\n",
      "tensor(50.9345, grad_fn=<MseLossBackward>)\n",
      "tensor(50.5651, grad_fn=<MseLossBackward>)\n",
      "tensor(50.6158, grad_fn=<MseLossBackward>)\n",
      "tensor(50.7309, grad_fn=<MseLossBackward>)\n",
      "tensor(50.8351, grad_fn=<MseLossBackward>)\n",
      "tensor(50.9216, grad_fn=<MseLossBackward>)\n",
      "tensor(50.8552, grad_fn=<MseLossBackward>)\n",
      "tensor(50.7844, grad_fn=<MseLossBackward>)\n",
      "tensor(50.7882, grad_fn=<MseLossBackward>)\n",
      "tensor(50.7559, grad_fn=<MseLossBackward>)\n",
      "tensor(50.7127, grad_fn=<MseLossBackward>)\n",
      "tensor(50.7724, grad_fn=<MseLossBackward>)\n",
      "tensor(50.6910, grad_fn=<MseLossBackward>)\n",
      "tensor(50.7691, grad_fn=<MseLossBackward>)\n",
      "tensor(50.6030, grad_fn=<MseLossBackward>)\n",
      "tensor(50.4794, grad_fn=<MseLossBackward>)\n",
      "tensor(50.7575, grad_fn=<MseLossBackward>)\n",
      "tensor(50.4932, grad_fn=<MseLossBackward>)\n",
      "tensor(50.5602, grad_fn=<MseLossBackward>)\n",
      "tensor(50.6610, grad_fn=<MseLossBackward>)\n",
      "tensor(50.7871, grad_fn=<MseLossBackward>)\n",
      "tensor(50.7180, grad_fn=<MseLossBackward>)\n",
      "tensor(50.5596, grad_fn=<MseLossBackward>)\n",
      "tensor(50.6936, grad_fn=<MseLossBackward>)\n",
      "tensor(50.4279, grad_fn=<MseLossBackward>)\n",
      "tensor(50.7354, grad_fn=<MseLossBackward>)\n",
      "tensor(50.7070, grad_fn=<MseLossBackward>)\n",
      "tensor(50.6599, grad_fn=<MseLossBackward>)\n",
      "tensor(50.6633, grad_fn=<MseLossBackward>)\n",
      "tensor(50.6287, grad_fn=<MseLossBackward>)\n",
      "tensor(50.5163, grad_fn=<MseLossBackward>)\n",
      "tensor(50.5639, grad_fn=<MseLossBackward>)\n",
      "tensor(50.4799, grad_fn=<MseLossBackward>)\n",
      "tensor(50.4721, grad_fn=<MseLossBackward>)\n",
      "tensor(50.5133, grad_fn=<MseLossBackward>)\n",
      "tensor(50.5244, grad_fn=<MseLossBackward>)\n",
      "tensor(50.4327, grad_fn=<MseLossBackward>)\n",
      "tensor(50.3171, grad_fn=<MseLossBackward>)\n",
      "tensor(50.4925, grad_fn=<MseLossBackward>)\n",
      "tensor(50.5443, grad_fn=<MseLossBackward>)\n",
      "tensor(50.4263, grad_fn=<MseLossBackward>)\n",
      "tensor(50.4570, grad_fn=<MseLossBackward>)\n",
      "tensor(50.5256, grad_fn=<MseLossBackward>)\n",
      "tensor(50.5386, grad_fn=<MseLossBackward>)\n",
      "tensor(50.4768, grad_fn=<MseLossBackward>)\n",
      "tensor(50.5516, grad_fn=<MseLossBackward>)\n",
      "tensor(50.3339, grad_fn=<MseLossBackward>)\n",
      "tensor(50.4386, grad_fn=<MseLossBackward>)\n",
      "tensor(50.5076, grad_fn=<MseLossBackward>)\n",
      "tensor(50.4928, grad_fn=<MseLossBackward>)\n",
      "tensor(50.4720, grad_fn=<MseLossBackward>)\n",
      "tensor(50.4550, grad_fn=<MseLossBackward>)\n",
      "tensor(50.4438, grad_fn=<MseLossBackward>)\n",
      "tensor(50.4238, grad_fn=<MseLossBackward>)\n"
     ]
    },
    {
     "name": "stdout",
     "output_type": "stream",
     "text": [
      "tensor(50.4156, grad_fn=<MseLossBackward>)\n",
      "tensor(50.4095, grad_fn=<MseLossBackward>)\n",
      "tensor(50.4016, grad_fn=<MseLossBackward>)\n",
      "tensor(50.3960, grad_fn=<MseLossBackward>)\n",
      "tensor(50.3566, grad_fn=<MseLossBackward>)\n",
      "tensor(50.4373, grad_fn=<MseLossBackward>)\n",
      "tensor(50.4142, grad_fn=<MseLossBackward>)\n",
      "tensor(50.3619, grad_fn=<MseLossBackward>)\n",
      "tensor(50.3935, grad_fn=<MseLossBackward>)\n",
      "tensor(50.3784, grad_fn=<MseLossBackward>)\n",
      "tensor(50.4152, grad_fn=<MseLossBackward>)\n",
      "tensor(50.3441, grad_fn=<MseLossBackward>)\n",
      "tensor(50.3669, grad_fn=<MseLossBackward>)\n",
      "tensor(50.1561, grad_fn=<MseLossBackward>)\n",
      "tensor(50.2625, grad_fn=<MseLossBackward>)\n",
      "tensor(50.3121, grad_fn=<MseLossBackward>)\n",
      "tensor(50.4358, grad_fn=<MseLossBackward>)\n",
      "tensor(50.5195, grad_fn=<MseLossBackward>)\n",
      "tensor(50.4654, grad_fn=<MseLossBackward>)\n",
      "tensor(50.2390, grad_fn=<MseLossBackward>)\n",
      "tensor(50.3589, grad_fn=<MseLossBackward>)\n",
      "tensor(50.1819, grad_fn=<MseLossBackward>)\n",
      "tensor(50.2326, grad_fn=<MseLossBackward>)\n",
      "tensor(50.2785, grad_fn=<MseLossBackward>)\n",
      "tensor(50.3372, grad_fn=<MseLossBackward>)\n",
      "tensor(50.3422, grad_fn=<MseLossBackward>)\n",
      "tensor(50.2781, grad_fn=<MseLossBackward>)\n",
      "tensor(50.1307, grad_fn=<MseLossBackward>)\n",
      "tensor(50.1498, grad_fn=<MseLossBackward>)\n",
      "tensor(50.1996, grad_fn=<MseLossBackward>)\n",
      "tensor(50.1863, grad_fn=<MseLossBackward>)\n",
      "tensor(50.1753, grad_fn=<MseLossBackward>)\n",
      "tensor(50.2311, grad_fn=<MseLossBackward>)\n",
      "tensor(50.1865, grad_fn=<MseLossBackward>)\n",
      "tensor(50.1876, grad_fn=<MseLossBackward>)\n",
      "tensor(50.1786, grad_fn=<MseLossBackward>)\n",
      "tensor(50.1982, grad_fn=<MseLossBackward>)\n",
      "tensor(50.0465, grad_fn=<MseLossBackward>)\n",
      "tensor(50.3062, grad_fn=<MseLossBackward>)\n",
      "tensor(50.1680, grad_fn=<MseLossBackward>)\n",
      "tensor(50.2493, grad_fn=<MseLossBackward>)\n",
      "tensor(50.2466, grad_fn=<MseLossBackward>)\n",
      "tensor(50.3937, grad_fn=<MseLossBackward>)\n",
      "tensor(50.2501, grad_fn=<MseLossBackward>)\n",
      "tensor(50.2947, grad_fn=<MseLossBackward>)\n",
      "tensor(50.0036, grad_fn=<MseLossBackward>)\n",
      "tensor(50.3336, grad_fn=<MseLossBackward>)\n",
      "tensor(50.1415, grad_fn=<MseLossBackward>)\n",
      "tensor(50.1573, grad_fn=<MseLossBackward>)\n",
      "tensor(50.1965, grad_fn=<MseLossBackward>)\n",
      "tensor(50.3124, grad_fn=<MseLossBackward>)\n",
      "tensor(50.1521, grad_fn=<MseLossBackward>)\n",
      "tensor(50.1024, grad_fn=<MseLossBackward>)\n",
      "tensor(50.1680, grad_fn=<MseLossBackward>)\n",
      "tensor(50.2560, grad_fn=<MseLossBackward>)\n",
      "tensor(50.3444, grad_fn=<MseLossBackward>)\n",
      "tensor(50.1513, grad_fn=<MseLossBackward>)\n",
      "tensor(50.3070, grad_fn=<MseLossBackward>)\n",
      "tensor(50.1674, grad_fn=<MseLossBackward>)\n",
      "tensor(50.2631, grad_fn=<MseLossBackward>)\n",
      "tensor(50.3451, grad_fn=<MseLossBackward>)\n",
      "tensor(50.3272, grad_fn=<MseLossBackward>)\n",
      "tensor(50.2344, grad_fn=<MseLossBackward>)\n",
      "tensor(50.2831, grad_fn=<MseLossBackward>)\n",
      "tensor(50.3856, grad_fn=<MseLossBackward>)\n",
      "tensor(50.3139, grad_fn=<MseLossBackward>)\n",
      "tensor(50.3844, grad_fn=<MseLossBackward>)\n",
      "tensor(50.5059, grad_fn=<MseLossBackward>)\n",
      "tensor(50.4871, grad_fn=<MseLossBackward>)\n",
      "tensor(50.4016, grad_fn=<MseLossBackward>)\n",
      "tensor(50.2385, grad_fn=<MseLossBackward>)\n",
      "tensor(50.3742, grad_fn=<MseLossBackward>)\n",
      "tensor(50.0664, grad_fn=<MseLossBackward>)\n",
      "tensor(50.1811, grad_fn=<MseLossBackward>)\n",
      "tensor(50.2463, grad_fn=<MseLossBackward>)\n",
      "tensor(50.1682, grad_fn=<MseLossBackward>)\n",
      "tensor(50.0838, grad_fn=<MseLossBackward>)\n",
      "tensor(50.3356, grad_fn=<MseLossBackward>)\n",
      "tensor(203.4522, grad_fn=<MseLossBackward>)\n",
      "tensor(188.1930, grad_fn=<MseLossBackward>)\n",
      "tensor(168.5355, grad_fn=<MseLossBackward>)\n",
      "tensor(136.7588, grad_fn=<MseLossBackward>)\n",
      "tensor(128.7054, grad_fn=<MseLossBackward>)\n",
      "tensor(125.2613, grad_fn=<MseLossBackward>)\n",
      "tensor(121.1601, grad_fn=<MseLossBackward>)\n",
      "tensor(113.1929, grad_fn=<MseLossBackward>)\n",
      "tensor(108.3386, grad_fn=<MseLossBackward>)\n",
      "tensor(102.1081, grad_fn=<MseLossBackward>)\n",
      "tensor(103.0087, grad_fn=<MseLossBackward>)\n",
      "tensor(102.6706, grad_fn=<MseLossBackward>)\n",
      "tensor(99.6186, grad_fn=<MseLossBackward>)\n",
      "tensor(96.2552, grad_fn=<MseLossBackward>)\n",
      "tensor(94.8458, grad_fn=<MseLossBackward>)\n",
      "tensor(95.1234, grad_fn=<MseLossBackward>)\n",
      "tensor(95.0174, grad_fn=<MseLossBackward>)\n",
      "tensor(93.1702, grad_fn=<MseLossBackward>)\n",
      "tensor(90.3999, grad_fn=<MseLossBackward>)\n",
      "tensor(88.4609, grad_fn=<MseLossBackward>)\n",
      "tensor(87.6463, grad_fn=<MseLossBackward>)\n",
      "tensor(87.1091, grad_fn=<MseLossBackward>)\n",
      "tensor(86.1259, grad_fn=<MseLossBackward>)\n",
      "tensor(84.7764, grad_fn=<MseLossBackward>)\n",
      "tensor(83.7643, grad_fn=<MseLossBackward>)\n",
      "tensor(83.4527, grad_fn=<MseLossBackward>)\n",
      "tensor(83.4838, grad_fn=<MseLossBackward>)\n",
      "tensor(83.2676, grad_fn=<MseLossBackward>)\n",
      "tensor(82.6982, grad_fn=<MseLossBackward>)\n",
      "tensor(82.8184, grad_fn=<MseLossBackward>)\n",
      "tensor(82.6586, grad_fn=<MseLossBackward>)\n",
      "tensor(82.4511, grad_fn=<MseLossBackward>)\n",
      "tensor(82.2261, grad_fn=<MseLossBackward>)\n",
      "tensor(81.9929, grad_fn=<MseLossBackward>)\n",
      "tensor(81.7537, grad_fn=<MseLossBackward>)\n",
      "tensor(81.5098, grad_fn=<MseLossBackward>)\n",
      "tensor(81.2697, grad_fn=<MseLossBackward>)\n",
      "tensor(80.9927, grad_fn=<MseLossBackward>)\n",
      "tensor(80.6821, grad_fn=<MseLossBackward>)\n",
      "tensor(80.3799, grad_fn=<MseLossBackward>)\n",
      "tensor(80.1054, grad_fn=<MseLossBackward>)\n",
      "tensor(79.8516, grad_fn=<MseLossBackward>)\n",
      "tensor(79.6197, grad_fn=<MseLossBackward>)\n",
      "tensor(79.3839, grad_fn=<MseLossBackward>)\n",
      "tensor(79.1382, grad_fn=<MseLossBackward>)\n",
      "tensor(78.9268, grad_fn=<MseLossBackward>)\n",
      "tensor(78.6466, grad_fn=<MseLossBackward>)\n",
      "tensor(78.4003, grad_fn=<MseLossBackward>)\n",
      "tensor(78.1427, grad_fn=<MseLossBackward>)\n",
      "tensor(77.8782, grad_fn=<MseLossBackward>)\n",
      "tensor(77.5947, grad_fn=<MseLossBackward>)\n",
      "tensor(77.3054, grad_fn=<MseLossBackward>)\n",
      "tensor(76.9944, grad_fn=<MseLossBackward>)\n",
      "tensor(76.4963, grad_fn=<MseLossBackward>)\n",
      "tensor(83.1176, grad_fn=<MseLossBackward>)\n",
      "tensor(76.1953, grad_fn=<MseLossBackward>)\n",
      "tensor(76.1115, grad_fn=<MseLossBackward>)\n",
      "tensor(75.7599, grad_fn=<MseLossBackward>)\n",
      "tensor(75.2487, grad_fn=<MseLossBackward>)\n",
      "tensor(74.8354, grad_fn=<MseLossBackward>)\n",
      "tensor(74.6469, grad_fn=<MseLossBackward>)\n",
      "tensor(74.5150, grad_fn=<MseLossBackward>)\n",
      "tensor(74.2214, grad_fn=<MseLossBackward>)\n",
      "tensor(73.7868, grad_fn=<MseLossBackward>)\n",
      "tensor(73.3745, grad_fn=<MseLossBackward>)\n",
      "tensor(73.0939, grad_fn=<MseLossBackward>)\n",
      "tensor(72.8897, grad_fn=<MseLossBackward>)\n",
      "tensor(72.4988, grad_fn=<MseLossBackward>)\n",
      "tensor(72.0873, grad_fn=<MseLossBackward>)\n",
      "tensor(71.7425, grad_fn=<MseLossBackward>)\n",
      "tensor(71.4554, grad_fn=<MseLossBackward>)\n",
      "tensor(71.1361, grad_fn=<MseLossBackward>)\n",
      "tensor(70.7523, grad_fn=<MseLossBackward>)\n",
      "tensor(70.3565, grad_fn=<MseLossBackward>)\n",
      "tensor(70.0003, grad_fn=<MseLossBackward>)\n",
      "tensor(69.6544, grad_fn=<MseLossBackward>)\n",
      "tensor(69.2744, grad_fn=<MseLossBackward>)\n",
      "tensor(68.8782, grad_fn=<MseLossBackward>)\n",
      "tensor(68.4921, grad_fn=<MseLossBackward>)\n",
      "tensor(68.1271, grad_fn=<MseLossBackward>)\n",
      "tensor(67.7531, grad_fn=<MseLossBackward>)\n",
      "tensor(67.3809, grad_fn=<MseLossBackward>)\n",
      "tensor(67.1861, grad_fn=<MseLossBackward>)\n",
      "tensor(66.7309, grad_fn=<MseLossBackward>)\n",
      "tensor(66.4569, grad_fn=<MseLossBackward>)\n",
      "tensor(66.1658, grad_fn=<MseLossBackward>)\n",
      "tensor(65.8848, grad_fn=<MseLossBackward>)\n",
      "tensor(65.4860, grad_fn=<MseLossBackward>)\n",
      "tensor(65.3026, grad_fn=<MseLossBackward>)\n",
      "tensor(64.8750, grad_fn=<MseLossBackward>)\n",
      "tensor(64.7558, grad_fn=<MseLossBackward>)\n",
      "tensor(64.5783, grad_fn=<MseLossBackward>)\n",
      "tensor(64.1320, grad_fn=<MseLossBackward>)\n",
      "tensor(63.7304, grad_fn=<MseLossBackward>)\n",
      "tensor(63.5961, grad_fn=<MseLossBackward>)\n",
      "tensor(63.0533, grad_fn=<MseLossBackward>)\n",
      "tensor(62.8318, grad_fn=<MseLossBackward>)\n",
      "tensor(62.5653, grad_fn=<MseLossBackward>)\n",
      "tensor(62.1838, grad_fn=<MseLossBackward>)\n",
      "tensor(62.1562, grad_fn=<MseLossBackward>)\n",
      "tensor(61.8293, grad_fn=<MseLossBackward>)\n",
      "tensor(61.9044, grad_fn=<MseLossBackward>)\n",
      "tensor(61.7997, grad_fn=<MseLossBackward>)\n",
      "tensor(61.2692, grad_fn=<MseLossBackward>)\n",
      "tensor(61.4567, grad_fn=<MseLossBackward>)\n",
      "tensor(61.4479, grad_fn=<MseLossBackward>)\n",
      "tensor(61.3846, grad_fn=<MseLossBackward>)\n",
      "tensor(61.2177, grad_fn=<MseLossBackward>)\n",
      "tensor(61.0054, grad_fn=<MseLossBackward>)\n",
      "tensor(60.7585, grad_fn=<MseLossBackward>)\n",
      "tensor(60.7538, grad_fn=<MseLossBackward>)\n",
      "tensor(60.9822, grad_fn=<MseLossBackward>)\n",
      "tensor(60.3170, grad_fn=<MseLossBackward>)\n",
      "tensor(60.4032, grad_fn=<MseLossBackward>)\n",
      "tensor(60.1433, grad_fn=<MseLossBackward>)\n",
      "tensor(60.2456, grad_fn=<MseLossBackward>)\n",
      "tensor(60.1496, grad_fn=<MseLossBackward>)\n",
      "tensor(60.0921, grad_fn=<MseLossBackward>)\n"
     ]
    },
    {
     "name": "stdout",
     "output_type": "stream",
     "text": [
      "tensor(59.9768, grad_fn=<MseLossBackward>)\n",
      "tensor(59.9659, grad_fn=<MseLossBackward>)\n",
      "tensor(59.8721, grad_fn=<MseLossBackward>)\n",
      "tensor(59.9042, grad_fn=<MseLossBackward>)\n",
      "tensor(59.8142, grad_fn=<MseLossBackward>)\n",
      "tensor(59.8305, grad_fn=<MseLossBackward>)\n",
      "tensor(59.8289, grad_fn=<MseLossBackward>)\n",
      "tensor(59.7168, grad_fn=<MseLossBackward>)\n",
      "tensor(59.6914, grad_fn=<MseLossBackward>)\n",
      "tensor(59.6514, grad_fn=<MseLossBackward>)\n",
      "tensor(59.7360, grad_fn=<MseLossBackward>)\n",
      "tensor(59.6417, grad_fn=<MseLossBackward>)\n",
      "tensor(59.5069, grad_fn=<MseLossBackward>)\n",
      "tensor(59.8106, grad_fn=<MseLossBackward>)\n",
      "tensor(59.5199, grad_fn=<MseLossBackward>)\n",
      "tensor(59.8734, grad_fn=<MseLossBackward>)\n",
      "tensor(59.8112, grad_fn=<MseLossBackward>)\n",
      "tensor(59.5123, grad_fn=<MseLossBackward>)\n",
      "tensor(59.8609, grad_fn=<MseLossBackward>)\n",
      "tensor(59.6609, grad_fn=<MseLossBackward>)\n",
      "tensor(59.5751, grad_fn=<MseLossBackward>)\n",
      "tensor(59.6976, grad_fn=<MseLossBackward>)\n",
      "tensor(59.4245, grad_fn=<MseLossBackward>)\n",
      "tensor(59.4464, grad_fn=<MseLossBackward>)\n",
      "tensor(59.3721, grad_fn=<MseLossBackward>)\n",
      "tensor(59.2900, grad_fn=<MseLossBackward>)\n",
      "tensor(59.4111, grad_fn=<MseLossBackward>)\n",
      "tensor(59.2518, grad_fn=<MseLossBackward>)\n",
      "tensor(59.5896, grad_fn=<MseLossBackward>)\n",
      "tensor(59.5027, grad_fn=<MseLossBackward>)\n",
      "tensor(59.2969, grad_fn=<MseLossBackward>)\n",
      "tensor(59.3143, grad_fn=<MseLossBackward>)\n",
      "tensor(59.2851, grad_fn=<MseLossBackward>)\n",
      "tensor(59.2426, grad_fn=<MseLossBackward>)\n",
      "tensor(59.2700, grad_fn=<MseLossBackward>)\n",
      "tensor(59.2299, grad_fn=<MseLossBackward>)\n",
      "tensor(59.2363, grad_fn=<MseLossBackward>)\n",
      "tensor(59.1200, grad_fn=<MseLossBackward>)\n",
      "tensor(59.2971, grad_fn=<MseLossBackward>)\n",
      "tensor(59.2526, grad_fn=<MseLossBackward>)\n",
      "tensor(59.0915, grad_fn=<MseLossBackward>)\n",
      "tensor(59.1468, grad_fn=<MseLossBackward>)\n",
      "tensor(59.0157, grad_fn=<MseLossBackward>)\n",
      "tensor(58.9477, grad_fn=<MseLossBackward>)\n",
      "tensor(58.9220, grad_fn=<MseLossBackward>)\n",
      "tensor(58.9025, grad_fn=<MseLossBackward>)\n",
      "tensor(59.0505, grad_fn=<MseLossBackward>)\n",
      "tensor(58.8750, grad_fn=<MseLossBackward>)\n",
      "tensor(59.0562, grad_fn=<MseLossBackward>)\n",
      "tensor(58.8659, grad_fn=<MseLossBackward>)\n",
      "tensor(59.2391, grad_fn=<MseLossBackward>)\n",
      "tensor(59.1244, grad_fn=<MseLossBackward>)\n",
      "tensor(58.8988, grad_fn=<MseLossBackward>)\n",
      "tensor(58.9524, grad_fn=<MseLossBackward>)\n",
      "tensor(58.8463, grad_fn=<MseLossBackward>)\n",
      "tensor(58.9139, grad_fn=<MseLossBackward>)\n",
      "tensor(58.7554, grad_fn=<MseLossBackward>)\n",
      "tensor(58.6892, grad_fn=<MseLossBackward>)\n",
      "tensor(58.6775, grad_fn=<MseLossBackward>)\n",
      "tensor(58.6948, grad_fn=<MseLossBackward>)\n",
      "tensor(58.8112, grad_fn=<MseLossBackward>)\n",
      "tensor(58.6358, grad_fn=<MseLossBackward>)\n",
      "tensor(58.8461, grad_fn=<MseLossBackward>)\n",
      "tensor(58.6666, grad_fn=<MseLossBackward>)\n",
      "tensor(58.9221, grad_fn=<MseLossBackward>)\n",
      "tensor(58.7483, grad_fn=<MseLossBackward>)\n",
      "tensor(58.7915, grad_fn=<MseLossBackward>)\n",
      "tensor(58.7979, grad_fn=<MseLossBackward>)\n",
      "tensor(58.5948, grad_fn=<MseLossBackward>)\n",
      "tensor(58.6952, grad_fn=<MseLossBackward>)\n",
      "tensor(58.4817, grad_fn=<MseLossBackward>)\n",
      "tensor(58.7816, grad_fn=<MseLossBackward>)\n",
      "tensor(58.5232, grad_fn=<MseLossBackward>)\n",
      "tensor(58.8248, grad_fn=<MseLossBackward>)\n",
      "tensor(58.6857, grad_fn=<MseLossBackward>)\n",
      "tensor(58.5618, grad_fn=<MseLossBackward>)\n",
      "tensor(58.6754, grad_fn=<MseLossBackward>)\n",
      "tensor(58.3220, grad_fn=<MseLossBackward>)\n",
      "tensor(58.5737, grad_fn=<MseLossBackward>)\n",
      "tensor(58.3028, grad_fn=<MseLossBackward>)\n",
      "tensor(58.5570, grad_fn=<MseLossBackward>)\n",
      "tensor(58.4525, grad_fn=<MseLossBackward>)\n",
      "tensor(58.3722, grad_fn=<MseLossBackward>)\n",
      "tensor(58.3741, grad_fn=<MseLossBackward>)\n",
      "tensor(58.3350, grad_fn=<MseLossBackward>)\n",
      "tensor(58.3037, grad_fn=<MseLossBackward>)\n",
      "tensor(58.3063, grad_fn=<MseLossBackward>)\n",
      "tensor(58.2390, grad_fn=<MseLossBackward>)\n",
      "tensor(58.2285, grad_fn=<MseLossBackward>)\n",
      "tensor(58.0868, grad_fn=<MseLossBackward>)\n",
      "tensor(58.0664, grad_fn=<MseLossBackward>)\n",
      "tensor(58.0519, grad_fn=<MseLossBackward>)\n",
      "tensor(58.0070, grad_fn=<MseLossBackward>)\n",
      "tensor(58.1069, grad_fn=<MseLossBackward>)\n",
      "tensor(57.9849, grad_fn=<MseLossBackward>)\n",
      "tensor(57.9828, grad_fn=<MseLossBackward>)\n",
      "tensor(57.9666, grad_fn=<MseLossBackward>)\n",
      "tensor(57.9156, grad_fn=<MseLossBackward>)\n",
      "tensor(57.9744, grad_fn=<MseLossBackward>)\n",
      "tensor(57.8932, grad_fn=<MseLossBackward>)\n",
      "tensor(57.8566, grad_fn=<MseLossBackward>)\n",
      "tensor(57.8679, grad_fn=<MseLossBackward>)\n",
      "tensor(57.8683, grad_fn=<MseLossBackward>)\n",
      "tensor(57.7725, grad_fn=<MseLossBackward>)\n",
      "tensor(57.7835, grad_fn=<MseLossBackward>)\n",
      "tensor(57.7244, grad_fn=<MseLossBackward>)\n",
      "tensor(57.8420, grad_fn=<MseLossBackward>)\n",
      "tensor(57.7216, grad_fn=<MseLossBackward>)\n",
      "tensor(57.6940, grad_fn=<MseLossBackward>)\n",
      "tensor(57.7380, grad_fn=<MseLossBackward>)\n",
      "tensor(57.6144, grad_fn=<MseLossBackward>)\n",
      "tensor(57.6125, grad_fn=<MseLossBackward>)\n",
      "tensor(57.5684, grad_fn=<MseLossBackward>)\n",
      "tensor(57.6159, grad_fn=<MseLossBackward>)\n",
      "tensor(57.5012, grad_fn=<MseLossBackward>)\n",
      "tensor(57.7119, grad_fn=<MseLossBackward>)\n",
      "tensor(57.4693, grad_fn=<MseLossBackward>)\n",
      "tensor(57.5848, grad_fn=<MseLossBackward>)\n",
      "tensor(57.4686, grad_fn=<MseLossBackward>)\n",
      "tensor(57.3834, grad_fn=<MseLossBackward>)\n",
      "tensor(57.3648, grad_fn=<MseLossBackward>)\n",
      "tensor(57.3190, grad_fn=<MseLossBackward>)\n",
      "tensor(57.4315, grad_fn=<MseLossBackward>)\n",
      "tensor(57.3930, grad_fn=<MseLossBackward>)\n",
      "tensor(57.2451, grad_fn=<MseLossBackward>)\n",
      "tensor(57.4581, grad_fn=<MseLossBackward>)\n",
      "tensor(57.1986, grad_fn=<MseLossBackward>)\n",
      "tensor(57.2528, grad_fn=<MseLossBackward>)\n",
      "tensor(57.2936, grad_fn=<MseLossBackward>)\n",
      "tensor(57.1049, grad_fn=<MseLossBackward>)\n",
      "tensor(57.1448, grad_fn=<MseLossBackward>)\n",
      "tensor(57.0637, grad_fn=<MseLossBackward>)\n",
      "tensor(57.1652, grad_fn=<MseLossBackward>)\n",
      "tensor(57.1570, grad_fn=<MseLossBackward>)\n",
      "tensor(56.9986, grad_fn=<MseLossBackward>)\n",
      "tensor(57.1244, grad_fn=<MseLossBackward>)\n",
      "tensor(56.9971, grad_fn=<MseLossBackward>)\n",
      "tensor(56.8917, grad_fn=<MseLossBackward>)\n",
      "tensor(56.9985, grad_fn=<MseLossBackward>)\n",
      "tensor(56.8751, grad_fn=<MseLossBackward>)\n",
      "tensor(56.9332, grad_fn=<MseLossBackward>)\n",
      "tensor(57.0198, grad_fn=<MseLossBackward>)\n",
      "tensor(56.7721, grad_fn=<MseLossBackward>)\n",
      "tensor(56.8222, grad_fn=<MseLossBackward>)\n",
      "tensor(56.6765, grad_fn=<MseLossBackward>)\n",
      "tensor(56.9542, grad_fn=<MseLossBackward>)\n",
      "tensor(56.6824, grad_fn=<MseLossBackward>)\n",
      "tensor(56.7681, grad_fn=<MseLossBackward>)\n",
      "tensor(56.9265, grad_fn=<MseLossBackward>)\n",
      "tensor(56.7067, grad_fn=<MseLossBackward>)\n",
      "tensor(57.2056, grad_fn=<MseLossBackward>)\n",
      "tensor(56.5037, grad_fn=<MseLossBackward>)\n",
      "tensor(57.1792, grad_fn=<MseLossBackward>)\n",
      "tensor(56.7450, grad_fn=<MseLossBackward>)\n",
      "tensor(57.2235, grad_fn=<MseLossBackward>)\n",
      "tensor(56.5691, grad_fn=<MseLossBackward>)\n",
      "tensor(57.1670, grad_fn=<MseLossBackward>)\n",
      "tensor(57.1597, grad_fn=<MseLossBackward>)\n",
      "tensor(56.4252, grad_fn=<MseLossBackward>)\n",
      "tensor(57.4166, grad_fn=<MseLossBackward>)\n",
      "tensor(56.2425, grad_fn=<MseLossBackward>)\n",
      "tensor(57.2387, grad_fn=<MseLossBackward>)\n",
      "tensor(56.7597, grad_fn=<MseLossBackward>)\n",
      "tensor(56.8343, grad_fn=<MseLossBackward>)\n",
      "tensor(56.4032, grad_fn=<MseLossBackward>)\n",
      "tensor(56.7110, grad_fn=<MseLossBackward>)\n",
      "tensor(56.9065, grad_fn=<MseLossBackward>)\n",
      "tensor(56.2837, grad_fn=<MseLossBackward>)\n",
      "tensor(56.5923, grad_fn=<MseLossBackward>)\n",
      "tensor(55.9427, grad_fn=<MseLossBackward>)\n",
      "tensor(56.5779, grad_fn=<MseLossBackward>)\n",
      "tensor(56.0352, grad_fn=<MseLossBackward>)\n",
      "tensor(56.3184, grad_fn=<MseLossBackward>)\n",
      "tensor(55.8479, grad_fn=<MseLossBackward>)\n",
      "tensor(56.2837, grad_fn=<MseLossBackward>)\n",
      "tensor(55.9246, grad_fn=<MseLossBackward>)\n",
      "tensor(56.6404, grad_fn=<MseLossBackward>)\n",
      "tensor(55.6632, grad_fn=<MseLossBackward>)\n",
      "tensor(55.8184, grad_fn=<MseLossBackward>)\n",
      "tensor(55.8995, grad_fn=<MseLossBackward>)\n",
      "tensor(55.7771, grad_fn=<MseLossBackward>)\n",
      "tensor(55.8535, grad_fn=<MseLossBackward>)\n",
      "tensor(55.5982, grad_fn=<MseLossBackward>)\n",
      "tensor(55.7108, grad_fn=<MseLossBackward>)\n",
      "tensor(55.5471, grad_fn=<MseLossBackward>)\n",
      "tensor(55.3724, grad_fn=<MseLossBackward>)\n",
      "tensor(55.3447, grad_fn=<MseLossBackward>)\n",
      "tensor(55.3697, grad_fn=<MseLossBackward>)\n",
      "tensor(55.3869, grad_fn=<MseLossBackward>)\n",
      "tensor(55.2460, grad_fn=<MseLossBackward>)\n",
      "tensor(55.5109, grad_fn=<MseLossBackward>)\n",
      "tensor(55.1509, grad_fn=<MseLossBackward>)\n",
      "tensor(55.2820, grad_fn=<MseLossBackward>)\n",
      "tensor(55.2161, grad_fn=<MseLossBackward>)\n",
      "tensor(55.0373, grad_fn=<MseLossBackward>)\n",
      "tensor(55.0451, grad_fn=<MseLossBackward>)\n"
     ]
    },
    {
     "name": "stdout",
     "output_type": "stream",
     "text": [
      "tensor(54.9571, grad_fn=<MseLossBackward>)\n",
      "tensor(54.9658, grad_fn=<MseLossBackward>)\n",
      "tensor(54.8781, grad_fn=<MseLossBackward>)\n",
      "tensor(54.9467, grad_fn=<MseLossBackward>)\n",
      "tensor(54.9534, grad_fn=<MseLossBackward>)\n",
      "tensor(54.7358, grad_fn=<MseLossBackward>)\n",
      "tensor(54.9576, grad_fn=<MseLossBackward>)\n",
      "tensor(54.8180, grad_fn=<MseLossBackward>)\n",
      "tensor(54.6363, grad_fn=<MseLossBackward>)\n",
      "tensor(54.8081, grad_fn=<MseLossBackward>)\n",
      "tensor(54.5921, grad_fn=<MseLossBackward>)\n",
      "tensor(54.6016, grad_fn=<MseLossBackward>)\n",
      "tensor(54.6936, grad_fn=<MseLossBackward>)\n",
      "tensor(54.4227, grad_fn=<MseLossBackward>)\n",
      "tensor(54.4344, grad_fn=<MseLossBackward>)\n",
      "tensor(54.3349, grad_fn=<MseLossBackward>)\n",
      "tensor(54.3897, grad_fn=<MseLossBackward>)\n",
      "tensor(54.2372, grad_fn=<MseLossBackward>)\n",
      "tensor(54.4454, grad_fn=<MseLossBackward>)\n",
      "tensor(54.3230, grad_fn=<MseLossBackward>)\n",
      "tensor(54.2710, grad_fn=<MseLossBackward>)\n",
      "tensor(54.5483, grad_fn=<MseLossBackward>)\n",
      "tensor(54.0366, grad_fn=<MseLossBackward>)\n",
      "tensor(54.2273, grad_fn=<MseLossBackward>)\n",
      "tensor(54.0338, grad_fn=<MseLossBackward>)\n",
      "tensor(53.9568, grad_fn=<MseLossBackward>)\n",
      "tensor(53.9181, grad_fn=<MseLossBackward>)\n",
      "tensor(54.2045, grad_fn=<MseLossBackward>)\n",
      "tensor(54.5823, grad_fn=<MseLossBackward>)\n",
      "tensor(54.0215, grad_fn=<MseLossBackward>)\n",
      "tensor(53.8065, grad_fn=<MseLossBackward>)\n",
      "tensor(54.5027, grad_fn=<MseLossBackward>)\n",
      "tensor(53.8819, grad_fn=<MseLossBackward>)\n",
      "tensor(53.7054, grad_fn=<MseLossBackward>)\n",
      "tensor(53.7122, grad_fn=<MseLossBackward>)\n",
      "tensor(53.5921, grad_fn=<MseLossBackward>)\n",
      "tensor(53.8042, grad_fn=<MseLossBackward>)\n",
      "tensor(53.6172, grad_fn=<MseLossBackward>)\n",
      "tensor(53.5452, grad_fn=<MseLossBackward>)\n",
      "tensor(53.7560, grad_fn=<MseLossBackward>)\n",
      "tensor(53.4243, grad_fn=<MseLossBackward>)\n",
      "tensor(53.4127, grad_fn=<MseLossBackward>)\n",
      "tensor(53.5153, grad_fn=<MseLossBackward>)\n",
      "tensor(53.3050, grad_fn=<MseLossBackward>)\n",
      "tensor(53.2722, grad_fn=<MseLossBackward>)\n",
      "tensor(53.2679, grad_fn=<MseLossBackward>)\n",
      "tensor(53.4458, grad_fn=<MseLossBackward>)\n",
      "tensor(53.2170, grad_fn=<MseLossBackward>)\n",
      "tensor(53.1527, grad_fn=<MseLossBackward>)\n",
      "tensor(53.0618, grad_fn=<MseLossBackward>)\n",
      "tensor(53.1020, grad_fn=<MseLossBackward>)\n",
      "tensor(53.2824, grad_fn=<MseLossBackward>)\n",
      "tensor(53.1081, grad_fn=<MseLossBackward>)\n",
      "tensor(52.9616, grad_fn=<MseLossBackward>)\n",
      "tensor(52.8967, grad_fn=<MseLossBackward>)\n",
      "tensor(53.0828, grad_fn=<MseLossBackward>)\n",
      "tensor(52.8718, grad_fn=<MseLossBackward>)\n",
      "tensor(52.8024, grad_fn=<MseLossBackward>)\n",
      "tensor(52.9463, grad_fn=<MseLossBackward>)\n",
      "tensor(52.9176, grad_fn=<MseLossBackward>)\n",
      "tensor(52.6374, grad_fn=<MseLossBackward>)\n",
      "tensor(52.9606, grad_fn=<MseLossBackward>)\n",
      "tensor(52.9505, grad_fn=<MseLossBackward>)\n",
      "tensor(52.6872, grad_fn=<MseLossBackward>)\n",
      "tensor(52.5247, grad_fn=<MseLossBackward>)\n",
      "tensor(52.4925, grad_fn=<MseLossBackward>)\n",
      "tensor(52.5492, grad_fn=<MseLossBackward>)\n",
      "tensor(52.6485, grad_fn=<MseLossBackward>)\n",
      "tensor(52.4470, grad_fn=<MseLossBackward>)\n",
      "tensor(52.4161, grad_fn=<MseLossBackward>)\n",
      "tensor(52.3254, grad_fn=<MseLossBackward>)\n",
      "tensor(52.3429, grad_fn=<MseLossBackward>)\n",
      "tensor(52.5778, grad_fn=<MseLossBackward>)\n",
      "tensor(52.5600, grad_fn=<MseLossBackward>)\n",
      "tensor(52.1672, grad_fn=<MseLossBackward>)\n",
      "tensor(52.2639, grad_fn=<MseLossBackward>)\n",
      "tensor(52.4426, grad_fn=<MseLossBackward>)\n",
      "tensor(52.1105, grad_fn=<MseLossBackward>)\n",
      "tensor(52.0596, grad_fn=<MseLossBackward>)\n",
      "tensor(52.2523, grad_fn=<MseLossBackward>)\n",
      "tensor(52.2112, grad_fn=<MseLossBackward>)\n",
      "tensor(51.9380, grad_fn=<MseLossBackward>)\n",
      "tensor(51.9590, grad_fn=<MseLossBackward>)\n",
      "tensor(51.8666, grad_fn=<MseLossBackward>)\n",
      "tensor(51.8867, grad_fn=<MseLossBackward>)\n",
      "tensor(51.8672, grad_fn=<MseLossBackward>)\n",
      "tensor(51.7655, grad_fn=<MseLossBackward>)\n",
      "tensor(51.8075, grad_fn=<MseLossBackward>)\n",
      "tensor(52.4842, grad_fn=<MseLossBackward>)\n",
      "tensor(52.8827, grad_fn=<MseLossBackward>)\n",
      "tensor(52.0245, grad_fn=<MseLossBackward>)\n",
      "tensor(54.4493, grad_fn=<MseLossBackward>)\n",
      "tensor(54.0050, grad_fn=<MseLossBackward>)\n",
      "tensor(54.6154, grad_fn=<MseLossBackward>)\n",
      "tensor(51.8839, grad_fn=<MseLossBackward>)\n",
      "tensor(54.8110, grad_fn=<MseLossBackward>)\n",
      "tensor(53.7799, grad_fn=<MseLossBackward>)\n",
      "tensor(55.2785, grad_fn=<MseLossBackward>)\n",
      "tensor(53.3834, grad_fn=<MseLossBackward>)\n",
      "tensor(54.0531, grad_fn=<MseLossBackward>)\n",
      "tensor(52.1772, grad_fn=<MseLossBackward>)\n",
      "tensor(52.5622, grad_fn=<MseLossBackward>)\n",
      "tensor(52.1438, grad_fn=<MseLossBackward>)\n",
      "tensor(52.3910, grad_fn=<MseLossBackward>)\n",
      "tensor(51.7323, grad_fn=<MseLossBackward>)\n",
      "tensor(52.4126, grad_fn=<MseLossBackward>)\n",
      "tensor(51.7843, grad_fn=<MseLossBackward>)\n",
      "tensor(52.3192, grad_fn=<MseLossBackward>)\n",
      "tensor(51.8995, grad_fn=<MseLossBackward>)\n",
      "tensor(51.9678, grad_fn=<MseLossBackward>)\n",
      "tensor(52.2009, grad_fn=<MseLossBackward>)\n",
      "tensor(51.5400, grad_fn=<MseLossBackward>)\n",
      "tensor(52.1143, grad_fn=<MseLossBackward>)\n",
      "tensor(51.5967, grad_fn=<MseLossBackward>)\n",
      "tensor(51.8614, grad_fn=<MseLossBackward>)\n",
      "tensor(51.6876, grad_fn=<MseLossBackward>)\n",
      "tensor(51.4765, grad_fn=<MseLossBackward>)\n",
      "tensor(52.1644, grad_fn=<MseLossBackward>)\n",
      "tensor(51.5981, grad_fn=<MseLossBackward>)\n",
      "tensor(51.4829, grad_fn=<MseLossBackward>)\n",
      "tensor(52.1545, grad_fn=<MseLossBackward>)\n",
      "tensor(51.4329, grad_fn=<MseLossBackward>)\n",
      "tensor(51.8747, grad_fn=<MseLossBackward>)\n",
      "tensor(51.5460, grad_fn=<MseLossBackward>)\n",
      "tensor(51.3522, grad_fn=<MseLossBackward>)\n",
      "tensor(51.5590, grad_fn=<MseLossBackward>)\n",
      "tensor(51.2303, grad_fn=<MseLossBackward>)\n",
      "tensor(51.3751, grad_fn=<MseLossBackward>)\n",
      "tensor(51.1928, grad_fn=<MseLossBackward>)\n",
      "tensor(51.4226, grad_fn=<MseLossBackward>)\n",
      "tensor(51.3101, grad_fn=<MseLossBackward>)\n",
      "tensor(51.2938, grad_fn=<MseLossBackward>)\n",
      "tensor(51.4538, grad_fn=<MseLossBackward>)\n",
      "tensor(51.1274, grad_fn=<MseLossBackward>)\n",
      "tensor(51.2978, grad_fn=<MseLossBackward>)\n",
      "tensor(51.0929, grad_fn=<MseLossBackward>)\n",
      "tensor(51.1838, grad_fn=<MseLossBackward>)\n",
      "tensor(51.0704, grad_fn=<MseLossBackward>)\n",
      "tensor(51.0462, grad_fn=<MseLossBackward>)\n",
      "tensor(51.1384, grad_fn=<MseLossBackward>)\n",
      "tensor(50.9832, grad_fn=<MseLossBackward>)\n",
      "tensor(50.9665, grad_fn=<MseLossBackward>)\n",
      "tensor(51.0188, grad_fn=<MseLossBackward>)\n",
      "tensor(50.9529, grad_fn=<MseLossBackward>)\n",
      "tensor(50.8817, grad_fn=<MseLossBackward>)\n",
      "tensor(50.9700, grad_fn=<MseLossBackward>)\n",
      "tensor(50.8319, grad_fn=<MseLossBackward>)\n",
      "tensor(50.8605, grad_fn=<MseLossBackward>)\n",
      "tensor(50.8412, grad_fn=<MseLossBackward>)\n",
      "tensor(50.7792, grad_fn=<MseLossBackward>)\n",
      "tensor(50.8329, grad_fn=<MseLossBackward>)\n",
      "tensor(50.7448, grad_fn=<MseLossBackward>)\n",
      "tensor(50.7785, grad_fn=<MseLossBackward>)\n",
      "tensor(51.1923, grad_fn=<MseLossBackward>)\n",
      "tensor(50.9332, grad_fn=<MseLossBackward>)\n",
      "tensor(50.6965, grad_fn=<MseLossBackward>)\n",
      "tensor(50.8188, grad_fn=<MseLossBackward>)\n",
      "tensor(50.7502, grad_fn=<MseLossBackward>)\n",
      "tensor(50.6855, grad_fn=<MseLossBackward>)\n",
      "tensor(50.7699, grad_fn=<MseLossBackward>)\n",
      "tensor(50.6280, grad_fn=<MseLossBackward>)\n",
      "tensor(50.6698, grad_fn=<MseLossBackward>)\n",
      "tensor(50.6879, grad_fn=<MseLossBackward>)\n",
      "tensor(50.5579, grad_fn=<MseLossBackward>)\n",
      "tensor(50.6697, grad_fn=<MseLossBackward>)\n",
      "tensor(50.8776, grad_fn=<MseLossBackward>)\n",
      "tensor(50.5816, grad_fn=<MseLossBackward>)\n",
      "tensor(50.6263, grad_fn=<MseLossBackward>)\n",
      "tensor(51.2297, grad_fn=<MseLossBackward>)\n",
      "tensor(51.0455, grad_fn=<MseLossBackward>)\n",
      "tensor(50.5112, grad_fn=<MseLossBackward>)\n",
      "tensor(51.0913, grad_fn=<MseLossBackward>)\n",
      "tensor(51.0599, grad_fn=<MseLossBackward>)\n",
      "tensor(50.5045, grad_fn=<MseLossBackward>)\n",
      "tensor(51.2062, grad_fn=<MseLossBackward>)\n",
      "tensor(51.1284, grad_fn=<MseLossBackward>)\n",
      "tensor(50.5302, grad_fn=<MseLossBackward>)\n",
      "tensor(52.2995, grad_fn=<MseLossBackward>)\n",
      "tensor(51.9164, grad_fn=<MseLossBackward>)\n",
      "tensor(51.6105, grad_fn=<MseLossBackward>)\n",
      "tensor(51.9946, grad_fn=<MseLossBackward>)\n",
      "tensor(50.4350, grad_fn=<MseLossBackward>)\n",
      "tensor(51.4007, grad_fn=<MseLossBackward>)\n",
      "tensor(50.5522, grad_fn=<MseLossBackward>)\n",
      "tensor(51.2034, grad_fn=<MseLossBackward>)\n",
      "tensor(51.7779, grad_fn=<MseLossBackward>)\n"
     ]
    }
   ],
   "source": [
    "for model in models:\n",
    "    loss_obj = torch.nn.MSELoss()\n",
    "    optimizer = torch.optim.Adam(model.parameters())\n",
    "    for i in range(config.training_epochs):\n",
    "        model.train()\n",
    "        optimizer.zero_grad()\n",
    "        for X, y in dataset_train:\n",
    "            y_pred = model(X)\n",
    "            loss = loss_obj(y_pred, y)\n",
    "            loss.backward()\n",
    "            optimizer.step()\n",
    "        print(loss)"
   ]
  },
  {
   "cell_type": "code",
   "execution_count": 93,
   "metadata": {},
   "outputs": [
    {
     "name": "stdout",
     "output_type": "stream",
     "text": [
      "0.7817431196993259\n",
      "0.17428314137621592\n",
      "0.4264644583927174\n",
      "0.40957413280092336\n",
      "0.23999656043554618\n"
     ]
    }
   ],
   "source": [
    "for model in models:\n",
    "    y_pred = model(X_test)\n",
    "    y_test_numpy = y_test.detach().numpy()\n",
    "    y_pred_numpy = y_pred.detach().numpy()\n",
    "    print(r2_score(y_test_numpy, y_pred_numpy))"
   ]
  },
  {
   "cell_type": "code",
   "execution_count": 94,
   "metadata": {},
   "outputs": [],
   "source": [
    "import nam.utils.graphing as graphing"
   ]
  },
  {
   "cell_type": "code",
   "execution_count": 95,
   "metadata": {},
   "outputs": [
    {
     "data": {
      "image/png": "[encoded data removed]",
      "text/plain": [
       "<Figure size 1080x648 with 15 Axes>"
      ]
     },
     "metadata": {
      "needs_background": "light"
     },
     "output_type": "display_data"
    }
   ],
   "source": [
    "graphing.nam_plot(X_train, models)"
   ]
  },
  {
   "cell_type": "code",
   "execution_count": null,
   "metadata": {},
   "outputs": [],
   "source": []
  }
 ],
 "metadata": {
  "kernelspec": {
   "display_name": "Python 3",
   "language": "python",
   "name": "python3"
  },
  "language_info": {
   "codemirror_mode": {
    "name": "ipython",
    "version": 3
   },
   "file_extension": ".py",
   "mimetype": "text/x-python",
   "name": "python",
   "nbconvert_exporter": "python",
   "pygments_lexer": "ipython3",
   "version": "3.7.9"
  }
 },
 "nbformat": 4,
 "nbformat_minor": 4
}
